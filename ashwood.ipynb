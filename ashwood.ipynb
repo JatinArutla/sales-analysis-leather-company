{
 "cells": [
  {
   "cell_type": "code",
   "execution_count": 1,
   "metadata": {},
   "outputs": [],
   "source": [
    "import pandas as pd\n",
    "import numpy as np"
   ]
  },
  {
   "cell_type": "code",
   "execution_count": 2,
   "metadata": {},
   "outputs": [
    {
     "name": "stderr",
     "output_type": "stream",
     "text": [
      "C:\\Users\\retai\\AppData\\Local\\Temp\\ipykernel_8696\\206966295.py:1: DtypeWarning: Columns (12) have mixed types. Specify dtype option on import or set low_memory=False.\n",
      "  df = pd.read_csv('debenhams orders 10 may.csv', sep=';')\n",
      "C:\\Users\\retai\\AppData\\Local\\Temp\\ipykernel_8696\\206966295.py:11: UserWarning: Parsing dates in %d/%m/%Y format when dayfirst=False (the default) was specified. Pass `dayfirst=True` or specify a format to silence this warning.\n",
      "  df['date'] = pd.to_datetime(df['date'])\n"
     ]
    }
   ],
   "source": [
    "df = pd.read_csv('debenhams orders 10 may.csv', sep=';')\n",
    "temp2_df = df['Date created'].str.split('-', expand=True)\n",
    "temp2_df.columns = ['f_', 's_']\n",
    "temp2_df['f_'] = temp2_df['f_'].str.replace('...', '')\n",
    "temp2_df['f_'] = temp2_df['f_'].str.lstrip()\n",
    "temp2_df['f_'] = temp2_df['f_'].str.rstrip()\n",
    "temp2_df['s_'] = temp2_df['s_'].str.lstrip()\n",
    "temp2_df['s_'] = temp2_df['s_'].str.rstrip()\n",
    "df['date'] = temp2_df['f_']\n",
    "df['time'] = temp2_df['s_']\n",
    "df['date'] = pd.to_datetime(df['date'])\n",
    "df['date'] = df['date'].dt.date\n",
    "df['Channel'] = 'Debenhams'\n",
    "\n",
    "df['Status'] = df['Status'].replace('Shipped', 'Order Dispatched')\n",
    "df['Status'] = df['Status'].replace('Shipped', 'Order Dispatched')\n",
    "df['Status'] = df['Status'].replace('Received', 'Order Dispatched')\n",
    "df['Status'] = df['Status'].replace('Closed', 'Order Dispatched')\n",
    "df['Status'] = df['Status'].replace('Refunded', 'Order Refunded')\n",
    "\n",
    "\n",
    "temp2_df = df['Details'].str.split('(', expand=True)\n",
    "temp2_df.columns = ['f_', 's_']\n",
    "temp2_df['f_'] = temp2_df['f_'].str.lstrip()\n",
    "temp2_df['f_'] = temp2_df['f_'].str.rstrip()\n",
    "temp2_df['s_'] = temp2_df['s_'].str.lstrip()\n",
    "temp2_df['s_'] = temp2_df['s_'].str.rstrip()\n",
    "df['Details'] = temp2_df['f_']"
   ]
  },
  {
   "cell_type": "code",
   "execution_count": 3,
   "metadata": {},
   "outputs": [],
   "source": [
    "df_orig = pd.read_csv('2024_may27_orders fixed_categories.csv')\n",
    "df_orig['Channel'] = 'Leather Company'"
   ]
  },
  {
   "cell_type": "code",
   "execution_count": 4,
   "metadata": {},
   "outputs": [],
   "source": [
    "l = ['title', 'line', 'model', 'manufacturer_name', 'attribute_summary', 'colour', 'F_Cat', 'S_Cat', 'T_Cat', 'Category']\n",
    "dict_title = pd.Series(df_orig.title.values,index=df_orig.reference).to_dict()\n",
    "dict_line = pd.Series(df_orig.line.values,index=df_orig.reference).to_dict()\n",
    "dict_model = pd.Series(df_orig.model.values,index=df_orig.reference).to_dict()\n",
    "dict_manufacturer_name = pd.Series(df_orig.manufacturer_name.values,index=df_orig.reference).to_dict()\n",
    "dict_attribute_summary = pd.Series(df_orig.attribute_summary.values,index=df_orig.reference).to_dict()\n",
    "# dict_customs_description = pd.Series(df_orig.customs_description.values,index=df_orig.reference).to_dict()\n",
    "dict_colour = pd.Series(df_orig.colour.values,index=df_orig.reference).to_dict()\n",
    "dict_F_Cat = pd.Series(df_orig.F_Cat.values,index=df_orig.reference).to_dict()\n",
    "dict_S_Cat = pd.Series(df_orig.S_Cat.values,index=df_orig.reference).to_dict()\n",
    "dict_T_Cat = pd.Series(df_orig.T_Cat.values,index=df_orig.reference).to_dict()\n",
    "dict_Category = pd.Series(df_orig.Category.values,index=df_orig.reference).to_dict()"
   ]
  },
  {
   "cell_type": "code",
   "execution_count": 5,
   "metadata": {},
   "outputs": [],
   "source": [
    "df_stock = pd.read_csv('stock_levels_25_mar.csv')\n",
    "df_feed = pd.read_csv('product_feed.csv')\n",
    "df_feed.rename(columns={'MPN': 'model', 'REFERENCE': 'reference'}, inplace=True)\n",
    "\n",
    "dict_title_stock = pd.Series(df_stock.title.values,index=df_stock.reference).to_dict()\n",
    "dict_attribute_summary_stock = pd.Series(df_stock.attribute_summary.values,index=df_stock.reference).to_dict()\n",
    "dict_model_stock = pd.Series(df_stock.model.values,index=df_stock.reference).to_dict()\n",
    "dict_model_feed = pd.Series(df_feed.model.values,index=df_feed.reference).to_dict()\n",
    "\n",
    "dict_title =  dict_title_stock | dict_title\n",
    "dict_attribute_summary = dict_attribute_summary_stock | dict_attribute_summary\n",
    "dict_model = dict_model_feed | dict_model_stock | dict_model"
   ]
  },
  {
   "cell_type": "code",
   "execution_count": 6,
   "metadata": {},
   "outputs": [],
   "source": [
    "for i in l:\n",
    "    df[i] = df['Shop SKU']"
   ]
  },
  {
   "cell_type": "code",
   "execution_count": 7,
   "metadata": {},
   "outputs": [],
   "source": [
    "# df.replace({\"title\": dict_title}, inplace=True)\n",
    "# df.replace({\"line\": dict_line}, inplace=True)\n",
    "# df.replace({\"model\": dict_model}, inplace=True)\n",
    "# df.replace({\"manufacturer_name\": dict_manufacturer_name}, inplace=True)\n",
    "# df.replace({\"attribute_summary\": dict_attribute_summary}, inplace=True)\n",
    "# df.replace({\"customs_description\": dict_customs_description}, inplace=True)\n",
    "# df.replace({\"colour\": dict_colour}, inplace=True)\n",
    "# df.replace({\"F_Cat\": dict_F_Cat}, inplace=True)\n",
    "# df.replace({\"S_Cat\": dict_S_Cat}, inplace=True)\n",
    "# df.replace({\"T_Cat\": dict_T_Cat}, inplace=True)\n",
    "# df.replace({\"Category\": dict_Category}, inplace=True)\n",
    "\n",
    "df['title'] = df['title'].map(dict_title)\n",
    "df['line'] = df['line'].map(dict_line)\n",
    "df['model'] = df['model'].map(dict_model)\n",
    "df['manufacturer_name'] = df['manufacturer_name'].map(dict_manufacturer_name)\n",
    "df['attribute_summary'] = df['attribute_summary'].map(dict_attribute_summary)\n",
    "# df['customs_description'] = df['customs_description'].map(dict_customs_description)\n",
    "df['colour'] = df['colour'].map(dict_colour)\n",
    "df['F_Cat'] = df['F_Cat'].map(dict_F_Cat)\n",
    "df['S_Cat'] = df['S_Cat'].map(dict_S_Cat)\n",
    "df['T_Cat'] = df['T_Cat'].map(dict_T_Cat)\n",
    "df['Category'] = df['Category'].map(dict_Category)\n",
    "\n",
    "df['customs_description'] = df['model']\n",
    "dict_customs_model = pd.Series(df_orig.customs_description.values,index=df_orig.model).to_dict()\n",
    "df['customs_description'] = df['customs_description'].map(dict_customs_model)"
   ]
  },
  {
   "cell_type": "code",
   "execution_count": 8,
   "metadata": {},
   "outputs": [
    {
     "name": "stdout",
     "output_type": "stream",
     "text": [
      "title:  1459\n",
      "line:  5760\n",
      "model:  1459\n",
      "manufacturer_name:  5760\n",
      "attribute_summary:  1459\n",
      "colour:  6034\n",
      "F_Cat:  6355\n",
      "S_Cat:  6366\n",
      "T_Cat:  22904\n",
      "Category:  6366\n"
     ]
    }
   ],
   "source": [
    "for i in l:\n",
    "    print(f'{i}: ', df[i].isnull().sum())"
   ]
  },
  {
   "cell_type": "code",
   "execution_count": 9,
   "metadata": {},
   "outputs": [
    {
     "data": {
      "text/plain": [
       "(23137, 80)"
      ]
     },
     "execution_count": 9,
     "metadata": {},
     "output_type": "execute_result"
    }
   ],
   "source": [
    "df.shape"
   ]
  },
  {
   "cell_type": "code",
   "execution_count": 10,
   "metadata": {},
   "outputs": [
    {
     "data": {
      "text/plain": [
       "((3727, 80), (19410, 80))"
      ]
     },
     "execution_count": 10,
     "metadata": {},
     "output_type": "execute_result"
    }
   ],
   "source": [
    "df[df['customs_description'].isna()].shape, df[~df['customs_description'].isna()].shape"
   ]
  },
  {
   "cell_type": "code",
   "execution_count": 11,
   "metadata": {},
   "outputs": [
    {
     "name": "stderr",
     "output_type": "stream",
     "text": [
      "<>:9: SyntaxWarning: invalid escape sequence '\\('\n",
      "<>:9: SyntaxWarning: invalid escape sequence '\\('\n",
      "C:\\Users\\retai\\AppData\\Local\\Temp\\ipykernel_8696\\2937461329.py:9: SyntaxWarning: invalid escape sequence '\\('\n",
      "  temp_stock_df = temp_df['title'].str.split('\\(|\\)', expand=True).iloc[:,[0,1]]\n"
     ]
    }
   ],
   "source": [
    "temp_df = pd.read_csv('product_feed.csv')\n",
    "temp_df['PRODUCT TYPE'] = temp_df['PRODUCT TYPE'].str.replace('&gt;', '>')\n",
    "temp_df['PRODUCT TYPE'] = temp_df['PRODUCT TYPE'].str.replace('&amp;', '&')\n",
    "temp_df['PRODUCT TYPE'] = temp_df['PRODUCT TYPE'].str.replace('&#039;', \"'\")\n",
    "temp_df['TITLE'] = temp_df['TITLE'].str.replace('&gt;', '>')\n",
    "temp_df['TITLE'] = temp_df['TITLE'].str.replace('&amp;', '&')\n",
    "temp_df['TITLE'] = temp_df['TITLE'].str.replace('&#039;', \"'\")\n",
    "temp_df.rename(columns={'TITLE': 'title'}, inplace=True)\n",
    "temp_stock_df = temp_df['title'].str.split('\\(|\\)', expand=True).iloc[:,[0,1]]\n",
    "temp_df['title'] = temp_stock_df[0]\n",
    "temp_df['title'] = temp_df['title'].str.lstrip()\n",
    "temp_df['title'] = temp_df['title'].str.rstrip()\n",
    "temp_df.drop_duplicates(subset=['title'], inplace=True)\n",
    "temp_df = temp_df[['title', 'PRODUCT TYPE', 'MPN']]\n",
    "# temp_df['MPN'] = temp_df['MPN'].str.lower()\n",
    "\n",
    "dict_customs_model_feed= pd.Series(temp_df['PRODUCT TYPE'].values,index=temp_df.MPN).to_dict()"
   ]
  },
  {
   "cell_type": "code",
   "execution_count": 12,
   "metadata": {},
   "outputs": [
    {
     "data": {
      "text/html": [
       "<div>\n",
       "<style scoped>\n",
       "    .dataframe tbody tr th:only-of-type {\n",
       "        vertical-align: middle;\n",
       "    }\n",
       "\n",
       "    .dataframe tbody tr th {\n",
       "        vertical-align: top;\n",
       "    }\n",
       "\n",
       "    .dataframe thead th {\n",
       "        text-align: right;\n",
       "    }\n",
       "</style>\n",
       "<table border=\"1\" class=\"dataframe\">\n",
       "  <thead>\n",
       "    <tr style=\"text-align: right;\">\n",
       "      <th></th>\n",
       "      <th>Date created</th>\n",
       "      <th>Order number</th>\n",
       "      <th>Quantity</th>\n",
       "      <th>Details</th>\n",
       "      <th>Status</th>\n",
       "      <th>Amount</th>\n",
       "      <th>Currency</th>\n",
       "      <th>Shipping method</th>\n",
       "      <th>Customer debit date</th>\n",
       "      <th>Payment workflow</th>\n",
       "      <th>...</th>\n",
       "      <th>line</th>\n",
       "      <th>model</th>\n",
       "      <th>manufacturer_name</th>\n",
       "      <th>attribute_summary</th>\n",
       "      <th>colour</th>\n",
       "      <th>F_Cat</th>\n",
       "      <th>S_Cat</th>\n",
       "      <th>T_Cat</th>\n",
       "      <th>Category</th>\n",
       "      <th>customs_description</th>\n",
       "    </tr>\n",
       "  </thead>\n",
       "  <tbody>\n",
       "  </tbody>\n",
       "</table>\n",
       "<p>0 rows × 80 columns</p>\n",
       "</div>"
      ],
      "text/plain": [
       "Empty DataFrame\n",
       "Columns: [Date created, Order number, Quantity, Details, Status, Amount, Currency, Shipping method, Customer debit date, Payment workflow, Shop SKU, Reason, Offer SKU, Brand, Offer state, Order line no., Unit price, Shipping price, Shipping total amount, Order fees total amount, Total order amount incl. VAT (including shipping charges), Commission (excluding taxes), Commission value (including taxes), Amount transferred to shop (including taxes), Price additional information, Commission tax rate, Acceptance date, Shipping deadline, Shipping date, Received date, Shipping company, Tracking number, Tracking URL, Shipping address civility, Shipping address email, Shipping address first name, Shipping address last name, Shipping address company, Shipping address street 1, Shipping address street 2, Shipping Address Postcode, Shipping address city, Shipping Address County, Shipping address country, Shipping address phone, Shipping address phone 2, Shipping address additional information, Shipping address internal additional information, Billing address civility, Billing address first name, Billing address last name, Billing address company, Billing address street 1, Billing address street 2, Billing Address Postcode, Billing address city, Billing Address County, Billing address country, Billing address phone, Billing address phone 2, Payment method, Lead time to ship, PickUp DropOff point id, Customer order reference, Shop order reference, Fulfillment center code, date, time, Channel, title, line, model, manufacturer_name, attribute_summary, colour, F_Cat, S_Cat, T_Cat, Category, customs_description]\n",
       "Index: []\n",
       "\n",
       "[0 rows x 80 columns]"
      ]
     },
     "execution_count": 12,
     "metadata": {},
     "output_type": "execute_result"
    }
   ],
   "source": [
    "df_null = df[df['customs_description'].isna()]\n",
    "df_notnull = df[~df['customs_description'].isna()]\n",
    "\n",
    "df_null[df_null['model'] == 'PEDRO']"
   ]
  },
  {
   "cell_type": "code",
   "execution_count": 13,
   "metadata": {},
   "outputs": [
    {
     "data": {
      "text/plain": [
       "Index(['Date created', 'Order number', 'Quantity', 'Details', 'Status',\n",
       "       'Amount', 'Currency', 'Shipping method', 'Customer debit date',\n",
       "       'Payment workflow', 'Shop SKU', 'Reason', 'Offer SKU', 'Brand',\n",
       "       'Offer state', 'Order line no.', 'Unit price', 'Shipping price',\n",
       "       'Shipping total amount', 'Order fees total amount',\n",
       "       'Total order amount incl. VAT (including shipping charges)',\n",
       "       'Commission (excluding taxes)', 'Commission value (including taxes)',\n",
       "       'Amount transferred to shop (including taxes)',\n",
       "       'Price additional information', 'Commission tax rate',\n",
       "       'Acceptance date', 'Shipping deadline', 'Shipping date',\n",
       "       'Received date', 'Shipping company', 'Tracking number', 'Tracking URL',\n",
       "       'Shipping address civility', 'Shipping address email',\n",
       "       'Shipping address first name', 'Shipping address last name',\n",
       "       'Shipping address company', 'Shipping address street 1',\n",
       "       'Shipping address street 2', 'Shipping Address Postcode',\n",
       "       'Shipping address city', 'Shipping Address County',\n",
       "       'Shipping address country', 'Shipping address phone',\n",
       "       'Shipping address phone 2', 'Shipping address additional information',\n",
       "       'Shipping address internal additional information',\n",
       "       'Billing address civility', 'Billing address first name',\n",
       "       'Billing address last name', 'Billing address company',\n",
       "       'Billing address street 1', 'Billing address street 2',\n",
       "       'Billing Address Postcode', 'Billing address city',\n",
       "       'Billing Address County', 'Billing address country',\n",
       "       'Billing address phone', 'Billing address phone 2', 'Payment method',\n",
       "       'Lead time to ship', 'PickUp DropOff point id',\n",
       "       'Customer order reference', 'Shop order reference',\n",
       "       'Fulfillment center code', 'date', 'time', 'Channel', 'title', 'line',\n",
       "       'model', 'manufacturer_name', 'attribute_summary', 'colour', 'F_Cat',\n",
       "       'S_Cat', 'T_Cat', 'Category', 'customs_description'],\n",
       "      dtype='object')"
      ]
     },
     "execution_count": 13,
     "metadata": {},
     "output_type": "execute_result"
    }
   ],
   "source": [
    "df.columns"
   ]
  },
  {
   "cell_type": "code",
   "execution_count": 14,
   "metadata": {},
   "outputs": [
    {
     "data": {
      "text/html": [
       "<div>\n",
       "<style scoped>\n",
       "    .dataframe tbody tr th:only-of-type {\n",
       "        vertical-align: middle;\n",
       "    }\n",
       "\n",
       "    .dataframe tbody tr th {\n",
       "        vertical-align: top;\n",
       "    }\n",
       "\n",
       "    .dataframe thead th {\n",
       "        text-align: right;\n",
       "    }\n",
       "</style>\n",
       "<table border=\"1\" class=\"dataframe\">\n",
       "  <thead>\n",
       "    <tr style=\"text-align: right;\">\n",
       "      <th></th>\n",
       "      <th>Date created</th>\n",
       "      <th>Order number</th>\n",
       "      <th>Quantity</th>\n",
       "      <th>Details</th>\n",
       "      <th>Status</th>\n",
       "      <th>Amount</th>\n",
       "      <th>Currency</th>\n",
       "      <th>Shipping method</th>\n",
       "      <th>Customer debit date</th>\n",
       "      <th>Payment workflow</th>\n",
       "      <th>...</th>\n",
       "      <th>line</th>\n",
       "      <th>model</th>\n",
       "      <th>manufacturer_name</th>\n",
       "      <th>attribute_summary</th>\n",
       "      <th>colour</th>\n",
       "      <th>F_Cat</th>\n",
       "      <th>S_Cat</th>\n",
       "      <th>T_Cat</th>\n",
       "      <th>Category</th>\n",
       "      <th>customs_description</th>\n",
       "    </tr>\n",
       "  </thead>\n",
       "  <tbody>\n",
       "  </tbody>\n",
       "</table>\n",
       "<p>0 rows × 80 columns</p>\n",
       "</div>"
      ],
      "text/plain": [
       "Empty DataFrame\n",
       "Columns: [Date created, Order number, Quantity, Details, Status, Amount, Currency, Shipping method, Customer debit date, Payment workflow, Shop SKU, Reason, Offer SKU, Brand, Offer state, Order line no., Unit price, Shipping price, Shipping total amount, Order fees total amount, Total order amount incl. VAT (including shipping charges), Commission (excluding taxes), Commission value (including taxes), Amount transferred to shop (including taxes), Price additional information, Commission tax rate, Acceptance date, Shipping deadline, Shipping date, Received date, Shipping company, Tracking number, Tracking URL, Shipping address civility, Shipping address email, Shipping address first name, Shipping address last name, Shipping address company, Shipping address street 1, Shipping address street 2, Shipping Address Postcode, Shipping address city, Shipping Address County, Shipping address country, Shipping address phone, Shipping address phone 2, Shipping address additional information, Shipping address internal additional information, Billing address civility, Billing address first name, Billing address last name, Billing address company, Billing address street 1, Billing address street 2, Billing Address Postcode, Billing address city, Billing Address County, Billing address country, Billing address phone, Billing address phone 2, Payment method, Lead time to ship, PickUp DropOff point id, Customer order reference, Shop order reference, Fulfillment center code, date, time, Channel, title, line, model, manufacturer_name, attribute_summary, colour, F_Cat, S_Cat, T_Cat, Category, customs_description]\n",
       "Index: []\n",
       "\n",
       "[0 rows x 80 columns]"
      ]
     },
     "execution_count": 14,
     "metadata": {},
     "output_type": "execute_result"
    }
   ],
   "source": [
    "df[df['Shop SKU'] == '1059000']"
   ]
  },
  {
   "cell_type": "code",
   "execution_count": 15,
   "metadata": {},
   "outputs": [
    {
     "name": "stderr",
     "output_type": "stream",
     "text": [
      "C:\\Users\\retai\\AppData\\Local\\Temp\\ipykernel_8696\\4122981288.py:11: SettingWithCopyWarning: \n",
      "A value is trying to be set on a copy of a slice from a DataFrame.\n",
      "Try using .loc[row_indexer,col_indexer] = value instead\n",
      "\n",
      "See the caveats in the documentation: https://pandas.pydata.org/pandas-docs/stable/user_guide/indexing.html#returning-a-view-versus-a-copy\n",
      "  df_null['customs_description'] = df_null['model']\n",
      "C:\\Users\\retai\\AppData\\Local\\Temp\\ipykernel_8696\\4122981288.py:12: SettingWithCopyWarning: \n",
      "A value is trying to be set on a copy of a slice from a DataFrame.\n",
      "Try using .loc[row_indexer,col_indexer] = value instead\n",
      "\n",
      "See the caveats in the documentation: https://pandas.pydata.org/pandas-docs/stable/user_guide/indexing.html#returning-a-view-versus-a-copy\n",
      "  df_null['customs_description'] = df_null['customs_description'].map(dict_customs_model_feed)\n"
     ]
    }
   ],
   "source": [
    "df_null = df[df['customs_description'].isna()]\n",
    "df_notnull = df[~df['customs_description'].isna()]\n",
    "\n",
    "# df_null = df_null.merge(temp_df, on='title', how='left')\n",
    "# df_null['customs_description_stock'] = df_null['PRODUCT TYPE']\n",
    "# df_null['customs_description_stock'].fillna(df_null['customs_description'])\n",
    "# df_null['customs_description'] = df_null['customs_description_stock']\n",
    "# df_null.drop(['PRODUCT TYPE', 'customs_description_stock','MPN'], axis=1, inplace=True)\n",
    "\n",
    "\n",
    "df_null['customs_description'] = df_null['model']\n",
    "df_null['customs_description'] = df_null['customs_description'].map(dict_customs_model_feed)\n",
    "df = pd.concat([df_notnull, df_null], ignore_index=True)\n",
    "\n",
    "\n",
    "\n",
    "\n",
    "df2 = df['customs_description'].str.split(' > ', expand=True)\n",
    "df.drop(['Category', 'F_Cat', 'S_Cat', 'T_Cat'], axis=1, inplace=True)\n",
    "df2.columns = ['F_Cat', 'S_Cat', 'T_Cat']\n",
    "df = df.join(df2)\n",
    "df['Category'] = df['F_Cat'] + ' > ' + df['S_Cat']\n",
    "\n",
    "\n",
    "\n",
    "# df1_null = df.copy()\n",
    "\n",
    "# df1_null = df1_null.merge(temp_df, on='title', how='left')\n",
    "# df1_null['customs_description_stock'] = df1_null['PRODUCT TYPE']\n",
    "# df1_null.drop(['PRODUCT TYPE'], axis=1, inplace=True)\n",
    "\n",
    "# df1_null.drop_duplicates(inplace=True)\n",
    "\n",
    "# df2 = df1_null['customs_description'].str.split(' > ', expand=True)\n",
    "# df1_null.drop(['Category', 'F_Cat', 'S_Cat', 'T_Cat'], axis=1, inplace=True)\n",
    "# df2.columns = ['F_Cat', 'S_Cat', 'T_Cat']\n",
    "# df = df1_null.join(df2)\n",
    "# df['Category'] = df['F_Cat'] + ' > ' + df['S_Cat']"
   ]
  },
  {
   "cell_type": "code",
   "execution_count": 16,
   "metadata": {},
   "outputs": [
    {
     "name": "stdout",
     "output_type": "stream",
     "text": [
      "title:  1459\n",
      "line:  5760\n",
      "model:  1459\n",
      "manufacturer_name:  5760\n",
      "attribute_summary:  1459\n",
      "colour:  6034\n",
      "F_Cat:  1459\n",
      "S_Cat:  2092\n",
      "T_Cat:  22668\n",
      "Category:  2092\n",
      "customs_description:  1459\n"
     ]
    }
   ],
   "source": [
    "for i in l:\n",
    "    print(f'{i}: ', df[i].isnull().sum())\n",
    "print(f'customs_description: ', df['customs_description'].isnull().sum())"
   ]
  },
  {
   "cell_type": "code",
   "execution_count": null,
   "metadata": {},
   "outputs": [],
   "source": []
  },
  {
   "cell_type": "code",
   "execution_count": null,
   "metadata": {},
   "outputs": [],
   "source": []
  },
  {
   "cell_type": "code",
   "execution_count": 17,
   "metadata": {},
   "outputs": [
    {
     "data": {
      "text/plain": [
       "0"
      ]
     },
     "execution_count": 17,
     "metadata": {},
     "output_type": "execute_result"
    }
   ],
   "source": [
    "df['title'] = df['title'].fillna(df['Details'])\n",
    "df['attribute_summary'] = df['attribute_summary'].replace(np.NaN, 'Size: (No assigned size)')\n",
    "df['title'].isnull().sum()"
   ]
  },
  {
   "cell_type": "code",
   "execution_count": 18,
   "metadata": {},
   "outputs": [
    {
     "data": {
      "text/plain": [
       "Index(['order_date', 'order_id', 'quantity', 'order_state', 'grand_total_inc',\n",
       "       'reference', 'price_inc', 'Order fees total amount', 'date', 'time',\n",
       "       'Channel', 'title', 'line', 'model', 'manufacturer_name',\n",
       "       'attribute_summary', 'colour', 'customs_description', 'F_Cat', 'S_Cat',\n",
       "       'T_Cat', 'Category'],\n",
       "      dtype='object')"
      ]
     },
     "execution_count": 18,
     "metadata": {},
     "output_type": "execute_result"
    }
   ],
   "source": [
    "df.rename(columns={'Order number': 'order_id', 'Status': 'order_state', 'Date created': 'order_date', 'Amount': 'grand_total_inc',\n",
    "                    'Shop SKU': 'reference', 'Quantity': 'quantity', 'Unit price': 'price_inc'}, inplace=True)\n",
    "df.drop(['Details', 'Currency', 'Shipping method', 'Customer debit date',\n",
    "       'Payment workflow', 'Reason', 'Offer SKU', 'Brand',\n",
    "       'Offer state', 'Order line no.', 'Shipping price',\n",
    "       'Shipping total amount',\n",
    "       'Total order amount incl. VAT (including shipping charges)',\n",
    "       'Commission (excluding taxes)', 'Commission value (including taxes)',\n",
    "       'Amount transferred to shop (including taxes)',\n",
    "       'Price additional information', 'Commission tax rate',\n",
    "       'Acceptance date', 'Shipping deadline', 'Shipping date',\n",
    "       'Received date', 'Shipping company', 'Tracking number', 'Tracking URL',\n",
    "       'Shipping address civility', 'Shipping address email',\n",
    "       'Shipping address first name', 'Shipping address last name',\n",
    "       'Shipping address company', 'Shipping address street 1',\n",
    "       'Shipping address street 2', 'Shipping Address Postcode',\n",
    "       'Shipping address city', 'Shipping Address County',\n",
    "       'Shipping address country', 'Shipping address phone',\n",
    "       'Shipping address phone 2', 'Shipping address additional information',\n",
    "       'Shipping address internal additional information',\n",
    "       'Billing address civility', 'Billing address first name',\n",
    "       'Billing address last name', 'Billing address company',\n",
    "       'Billing address street 1', 'Billing address street 2',\n",
    "       'Billing Address Postcode', 'Billing address city',\n",
    "       'Billing Address County', 'Billing address country',\n",
    "       'Billing address phone', 'Billing address phone 2', 'Payment method',\n",
    "       'Lead time to ship', 'PickUp DropOff point id',\n",
    "       'Customer order reference', 'Shop order reference',\n",
    "       'Fulfillment center code'], axis=1, inplace=True)\n",
    "df.columns"
   ]
  },
  {
   "cell_type": "code",
   "execution_count": 19,
   "metadata": {},
   "outputs": [],
   "source": [
    "df_orig = df_orig[['order_date', 'order_id', 'quantity', 'order_state', 'grand_total_inc',\n",
    "       'reference', 'price_inc', 'date', 'Channel', 'title', 'line', 'model',\n",
    "       'manufacturer_name', 'attribute_summary', 'customs_description',\n",
    "       'colour', 'F_Cat', 'S_Cat', 'T_Cat', 'Category']]"
   ]
  },
  {
   "cell_type": "code",
   "execution_count": 20,
   "metadata": {},
   "outputs": [],
   "source": [
    "p = ['order_state', 'Channel', 'title', 'line', 'model', 'manufacturer_name', 'attribute_summary', \n",
    "     'customs_description', 'colour', 'F_Cat', 'S_Cat', 'T_Cat', 'Category', 'order_id']\n",
    "for i in p:\n",
    "    df[i] = df[i].astype(str)\n",
    "\n",
    "df['quantity'] = df['quantity'].astype(int)\n",
    "df['grand_total_inc'] = df['grand_total_inc'].astype(float)\n",
    "df['price_inc'] = df['price_inc'].astype(float)"
   ]
  },
  {
   "cell_type": "code",
   "execution_count": 21,
   "metadata": {},
   "outputs": [],
   "source": [
    "df = pd.concat([df_orig, df], ignore_index=True)\n",
    "df['date'] = df['date'].astype(str)"
   ]
  },
  {
   "cell_type": "code",
   "execution_count": 22,
   "metadata": {},
   "outputs": [],
   "source": [
    "df['customs_description'] = df.groupby('model')['customs_description'].transform(lambda v: v.ffill())\n",
    "df['customs_description'] = df.groupby('model')['customs_description'].transform(lambda v: v.bfill())"
   ]
  },
  {
   "cell_type": "code",
   "execution_count": 23,
   "metadata": {},
   "outputs": [],
   "source": [
    "df['customs_description'] = df['customs_description'].replace(np.NaN, '(No assigned category)')\n",
    "df['F_Cat'] = df['F_Cat'].replace(np.NaN, '(No assigned category)')\n",
    "\n",
    "df['customs_description'] = df['customs_description'].replace('nan', '(No assigned category)')\n",
    "df['F_Cat'] = df['F_Cat'].replace('nan', '(No assigned category)')"
   ]
  },
  {
   "cell_type": "code",
   "execution_count": 24,
   "metadata": {},
   "outputs": [],
   "source": [
    "df['price_inc'] = df['price_inc'] * df['quantity']"
   ]
  },
  {
   "cell_type": "code",
   "execution_count": 25,
   "metadata": {},
   "outputs": [],
   "source": [
    "df.to_csv('All orders.csv', index=False)"
   ]
  },
  {
   "cell_type": "code",
   "execution_count": 26,
   "metadata": {},
   "outputs": [
    {
     "data": {
      "text/html": [
       "<div>\n",
       "<style scoped>\n",
       "    .dataframe tbody tr th:only-of-type {\n",
       "        vertical-align: middle;\n",
       "    }\n",
       "\n",
       "    .dataframe tbody tr th {\n",
       "        vertical-align: top;\n",
       "    }\n",
       "\n",
       "    .dataframe thead th {\n",
       "        text-align: right;\n",
       "    }\n",
       "</style>\n",
       "<table border=\"1\" class=\"dataframe\">\n",
       "  <thead>\n",
       "    <tr style=\"text-align: right;\">\n",
       "      <th></th>\n",
       "      <th>customs_description</th>\n",
       "      <th>changed</th>\n",
       "    </tr>\n",
       "  </thead>\n",
       "  <tbody>\n",
       "    <tr>\n",
       "      <th>0</th>\n",
       "      <td>Ladies &gt; Handbags</td>\n",
       "      <td>Ladies &gt; Handbags</td>\n",
       "    </tr>\n",
       "    <tr>\n",
       "      <th>1</th>\n",
       "      <td>January Sale 2021</td>\n",
       "      <td>Sale</td>\n",
       "    </tr>\n",
       "    <tr>\n",
       "      <th>2</th>\n",
       "      <td>Handbags &gt; Ashwood</td>\n",
       "      <td>Ladies &gt; Handbags</td>\n",
       "    </tr>\n",
       "    <tr>\n",
       "      <th>3</th>\n",
       "      <td>Mens &gt; Accessories</td>\n",
       "      <td>Mens &gt; Accessories</td>\n",
       "    </tr>\n",
       "    <tr>\n",
       "      <th>4</th>\n",
       "      <td>Ladies &gt; Ladies Jackets &amp; Coats</td>\n",
       "      <td>Ladies &gt; Leather Jackets</td>\n",
       "    </tr>\n",
       "  </tbody>\n",
       "</table>\n",
       "</div>"
      ],
      "text/plain": [
       "               customs_description                   changed\n",
       "0                Ladies > Handbags         Ladies > Handbags\n",
       "1                January Sale 2021                      Sale\n",
       "2               Handbags > Ashwood         Ladies > Handbags\n",
       "3               Mens > Accessories        Mens > Accessories\n",
       "4  Ladies > Ladies Jackets & Coats  Ladies > Leather Jackets"
      ]
     },
     "execution_count": 26,
     "metadata": {},
     "output_type": "execute_result"
    }
   ],
   "source": [
    "temp = pd.read_csv(\"Deb + LC customs_description - temp.csv\")\n",
    "temp.head()"
   ]
  },
  {
   "cell_type": "code",
   "execution_count": 27,
   "metadata": {},
   "outputs": [
    {
     "data": {
      "text/plain": [
       "(117, 24)"
      ]
     },
     "execution_count": 27,
     "metadata": {},
     "output_type": "execute_result"
    }
   ],
   "source": [
    "len(temp['customs_description'].value_counts()), len(temp['changed'].value_counts())"
   ]
  },
  {
   "cell_type": "code",
   "execution_count": 28,
   "metadata": {},
   "outputs": [],
   "source": [
    "dict_customs_short = pd.Series(temp.changed.values,index=temp.customs_description).to_dict()\n",
    "df['customs_description'] = df['customs_description'].map(dict_customs_short)\n",
    "df['customs_description'] = df['customs_description'].replace(np.NaN, '(No assigned category)')\n",
    "df['F_Cat'] = df['customs_description']\n",
    "df['S_Cat'] = np.NaN\n",
    "df['T_Cat'] = np.NaN\n",
    "\n",
    "df.to_csv('All orders - short custom description.csv', index=False)"
   ]
  },
  {
   "cell_type": "code",
   "execution_count": null,
   "metadata": {},
   "outputs": [],
   "source": []
  },
  {
   "cell_type": "code",
   "execution_count": null,
   "metadata": {},
   "outputs": [],
   "source": []
  }
 ],
 "metadata": {
  "kernelspec": {
   "display_name": "Python 3",
   "language": "python",
   "name": "python3"
  },
  "language_info": {
   "codemirror_mode": {
    "name": "ipython",
    "version": 3
   },
   "file_extension": ".py",
   "mimetype": "text/x-python",
   "name": "python",
   "nbconvert_exporter": "python",
   "pygments_lexer": "ipython3",
   "version": "3.12.1"
  }
 },
 "nbformat": 4,
 "nbformat_minor": 2
}
