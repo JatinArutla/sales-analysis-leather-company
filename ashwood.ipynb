{
 "cells": [
  {
   "cell_type": "code",
   "execution_count": 593,
   "metadata": {},
   "outputs": [],
   "source": [
    "import pandas as pd\n",
    "import numpy as np"
   ]
  },
  {
   "cell_type": "code",
   "execution_count": 594,
   "metadata": {},
   "outputs": [
    {
     "name": "stderr",
     "output_type": "stream",
     "text": [
      "C:\\Users\\retai\\AppData\\Local\\Temp\\ipykernel_22284\\2749489232.py:1: DtypeWarning: Columns (12) have mixed types. Specify dtype option on import or set low_memory=False.\n",
      "  df = pd.read_csv('jatin.csv', sep=';')\n",
      "C:\\Users\\retai\\AppData\\Local\\Temp\\ipykernel_22284\\2749489232.py:11: UserWarning: Parsing dates in %d/%m/%Y format when dayfirst=False (the default) was specified. Pass `dayfirst=True` or specify a format to silence this warning.\n",
      "  df['date'] = pd.to_datetime(df['date'])\n"
     ]
    }
   ],
   "source": [
    "df = pd.read_csv('jatin.csv', sep=';')\n",
    "temp2_df = df['Date created'].str.split('-', expand=True)\n",
    "temp2_df.columns = ['f_', 's_']\n",
    "temp2_df['f_'] = temp2_df['f_'].str.replace('...', '')\n",
    "temp2_df['f_'] = temp2_df['f_'].str.lstrip()\n",
    "temp2_df['f_'] = temp2_df['f_'].str.rstrip()\n",
    "temp2_df['s_'] = temp2_df['s_'].str.lstrip()\n",
    "temp2_df['s_'] = temp2_df['s_'].str.rstrip()\n",
    "df['date'] = temp2_df['f_']\n",
    "df['time'] = temp2_df['s_']\n",
    "df['date'] = pd.to_datetime(df['date'])\n",
    "df['date'] = df['date'].dt.date\n",
    "df['Channel'] = 'Debenhams'\n",
    "\n",
    "\n",
    "df['Status'] = df['Status'].replace('Received', 'Order Dispatched')\n",
    "df['Status'] = df['Status'].replace('Closed', 'Order Dispatched')\n",
    "df['Status'] = df['Status'].replace('Refunded', 'Order Refunded')\n",
    "\n",
    "\n",
    "temp2_df = df['Details'].str.split('(', expand=True)\n",
    "temp2_df.columns = ['f_', 's_']\n",
    "temp2_df['f_'] = temp2_df['f_'].str.lstrip()\n",
    "temp2_df['f_'] = temp2_df['f_'].str.rstrip()\n",
    "temp2_df['s_'] = temp2_df['s_'].str.lstrip()\n",
    "temp2_df['s_'] = temp2_df['s_'].str.rstrip()\n",
    "df['Details'] = temp2_df['f_']"
   ]
  },
  {
   "cell_type": "code",
   "execution_count": 595,
   "metadata": {},
   "outputs": [],
   "source": [
    "df_orig = pd.read_csv('2024_feb_unduplicated_orders fixed_categories.csv')\n",
    "df_orig['Channel'] = 'Leather Company'"
   ]
  },
  {
   "cell_type": "code",
   "execution_count": 596,
   "metadata": {},
   "outputs": [],
   "source": [
    "l = ['title', 'line', 'model', 'manufacturer_name', 'attribute_summary', 'customs_description', 'colour', 'F_Cat', 'S_Cat', 'T_Cat', 'Category']\n",
    "dict_title = pd.Series(df_orig.title.values,index=df_orig.reference).to_dict()\n",
    "dict_line = pd.Series(df_orig.line.values,index=df_orig.reference).to_dict()\n",
    "dict_model = pd.Series(df_orig.model.values,index=df_orig.reference).to_dict()\n",
    "dict_manufacturer_name = pd.Series(df_orig.manufacturer_name.values,index=df_orig.reference).to_dict()\n",
    "dict_attribute_summary = pd.Series(df_orig.attribute_summary.values,index=df_orig.reference).to_dict()\n",
    "dict_customs_description = pd.Series(df_orig.customs_description.values,index=df_orig.reference).to_dict()\n",
    "dict_colour = pd.Series(df_orig.colour.values,index=df_orig.reference).to_dict()\n",
    "dict_F_Cat = pd.Series(df_orig.F_Cat.values,index=df_orig.reference).to_dict()\n",
    "dict_S_Cat = pd.Series(df_orig.S_Cat.values,index=df_orig.reference).to_dict()\n",
    "dict_T_Cat = pd.Series(df_orig.T_Cat.values,index=df_orig.reference).to_dict()\n",
    "dict_Category = pd.Series(df_orig.Category.values,index=df_orig.reference).to_dict()"
   ]
  },
  {
   "cell_type": "code",
   "execution_count": 597,
   "metadata": {},
   "outputs": [],
   "source": [
    "df_stock = pd.read_csv('stock_levels_25_mar.csv')\n",
    "dict_title_stock = pd.Series(df_stock.title.values,index=df_stock.reference).to_dict()\n",
    "dict_attribute_summary_stock = pd.Series(df_stock.attribute_summary.values,index=df_stock.reference).to_dict()\n",
    "dict_model_stock = pd.Series(df_stock.model.values,index=df_stock.reference).to_dict()\n",
    "\n",
    "dict_title = dict_title | dict_title_stock\n",
    "dict_attribute_summary = dict_attribute_summary | dict_attribute_summary_stock\n",
    "dict_model = dict_model | dict_model_stock"
   ]
  },
  {
   "cell_type": "code",
   "execution_count": 598,
   "metadata": {},
   "outputs": [],
   "source": [
    "for i in l:\n",
    "    df[i] = df['Shop SKU']"
   ]
  },
  {
   "cell_type": "code",
   "execution_count": 599,
   "metadata": {},
   "outputs": [],
   "source": [
    "# df.replace({\"title\": dict_title}, inplace=True)\n",
    "# df.replace({\"line\": dict_line}, inplace=True)\n",
    "# df.replace({\"model\": dict_model}, inplace=True)\n",
    "# df.replace({\"manufacturer_name\": dict_manufacturer_name}, inplace=True)\n",
    "# df.replace({\"attribute_summary\": dict_attribute_summary}, inplace=True)\n",
    "# df.replace({\"customs_description\": dict_customs_description}, inplace=True)\n",
    "# df.replace({\"colour\": dict_colour}, inplace=True)\n",
    "# df.replace({\"F_Cat\": dict_F_Cat}, inplace=True)\n",
    "# df.replace({\"S_Cat\": dict_S_Cat}, inplace=True)\n",
    "# df.replace({\"T_Cat\": dict_T_Cat}, inplace=True)\n",
    "# df.replace({\"Category\": dict_Category}, inplace=True)\n",
    "\n",
    "df['title'] = df['title'].map(dict_title)\n",
    "df['line'] = df['line'].map(dict_line)\n",
    "df['model'] = df['model'].map(dict_model)\n",
    "df['manufacturer_name'] = df['manufacturer_name'].map(dict_manufacturer_name)\n",
    "df['attribute_summary'] = df['attribute_summary'].map(dict_attribute_summary)\n",
    "df['customs_description'] = df['customs_description'].map(dict_customs_description)\n",
    "df['colour'] = df['colour'].map(dict_colour)\n",
    "df['F_Cat'] = df['F_Cat'].map(dict_F_Cat)\n",
    "df['S_Cat'] = df['S_Cat'].map(dict_S_Cat)\n",
    "df['T_Cat'] = df['T_Cat'].map(dict_T_Cat)\n",
    "df['Category'] = df['Category'].map(dict_Category)"
   ]
  },
  {
   "cell_type": "code",
   "execution_count": 600,
   "metadata": {},
   "outputs": [
    {
     "name": "stdout",
     "output_type": "stream",
     "text": [
      "title:  1412\n",
      "line:  7583\n",
      "model:  1412\n",
      "manufacturer_name:  7583\n",
      "attribute_summary:  1412\n",
      "customs_description:  7752\n",
      "colour:  7922\n",
      "F_Cat:  7752\n",
      "S_Cat:  7757\n",
      "T_Cat:  20457\n",
      "Category:  7757\n"
     ]
    }
   ],
   "source": [
    "for i in l:\n",
    "    print(f'{i}: ', df[i].isnull().sum())"
   ]
  },
  {
   "cell_type": "code",
   "execution_count": 601,
   "metadata": {},
   "outputs": [
    {
     "name": "stderr",
     "output_type": "stream",
     "text": [
      "<>:9: SyntaxWarning: invalid escape sequence '\\('\n",
      "<>:9: SyntaxWarning: invalid escape sequence '\\('\n",
      "C:\\Users\\retai\\AppData\\Local\\Temp\\ipykernel_22284\\1577920832.py:9: SyntaxWarning: invalid escape sequence '\\('\n",
      "  temp_stock_df = temp_df['title'].str.split('\\(|\\)', expand=True).iloc[:,[0,1]]\n"
     ]
    }
   ],
   "source": [
    "temp_df = pd.read_csv('product_feed.csv')\n",
    "temp_df['PRODUCT TYPE'] = temp_df['PRODUCT TYPE'].str.replace('&gt;', '>')\n",
    "temp_df['PRODUCT TYPE'] = temp_df['PRODUCT TYPE'].str.replace('&amp;', '&')\n",
    "temp_df['PRODUCT TYPE'] = temp_df['PRODUCT TYPE'].str.replace('&#039;', \"'\")\n",
    "temp_df['TITLE'] = temp_df['TITLE'].str.replace('&gt;', '>')\n",
    "temp_df['TITLE'] = temp_df['TITLE'].str.replace('&amp;', '&')\n",
    "temp_df['TITLE'] = temp_df['TITLE'].str.replace('&#039;', \"'\")\n",
    "temp_df.rename(columns={'TITLE': 'title'}, inplace=True)\n",
    "temp_stock_df = temp_df['title'].str.split('\\(|\\)', expand=True).iloc[:,[0,1]]\n",
    "temp_df['title'] = temp_stock_df[0]\n",
    "temp_df['title'] = temp_df['title'].str.lstrip()\n",
    "temp_df['title'] = temp_df['title'].str.rstrip()\n",
    "temp_df.drop_duplicates(subset=['title'], inplace=True)\n",
    "temp_df = temp_df[['title', 'PRODUCT TYPE']]\n",
    "\n",
    "\n",
    "df1_notnull = df[df['customs_description'].notnull()]\n",
    "df1_null = df[df['customs_description'].isna()]\n",
    "\n",
    "df1_null = df1_null.merge(temp_df, on='title', how='left')\n",
    "df1_null['customs_description'] = df1_null['PRODUCT TYPE']\n",
    "df1_null.drop(['PRODUCT TYPE'], axis=1, inplace=True)\n",
    "\n",
    "df1 = pd.concat([df1_notnull, df1_null], ignore_index=True)\n",
    "df1.drop_duplicates(inplace=True)\n",
    "\n",
    "df2 = df1['customs_description'].str.split(' > ', expand=True)\n",
    "df1.drop(['Category', 'F_Cat', 'S_Cat', 'T_Cat'], axis=1, inplace=True)\n",
    "df2.columns = ['F_Cat', 'S_Cat', 'T_Cat']\n",
    "df = df1.join(df2)\n",
    "df['Category'] = df['F_Cat'] + ' > ' + df['S_Cat']"
   ]
  },
  {
   "cell_type": "code",
   "execution_count": 602,
   "metadata": {},
   "outputs": [
    {
     "name": "stdout",
     "output_type": "stream",
     "text": [
      "title:  1412\n",
      "line:  7583\n",
      "model:  1412\n",
      "manufacturer_name:  7583\n",
      "attribute_summary:  1412\n",
      "customs_description:  2061\n",
      "colour:  7922\n",
      "F_Cat:  2061\n",
      "S_Cat:  2066\n",
      "T_Cat:  20306\n",
      "Category:  2066\n"
     ]
    }
   ],
   "source": [
    "for i in l:\n",
    "    print(f'{i}: ', df[i].isnull().sum())"
   ]
  },
  {
   "cell_type": "code",
   "execution_count": null,
   "metadata": {},
   "outputs": [],
   "source": []
  },
  {
   "cell_type": "code",
   "execution_count": null,
   "metadata": {},
   "outputs": [],
   "source": []
  },
  {
   "cell_type": "code",
   "execution_count": 603,
   "metadata": {},
   "outputs": [
    {
     "data": {
      "text/plain": [
       "0"
      ]
     },
     "execution_count": 603,
     "metadata": {},
     "output_type": "execute_result"
    }
   ],
   "source": [
    "df['title'] = df['title'].fillna(df['Details'])\n",
    "df['attribute_summary'] = df['attribute_summary'].replace(np.NaN, 'Size: (No assigned size)')\n",
    "df['title'].isnull().sum()"
   ]
  },
  {
   "cell_type": "code",
   "execution_count": 604,
   "metadata": {},
   "outputs": [
    {
     "data": {
      "text/plain": [
       "Index(['order_date', 'order_id', 'quantity', 'order_state', 'grand_total_inc',\n",
       "       'reference', 'price_inc', 'date', 'time', 'Channel', 'title', 'line',\n",
       "       'model', 'manufacturer_name', 'attribute_summary',\n",
       "       'customs_description', 'colour', 'F_Cat', 'S_Cat', 'T_Cat', 'Category'],\n",
       "      dtype='object')"
      ]
     },
     "execution_count": 604,
     "metadata": {},
     "output_type": "execute_result"
    }
   ],
   "source": [
    "df.rename(columns={'Order number': 'order_id', 'Status': 'order_state', 'Date created': 'order_date', 'Amount': 'grand_total_inc',\n",
    "                    'Shop SKU': 'reference', 'Quantity': 'quantity', 'Unit price': 'price_inc'}, inplace=True)\n",
    "df.drop(['Details', 'Currency', 'Shipping method', 'Customer debit date',\n",
    "       'Payment workflow', 'Reason', 'Offer SKU', 'Brand',\n",
    "       'Offer state', 'Order line no.', 'Shipping price',\n",
    "       'Shipping total amount',\n",
    "       'Total order amount incl. VAT (including shipping charges)',\n",
    "       'Commission (excluding taxes)', 'Commission value (including taxes)',\n",
    "       'Amount transferred to shop (including taxes)',\n",
    "       'Price additional information', 'Commission tax rate',\n",
    "       'Acceptance date', 'Shipping deadline', 'Shipping date',\n",
    "       'Received date', 'Shipping company', 'Tracking number', 'Tracking URL',\n",
    "       'Shipping address civility', 'Shipping address email',\n",
    "       'Shipping address first name', 'Shipping address last name',\n",
    "       'Shipping address company', 'Shipping address street 1',\n",
    "       'Shipping address street 2', 'Shipping Address Postcode',\n",
    "       'Shipping address city', 'Shipping Address County',\n",
    "       'Shipping address country', 'Shipping address phone',\n",
    "       'Shipping address phone 2', 'Shipping address additional information',\n",
    "       'Shipping address internal additional information',\n",
    "       'Billing address civility', 'Billing address first name',\n",
    "       'Billing address last name', 'Billing address company',\n",
    "       'Billing address street 1', 'Billing address street 2',\n",
    "       'Billing Address Postcode', 'Billing address city',\n",
    "       'Billing Address County', 'Billing address country',\n",
    "       'Billing address phone', 'Billing address phone 2', 'Payment method',\n",
    "       'Lead time to ship', 'PickUp DropOff point id',\n",
    "       'Customer order reference', 'Shop order reference',\n",
    "       'Fulfillment center code'], axis=1, inplace=True)\n",
    "df.columns"
   ]
  },
  {
   "cell_type": "code",
   "execution_count": 605,
   "metadata": {},
   "outputs": [],
   "source": [
    "df_orig = df_orig[['order_date', 'order_id', 'quantity', 'order_state', 'grand_total_inc',\n",
    "       'reference', 'price_inc', 'date', 'Channel', 'title', 'line', 'model',\n",
    "       'manufacturer_name', 'attribute_summary', 'customs_description',\n",
    "       'colour', 'F_Cat', 'S_Cat', 'T_Cat', 'Category']]"
   ]
  },
  {
   "cell_type": "code",
   "execution_count": 606,
   "metadata": {},
   "outputs": [],
   "source": [
    "p = ['order_state', 'Channel', 'title', 'line', 'model', 'manufacturer_name', 'attribute_summary', \n",
    "     'customs_description', 'colour', 'F_Cat', 'S_Cat', 'T_Cat', 'Category', 'order_id']\n",
    "for i in p:\n",
    "    df[i] = df[i].astype(str)\n",
    "\n",
    "df['quantity'] = df['quantity'].astype(int)\n",
    "df['grand_total_inc'] = df['grand_total_inc'].astype(float)\n",
    "df['price_inc'] = df['price_inc'].astype(float)"
   ]
  },
  {
   "cell_type": "code",
   "execution_count": 607,
   "metadata": {},
   "outputs": [],
   "source": [
    "df = pd.concat([df_orig, df], ignore_index=True)\n",
    "df['date'] = df['date'].astype(str)\n",
    "\n",
    "df['customs_description'] = df['customs_description'].replace(np.NaN, '(No assigned category)')\n",
    "df['F_Cat'] = df['F_Cat'].replace(np.NaN, '(No assigned category)')\n",
    "\n",
    "df['customs_description'] = df['customs_description'].replace('nan', '(No assigned category)')\n",
    "df['F_Cat'] = df['F_Cat'].replace('nan', '(No assigned category)')"
   ]
  },
  {
   "cell_type": "code",
   "execution_count": 608,
   "metadata": {},
   "outputs": [],
   "source": [
    "df['price_inc'] = df['price_inc'] * df['quantity']"
   ]
  },
  {
   "cell_type": "code",
   "execution_count": 609,
   "metadata": {},
   "outputs": [],
   "source": [
    "df.to_csv('All orders.csv', index=False)"
   ]
  },
  {
   "cell_type": "code",
   "execution_count": null,
   "metadata": {},
   "outputs": [],
   "source": []
  },
  {
   "cell_type": "code",
   "execution_count": null,
   "metadata": {},
   "outputs": [],
   "source": []
  },
  {
   "cell_type": "code",
   "execution_count": null,
   "metadata": {},
   "outputs": [],
   "source": []
  },
  {
   "cell_type": "code",
   "execution_count": 610,
   "metadata": {},
   "outputs": [
    {
     "data": {
      "text/html": [
       "<div>\n",
       "<style scoped>\n",
       "    .dataframe tbody tr th:only-of-type {\n",
       "        vertical-align: middle;\n",
       "    }\n",
       "\n",
       "    .dataframe tbody tr th {\n",
       "        vertical-align: top;\n",
       "    }\n",
       "\n",
       "    .dataframe thead th {\n",
       "        text-align: right;\n",
       "    }\n",
       "</style>\n",
       "<table border=\"1\" class=\"dataframe\">\n",
       "  <thead>\n",
       "    <tr style=\"text-align: right;\">\n",
       "      <th></th>\n",
       "      <th>customs_description</th>\n",
       "      <th>changed</th>\n",
       "    </tr>\n",
       "  </thead>\n",
       "  <tbody>\n",
       "    <tr>\n",
       "      <th>0</th>\n",
       "      <td>Ladies &gt; Handbags</td>\n",
       "      <td>Ladies &gt; Handbags</td>\n",
       "    </tr>\n",
       "    <tr>\n",
       "      <th>1</th>\n",
       "      <td>January Sale 2021</td>\n",
       "      <td>Sale</td>\n",
       "    </tr>\n",
       "    <tr>\n",
       "      <th>2</th>\n",
       "      <td>Handbags &gt; Ashwood</td>\n",
       "      <td>Ladies &gt; Handbags</td>\n",
       "    </tr>\n",
       "    <tr>\n",
       "      <th>3</th>\n",
       "      <td>Mens &gt; Accessories</td>\n",
       "      <td>Mens &gt; Accessories</td>\n",
       "    </tr>\n",
       "    <tr>\n",
       "      <th>4</th>\n",
       "      <td>Ladies &gt; Ladies Jackets &amp; Coats</td>\n",
       "      <td>Ladies &gt; Leather Jackets</td>\n",
       "    </tr>\n",
       "  </tbody>\n",
       "</table>\n",
       "</div>"
      ],
      "text/plain": [
       "               customs_description                   changed\n",
       "0                Ladies > Handbags         Ladies > Handbags\n",
       "1                January Sale 2021                      Sale\n",
       "2               Handbags > Ashwood         Ladies > Handbags\n",
       "3               Mens > Accessories        Mens > Accessories\n",
       "4  Ladies > Ladies Jackets & Coats  Ladies > Leather Jackets"
      ]
     },
     "execution_count": 610,
     "metadata": {},
     "output_type": "execute_result"
    }
   ],
   "source": [
    "temp = pd.read_csv(\"Deb + LC customs_description - temp.csv\")\n",
    "temp.head()"
   ]
  },
  {
   "cell_type": "code",
   "execution_count": 611,
   "metadata": {},
   "outputs": [
    {
     "data": {
      "text/plain": [
       "(117, 25)"
      ]
     },
     "execution_count": 611,
     "metadata": {},
     "output_type": "execute_result"
    }
   ],
   "source": [
    "len(temp['customs_description'].value_counts()), len(temp['changed'].value_counts())"
   ]
  },
  {
   "cell_type": "code",
   "execution_count": 612,
   "metadata": {},
   "outputs": [],
   "source": [
    "dict_customs_short = pd.Series(temp.changed.values,index=temp.customs_description).to_dict()\n",
    "df['customs_description'] = df['customs_description'].map(dict_customs_short)\n",
    "df['F_Cat'] = df['customs_description']\n",
    "df['S_Cat'] = np.NaN\n",
    "df['T_Cat'] = np.NaN\n",
    "df['customs_description'] = df['customs_description'].replace(np.NaN, '(No assigned category)')\n",
    "\n",
    "df.to_csv('All orders - short custom description.csv', index=False)"
   ]
  },
  {
   "cell_type": "code",
   "execution_count": null,
   "metadata": {},
   "outputs": [],
   "source": []
  }
 ],
 "metadata": {
  "kernelspec": {
   "display_name": "Python 3",
   "language": "python",
   "name": "python3"
  },
  "language_info": {
   "codemirror_mode": {
    "name": "ipython",
    "version": 3
   },
   "file_extension": ".py",
   "mimetype": "text/x-python",
   "name": "python",
   "nbconvert_exporter": "python",
   "pygments_lexer": "ipython3",
   "version": "3.12.1"
  }
 },
 "nbformat": 4,
 "nbformat_minor": 2
}
