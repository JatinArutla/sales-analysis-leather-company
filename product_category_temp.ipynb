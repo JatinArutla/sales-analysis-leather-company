{
 "cells": [
  {
   "cell_type": "code",
   "execution_count": 21,
   "metadata": {},
   "outputs": [],
   "source": [
    "import pandas as pd\n",
    "import numpy as np"
   ]
  },
  {
   "cell_type": "code",
   "execution_count": 22,
   "metadata": {},
   "outputs": [
    {
     "data": {
      "text/plain": [
       "(1177, 22)"
      ]
     },
     "execution_count": 22,
     "metadata": {},
     "output_type": "execute_result"
    }
   ],
   "source": [
    "df1 = pd.read_csv('2024_feb_unduplicated_orders.csv')\n",
    "df1['title'] = df1['title'].str.lstrip()\n",
    "df1['title'] = df1['title'].str.rstrip()\n",
    "df1.shape"
   ]
  },
  {
   "cell_type": "code",
   "execution_count": 23,
   "metadata": {},
   "outputs": [
    {
     "data": {
      "text/plain": [
       "((1029, 22), (148, 22))"
      ]
     },
     "execution_count": 23,
     "metadata": {},
     "output_type": "execute_result"
    }
   ],
   "source": [
    "df1_notnull = df1[df1['customs_description'].notnull()]\n",
    "df1_null = df1[df1['customs_description'].isna()]\n",
    "df1_notnull.shape, df1_null.shape"
   ]
  },
  {
   "cell_type": "code",
   "execution_count": 24,
   "metadata": {},
   "outputs": [
    {
     "data": {
      "text/plain": [
       "58958"
      ]
     },
     "execution_count": 24,
     "metadata": {},
     "output_type": "execute_result"
    }
   ],
   "source": [
    "56366 + 2592"
   ]
  },
  {
   "cell_type": "code",
   "execution_count": 25,
   "metadata": {},
   "outputs": [
    {
     "name": "stderr",
     "output_type": "stream",
     "text": [
      "<>:5: SyntaxWarning: invalid escape sequence '\\('\n",
      "<>:5: SyntaxWarning: invalid escape sequence '\\('\n",
      "C:\\Users\\retai\\AppData\\Local\\Temp\\ipykernel_12928\\158616370.py:5: SyntaxWarning: invalid escape sequence '\\('\n",
      "  temp_stock_df = temp_df['title'].str.split('\\(|\\)', expand=True).iloc[:,[0,1]]\n"
     ]
    }
   ],
   "source": [
    "temp_df = pd.read_csv('product_feed.csv')\n",
    "temp_df['PRODUCT TYPE'] = temp_df['PRODUCT TYPE'].str.replace('&gt;', '>')\n",
    "temp_df['PRODUCT TYPE'] = temp_df['PRODUCT TYPE'].str.replace('&amp;', '&')\n",
    "temp_df.rename(columns={'TITLE': 'title'}, inplace=True)\n",
    "temp_stock_df = temp_df['title'].str.split('\\(|\\)', expand=True).iloc[:,[0,1]]\n",
    "temp_df['title'] = temp_stock_df[0]\n",
    "temp_df['title'] = temp_df['title'].str.lstrip()\n",
    "temp_df['title'] = temp_df['title'].str.rstrip()\n",
    "temp_df.drop_duplicates(subset=['title'], inplace=True)\n",
    "temp_df = temp_df[['title', 'PRODUCT TYPE']]"
   ]
  },
  {
   "cell_type": "code",
   "execution_count": 26,
   "metadata": {},
   "outputs": [
    {
     "data": {
      "text/plain": [
       "(148, 22)"
      ]
     },
     "execution_count": 26,
     "metadata": {},
     "output_type": "execute_result"
    }
   ],
   "source": [
    "df1_null = df1_null.merge(temp_df, on='title', how='left')\n",
    "df1_null['customs_description'] = df1_null['PRODUCT TYPE']\n",
    "df1_null.drop(['PRODUCT TYPE'], axis=1, inplace=True)\n",
    "df1_null.shape"
   ]
  },
  {
   "cell_type": "code",
   "execution_count": 16,
   "metadata": {},
   "outputs": [
    {
     "data": {
      "text/plain": [
       "(1177, 22)"
      ]
     },
     "execution_count": 16,
     "metadata": {},
     "output_type": "execute_result"
    }
   ],
   "source": [
    "df1 = pd.concat([df1_notnull, df1_null])\n",
    "df1.shape"
   ]
  },
  {
   "cell_type": "code",
   "execution_count": 17,
   "metadata": {},
   "outputs": [
    {
     "data": {
      "text/plain": [
       "53"
      ]
     },
     "execution_count": 17,
     "metadata": {},
     "output_type": "execute_result"
    }
   ],
   "source": [
    "df1['customs_description'].isnull().sum()"
   ]
  },
  {
   "cell_type": "code",
   "execution_count": 18,
   "metadata": {},
   "outputs": [],
   "source": [
    "df2 = df1['customs_description'].str.split(' > ', expand=True)\n",
    "df1.drop(['F_Cat', 'S_Cat', 'T_Cat'], axis=1, inplace=True)\n",
    "df2.columns = ['F_Cat', 'S_Cat', 'T_Cat']\n",
    "df1 = df1.join(df2)\n",
    "df1['Category'] = df1['F_Cat'] + ' > ' + df1['S_Cat']"
   ]
  },
  {
   "cell_type": "code",
   "execution_count": 19,
   "metadata": {},
   "outputs": [],
   "source": [
    "df1.to_csv('2024_feb_unduplicated_orders fixed_categories.csv')"
   ]
  },
  {
   "cell_type": "code",
   "execution_count": 20,
   "metadata": {},
   "outputs": [
    {
     "data": {
      "text/html": [
       "<div>\n",
       "<style scoped>\n",
       "    .dataframe tbody tr th:only-of-type {\n",
       "        vertical-align: middle;\n",
       "    }\n",
       "\n",
       "    .dataframe tbody tr th {\n",
       "        vertical-align: top;\n",
       "    }\n",
       "\n",
       "    .dataframe thead th {\n",
       "        text-align: right;\n",
       "    }\n",
       "</style>\n",
       "<table border=\"1\" class=\"dataframe\">\n",
       "  <thead>\n",
       "    <tr style=\"text-align: right;\">\n",
       "      <th></th>\n",
       "      <th>order_id</th>\n",
       "      <th>order_state</th>\n",
       "      <th>order_date</th>\n",
       "      <th>grand_total_inc</th>\n",
       "      <th>title</th>\n",
       "      <th>line</th>\n",
       "      <th>model</th>\n",
       "      <th>reference</th>\n",
       "      <th>quantity</th>\n",
       "      <th>price_inc</th>\n",
       "      <th>...</th>\n",
       "      <th>customs_description</th>\n",
       "      <th>date</th>\n",
       "      <th>time</th>\n",
       "      <th>day</th>\n",
       "      <th>fifo_quantity</th>\n",
       "      <th>Category</th>\n",
       "      <th>colour</th>\n",
       "      <th>F_Cat</th>\n",
       "      <th>S_Cat</th>\n",
       "      <th>T_Cat</th>\n",
       "    </tr>\n",
       "  </thead>\n",
       "  <tbody>\n",
       "    <tr>\n",
       "      <th>2</th>\n",
       "      <td>77921</td>\n",
       "      <td>Awaiting Dispatch</td>\n",
       "      <td>2024-02-29 21:51:05</td>\n",
       "      <td>199.000</td>\n",
       "      <td>Mens Leather Hodded Jacket Black: Super Bomber</td>\n",
       "      <td>92816</td>\n",
       "      <td>super bomber</td>\n",
       "      <td>4946506</td>\n",
       "      <td>1</td>\n",
       "      <td>199.00</td>\n",
       "      <td>...</td>\n",
       "      <td>Mens &gt; Leather Jackets &gt; Bomber Styles</td>\n",
       "      <td>2024-02-29</td>\n",
       "      <td>21:51:05</td>\n",
       "      <td>29</td>\n",
       "      <td>1</td>\n",
       "      <td>Mens &gt; Leather Jackets</td>\n",
       "      <td>Black</td>\n",
       "      <td>Mens</td>\n",
       "      <td>Leather Jackets</td>\n",
       "      <td>Bomber Styles</td>\n",
       "    </tr>\n",
       "    <tr>\n",
       "      <th>2</th>\n",
       "      <td>77921</td>\n",
       "      <td>Awaiting Dispatch</td>\n",
       "      <td>2024-02-29 21:51:05</td>\n",
       "      <td>199.000</td>\n",
       "      <td>Mens Leather Hodded Jacket Black: Super Bomber</td>\n",
       "      <td>92816</td>\n",
       "      <td>super bomber</td>\n",
       "      <td>4946506</td>\n",
       "      <td>1</td>\n",
       "      <td>199.00</td>\n",
       "      <td>...</td>\n",
       "      <td>Mens &gt; Leather Jackets &gt; Bomber Styles</td>\n",
       "      <td>2024-02-29</td>\n",
       "      <td>21:51:05</td>\n",
       "      <td>29</td>\n",
       "      <td>1</td>\n",
       "      <td>Ladies &gt; Ladies Waistcoats</td>\n",
       "      <td>Black</td>\n",
       "      <td>Ladies</td>\n",
       "      <td>Ladies Waistcoats</td>\n",
       "      <td>None</td>\n",
       "    </tr>\n",
       "    <tr>\n",
       "      <th>195</th>\n",
       "      <td>77744</td>\n",
       "      <td>Order Dispatched</td>\n",
       "      <td>2024-02-24 11:46:12</td>\n",
       "      <td>189.050</td>\n",
       "      <td>Mens Leather Hodded Jacket Black: Super Bomber</td>\n",
       "      <td>92619</td>\n",
       "      <td>super bomber</td>\n",
       "      <td>4946505</td>\n",
       "      <td>1</td>\n",
       "      <td>199.00</td>\n",
       "      <td>...</td>\n",
       "      <td>Mens &gt; Leather Jackets &gt; Bomber Styles</td>\n",
       "      <td>2024-02-24</td>\n",
       "      <td>11:46:12</td>\n",
       "      <td>24</td>\n",
       "      <td>1</td>\n",
       "      <td>Mens &gt; Leather Jackets</td>\n",
       "      <td>Black</td>\n",
       "      <td>Mens</td>\n",
       "      <td>Leather Jackets</td>\n",
       "      <td>Bomber Styles</td>\n",
       "    </tr>\n",
       "    <tr>\n",
       "      <th>259</th>\n",
       "      <td>77687</td>\n",
       "      <td>Order Dispatched</td>\n",
       "      <td>2024-02-22 15:32:05</td>\n",
       "      <td>189.000</td>\n",
       "      <td>Mens Leather Hodded Jacket Black: Super Bomber</td>\n",
       "      <td>92548</td>\n",
       "      <td>super bomber</td>\n",
       "      <td>4946504</td>\n",
       "      <td>1</td>\n",
       "      <td>199.00</td>\n",
       "      <td>...</td>\n",
       "      <td>Mens &gt; Leather Jackets &gt; Bomber Styles</td>\n",
       "      <td>2024-02-22</td>\n",
       "      <td>15:32:05</td>\n",
       "      <td>22</td>\n",
       "      <td>1</td>\n",
       "      <td>Mens &gt; Leather Jackets</td>\n",
       "      <td>Black</td>\n",
       "      <td>Mens</td>\n",
       "      <td>Leather Jackets</td>\n",
       "      <td>Bomber Styles</td>\n",
       "    </tr>\n",
       "    <tr>\n",
       "      <th>299</th>\n",
       "      <td>77655</td>\n",
       "      <td>Order Dispatched</td>\n",
       "      <td>2024-02-21 20:29:09</td>\n",
       "      <td>190.825</td>\n",
       "      <td>Mens Leather Hodded Jacket Black: Super Bomber</td>\n",
       "      <td>92505</td>\n",
       "      <td>super bomber</td>\n",
       "      <td>4946506</td>\n",
       "      <td>1</td>\n",
       "      <td>165.83</td>\n",
       "      <td>...</td>\n",
       "      <td>Mens &gt; Leather Jackets &gt; Bomber Styles</td>\n",
       "      <td>2024-02-21</td>\n",
       "      <td>20:29:09</td>\n",
       "      <td>21</td>\n",
       "      <td>1</td>\n",
       "      <td>Mens &gt; Leather Jackets</td>\n",
       "      <td>Black</td>\n",
       "      <td>Mens</td>\n",
       "      <td>Leather Jackets</td>\n",
       "      <td>Bomber Styles</td>\n",
       "    </tr>\n",
       "  </tbody>\n",
       "</table>\n",
       "<p>5 rows × 22 columns</p>\n",
       "</div>"
      ],
      "text/plain": [
       "     order_id        order_state           order_date  grand_total_inc  \\\n",
       "2       77921  Awaiting Dispatch  2024-02-29 21:51:05          199.000   \n",
       "2       77921  Awaiting Dispatch  2024-02-29 21:51:05          199.000   \n",
       "195     77744   Order Dispatched  2024-02-24 11:46:12          189.050   \n",
       "259     77687   Order Dispatched  2024-02-22 15:32:05          189.000   \n",
       "299     77655   Order Dispatched  2024-02-21 20:29:09          190.825   \n",
       "\n",
       "                                              title   line         model  \\\n",
       "2    Mens Leather Hodded Jacket Black: Super Bomber  92816  super bomber   \n",
       "2    Mens Leather Hodded Jacket Black: Super Bomber  92816  super bomber   \n",
       "195  Mens Leather Hodded Jacket Black: Super Bomber  92619  super bomber   \n",
       "259  Mens Leather Hodded Jacket Black: Super Bomber  92548  super bomber   \n",
       "299  Mens Leather Hodded Jacket Black: Super Bomber  92505  super bomber   \n",
       "\n",
       "     reference  quantity  price_inc  ...  \\\n",
       "2      4946506         1     199.00  ...   \n",
       "2      4946506         1     199.00  ...   \n",
       "195    4946505         1     199.00  ...   \n",
       "259    4946504         1     199.00  ...   \n",
       "299    4946506         1     165.83  ...   \n",
       "\n",
       "                        customs_description        date      time day  \\\n",
       "2    Mens > Leather Jackets > Bomber Styles  2024-02-29  21:51:05  29   \n",
       "2    Mens > Leather Jackets > Bomber Styles  2024-02-29  21:51:05  29   \n",
       "195  Mens > Leather Jackets > Bomber Styles  2024-02-24  11:46:12  24   \n",
       "259  Mens > Leather Jackets > Bomber Styles  2024-02-22  15:32:05  22   \n",
       "299  Mens > Leather Jackets > Bomber Styles  2024-02-21  20:29:09  21   \n",
       "\n",
       "    fifo_quantity                    Category  colour   F_Cat  \\\n",
       "2               1      Mens > Leather Jackets   Black    Mens   \n",
       "2               1  Ladies > Ladies Waistcoats   Black  Ladies   \n",
       "195             1      Mens > Leather Jackets   Black    Mens   \n",
       "259             1      Mens > Leather Jackets   Black    Mens   \n",
       "299             1      Mens > Leather Jackets   Black    Mens   \n",
       "\n",
       "                 S_Cat          T_Cat  \n",
       "2      Leather Jackets  Bomber Styles  \n",
       "2    Ladies Waistcoats           None  \n",
       "195    Leather Jackets  Bomber Styles  \n",
       "259    Leather Jackets  Bomber Styles  \n",
       "299    Leather Jackets  Bomber Styles  \n",
       "\n",
       "[5 rows x 22 columns]"
      ]
     },
     "execution_count": 20,
     "metadata": {},
     "output_type": "execute_result"
    }
   ],
   "source": [
    "df1[df1['title'] == 'Mens Leather Hodded Jacket Black: Super Bomber']"
   ]
  },
  {
   "cell_type": "code",
   "execution_count": null,
   "metadata": {},
   "outputs": [],
   "source": []
  }
 ],
 "metadata": {
  "kernelspec": {
   "display_name": "Python 3",
   "language": "python",
   "name": "python3"
  },
  "language_info": {
   "codemirror_mode": {
    "name": "ipython",
    "version": 3
   },
   "file_extension": ".py",
   "mimetype": "text/x-python",
   "name": "python",
   "nbconvert_exporter": "python",
   "pygments_lexer": "ipython3",
   "version": "3.12.1"
  }
 },
 "nbformat": 4,
 "nbformat_minor": 2
}
