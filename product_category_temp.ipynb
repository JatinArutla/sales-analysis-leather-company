{
 "cells": [
  {
   "cell_type": "code",
   "execution_count": 1,
   "metadata": {},
   "outputs": [],
   "source": [
    "import pandas as pd\n",
    "import numpy as np"
   ]
  },
  {
   "cell_type": "code",
   "execution_count": 2,
   "metadata": {},
   "outputs": [
    {
     "data": {
      "text/plain": [
       "(59185, 22)"
      ]
     },
     "execution_count": 2,
     "metadata": {},
     "output_type": "execute_result"
    }
   ],
   "source": [
    "df1 = pd.read_csv('2024_feb_unduplicated_orders.csv')\n",
    "df1['title'] = df1['title'].str.lstrip()\n",
    "df1['title'] = df1['title'].str.rstrip()\n",
    "df1.shape"
   ]
  },
  {
   "cell_type": "code",
   "execution_count": 3,
   "metadata": {},
   "outputs": [
    {
     "data": {
      "text/plain": [
       "((56557, 22), (2628, 22), 2628)"
      ]
     },
     "execution_count": 3,
     "metadata": {},
     "output_type": "execute_result"
    }
   ],
   "source": [
    "df1_notnull = df1[df1['customs_description'].notnull()]\n",
    "df1_null = df1[df1['customs_description'].isna()]\n",
    "df1_notnull.shape, df1_null.shape, len(df1_null.isna())"
   ]
  },
  {
   "cell_type": "code",
   "execution_count": 4,
   "metadata": {},
   "outputs": [
    {
     "data": {
      "text/plain": [
       "59185"
      ]
     },
     "execution_count": 4,
     "metadata": {},
     "output_type": "execute_result"
    }
   ],
   "source": [
    "56557 + 2628"
   ]
  },
  {
   "cell_type": "code",
   "execution_count": 5,
   "metadata": {},
   "outputs": [
    {
     "name": "stderr",
     "output_type": "stream",
     "text": [
      "<>:9: SyntaxWarning: invalid escape sequence '\\('\n",
      "<>:9: SyntaxWarning: invalid escape sequence '\\('\n",
      "C:\\Users\\retai\\AppData\\Local\\Temp\\ipykernel_9244\\526015662.py:9: SyntaxWarning: invalid escape sequence '\\('\n",
      "  temp_stock_df = temp_df['title'].str.split('\\(|\\)', expand=True).iloc[:,[0,1]]\n"
     ]
    }
   ],
   "source": [
    "temp_df = pd.read_csv('product_feed.csv')\n",
    "temp_df['PRODUCT TYPE'] = temp_df['PRODUCT TYPE'].str.replace('&gt;', '>')\n",
    "temp_df['PRODUCT TYPE'] = temp_df['PRODUCT TYPE'].str.replace('&amp;', '&')\n",
    "temp_df['PRODUCT TYPE'] = temp_df['PRODUCT TYPE'].str.replace('&#039;', \"'\")\n",
    "temp_df['TITLE'] = temp_df['TITLE'].str.replace('&gt;', '>')\n",
    "temp_df['TITLE'] = temp_df['TITLE'].str.replace('&amp;', '&')\n",
    "temp_df['TITLE'] = temp_df['TITLE'].str.replace('&#039;', \"'\")\n",
    "temp_df.rename(columns={'TITLE': 'title'}, inplace=True)\n",
    "temp_stock_df = temp_df['title'].str.split('\\(|\\)', expand=True).iloc[:,[0,1]]\n",
    "temp_df['title'] = temp_stock_df[0]\n",
    "temp_df['title'] = temp_df['title'].str.lstrip()\n",
    "temp_df['title'] = temp_df['title'].str.rstrip()\n",
    "temp_df.drop_duplicates(subset=['title'], inplace=True)\n",
    "temp_df = temp_df[['title', 'PRODUCT TYPE']]"
   ]
  },
  {
   "cell_type": "code",
   "execution_count": 6,
   "metadata": {},
   "outputs": [
    {
     "name": "stderr",
     "output_type": "stream",
     "text": [
      "C:\\Users\\retai\\AppData\\Local\\Temp\\ipykernel_9244\\1485600810.py:1: FutureWarning: DataFrame.applymap has been deprecated. Use DataFrame.map instead.\n",
      "  temp_df.applymap(list)['title'].apply(pd.Series).stack().unique()\n"
     ]
    },
    {
     "data": {
      "text/plain": [
       "array(['L', 'e', 'a', 't', 'h', 'r', ' ', 'J', 'c', 'k', 'B', 'l', '/',\n",
       "       'n', 'i', ':', 'u', 'o', 'w', 'p', '0', '1', '8', '4', 'd', 'y',\n",
       "       'M', 'C', 'g', 'I', 'f', 'q', 'G', 'D', 'F', 'H', 'S', 's', '-',\n",
       "       'A', 'T', 'b', 'v', '2', '7', 'E', 'x', '9', 'Q', 'W', '5', 'm',\n",
       "       '3', '6', 'V', '&', 'Z', ',', 'N', 'P', 'R', '.', 'O', 'K', 'X',\n",
       "       'j', 'U', 'z', 'Y', \"'\", '–', ';', '\\xa0', '’'], dtype=object)"
      ]
     },
     "execution_count": 6,
     "metadata": {},
     "output_type": "execute_result"
    }
   ],
   "source": [
    "temp_df.applymap(list)['title'].apply(pd.Series).stack().unique()"
   ]
  },
  {
   "cell_type": "code",
   "execution_count": 7,
   "metadata": {},
   "outputs": [
    {
     "data": {
      "text/html": [
       "<div>\n",
       "<style scoped>\n",
       "    .dataframe tbody tr th:only-of-type {\n",
       "        vertical-align: middle;\n",
       "    }\n",
       "\n",
       "    .dataframe tbody tr th {\n",
       "        vertical-align: top;\n",
       "    }\n",
       "\n",
       "    .dataframe thead th {\n",
       "        text-align: right;\n",
       "    }\n",
       "</style>\n",
       "<table border=\"1\" class=\"dataframe\">\n",
       "  <thead>\n",
       "    <tr style=\"text-align: right;\">\n",
       "      <th></th>\n",
       "      <th>title</th>\n",
       "      <th>PRODUCT TYPE</th>\n",
       "    </tr>\n",
       "  </thead>\n",
       "  <tbody>\n",
       "    <tr>\n",
       "      <th>9091</th>\n",
       "      <td>Women's Collarless Leather Fashion Jacket Blac...</td>\n",
       "      <td>Ladies &gt; Leather Jackets &gt; Casual Styles</td>\n",
       "    </tr>\n",
       "  </tbody>\n",
       "</table>\n",
       "</div>"
      ],
      "text/plain": [
       "                                                  title  \\\n",
       "9091  Women's Collarless Leather Fashion Jacket Blac...   \n",
       "\n",
       "                                  PRODUCT TYPE  \n",
       "9091  Ladies > Leather Jackets > Casual Styles  "
      ]
     },
     "execution_count": 7,
     "metadata": {},
     "output_type": "execute_result"
    }
   ],
   "source": [
    "temp_df[temp_df['title'] == \"Women's Collarless Leather Fashion Jacket Black: AWL-284\"]"
   ]
  },
  {
   "cell_type": "code",
   "execution_count": 8,
   "metadata": {},
   "outputs": [
    {
     "data": {
      "text/plain": [
       "True"
      ]
     },
     "execution_count": 8,
     "metadata": {},
     "output_type": "execute_result"
    }
   ],
   "source": [
    "temp_df['title'].str.contains(\"Women's Collarless Leather Fashion Jacket Black: AWL-284\").any()"
   ]
  },
  {
   "cell_type": "code",
   "execution_count": 12,
   "metadata": {},
   "outputs": [
    {
     "data": {
      "text/plain": [
       "(2628, 22)"
      ]
     },
     "execution_count": 12,
     "metadata": {},
     "output_type": "execute_result"
    }
   ],
   "source": [
    "df1_null = df1_null.merge(temp_df, on='title', how='left')\n",
    "df1_null['customs_description'] = df1_null['PRODUCT TYPE']\n",
    "df1_null.drop(['PRODUCT TYPE'], axis=1, inplace=True)\n",
    "df1_null.shape"
   ]
  },
  {
   "cell_type": "code",
   "execution_count": 154,
   "metadata": {},
   "outputs": [
    {
     "data": {
      "text/plain": [
       "(59185, 22)"
      ]
     },
     "execution_count": 154,
     "metadata": {},
     "output_type": "execute_result"
    }
   ],
   "source": [
    "df1 = pd.concat([df1_notnull, df1_null], ignore_index=True)\n",
    "df1.drop_duplicates(inplace=True)\n",
    "df1.shape"
   ]
  },
  {
   "cell_type": "code",
   "execution_count": 159,
   "metadata": {},
   "outputs": [],
   "source": [
    "df2 = df1['customs_description'].str.split(' > ', expand=True)\n",
    "df1.drop(['Category', 'F_Cat', 'S_Cat', 'T_Cat'], axis=1, inplace=True)\n",
    "df2.columns = ['F_Cat', 'S_Cat', 'T_Cat']\n",
    "df1 = df1.join(df2)\n",
    "df1['Category'] = df1['F_Cat'] + ' > ' + df1['S_Cat']"
   ]
  },
  {
   "cell_type": "code",
   "execution_count": 162,
   "metadata": {},
   "outputs": [],
   "source": [
    "df1.to_csv('2024_feb_unduplicated_orders fixed_categories.csv')"
   ]
  },
  {
   "cell_type": "code",
   "execution_count": null,
   "metadata": {},
   "outputs": [],
   "source": []
  }
 ],
 "metadata": {
  "kernelspec": {
   "display_name": "Python 3",
   "language": "python",
   "name": "python3"
  },
  "language_info": {
   "codemirror_mode": {
    "name": "ipython",
    "version": 3
   },
   "file_extension": ".py",
   "mimetype": "text/x-python",
   "name": "python",
   "nbconvert_exporter": "python",
   "pygments_lexer": "ipython3",
   "version": "3.12.1"
  }
 },
 "nbformat": 4,
 "nbformat_minor": 2
}
