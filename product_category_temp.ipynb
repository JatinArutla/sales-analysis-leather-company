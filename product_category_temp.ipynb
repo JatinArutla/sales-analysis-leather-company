{
 "cells": [
  {
   "cell_type": "code",
   "execution_count": 161,
   "metadata": {},
   "outputs": [],
   "source": [
    "import pandas as pd\n",
    "import numpy as np"
   ]
  },
  {
   "cell_type": "code",
   "execution_count": 162,
   "metadata": {},
   "outputs": [
    {
     "data": {
      "text/plain": [
       "(58958, 22)"
      ]
     },
     "execution_count": 162,
     "metadata": {},
     "output_type": "execute_result"
    }
   ],
   "source": [
    "df1 = pd.read_csv('2024_feb_unduplicated_orders.csv')\n",
    "df1['title'] = df1['title'].str.lstrip()\n",
    "df1['title'] = df1['title'].str.rstrip()\n",
    "df1.shape"
   ]
  },
  {
   "cell_type": "code",
   "execution_count": 163,
   "metadata": {},
   "outputs": [
    {
     "data": {
      "text/plain": [
       "((56366, 22), (2592, 22))"
      ]
     },
     "execution_count": 163,
     "metadata": {},
     "output_type": "execute_result"
    }
   ],
   "source": [
    "df1_notnull = df1[df1['customs_description'].notnull()]\n",
    "df1_null = df1[df1['customs_description'].isna()]\n",
    "df1_notnull.shape, df1_null.shape"
   ]
  },
  {
   "cell_type": "code",
   "execution_count": 164,
   "metadata": {},
   "outputs": [
    {
     "data": {
      "text/plain": [
       "58958"
      ]
     },
     "execution_count": 164,
     "metadata": {},
     "output_type": "execute_result"
    }
   ],
   "source": [
    "56366 + 2592"
   ]
  },
  {
   "cell_type": "code",
   "execution_count": 165,
   "metadata": {},
   "outputs": [
    {
     "name": "stderr",
     "output_type": "stream",
     "text": [
      "<>:5: SyntaxWarning: invalid escape sequence '\\('\n",
      "<>:5: SyntaxWarning: invalid escape sequence '\\('\n",
      "C:\\Users\\retai\\AppData\\Local\\Temp\\ipykernel_18084\\158616370.py:5: SyntaxWarning: invalid escape sequence '\\('\n",
      "  temp_stock_df = temp_df['title'].str.split('\\(|\\)', expand=True).iloc[:,[0,1]]\n"
     ]
    }
   ],
   "source": [
    "temp_df = pd.read_csv('product_feed.csv')\n",
    "temp_df['PRODUCT TYPE'] = temp_df['PRODUCT TYPE'].str.replace('&gt;', '>')\n",
    "temp_df['PRODUCT TYPE'] = temp_df['PRODUCT TYPE'].str.replace('&amp;', '&')\n",
    "temp_df.rename(columns={'TITLE': 'title'}, inplace=True)\n",
    "temp_stock_df = temp_df['title'].str.split('\\(|\\)', expand=True).iloc[:,[0,1]]\n",
    "temp_df['title'] = temp_stock_df[0]\n",
    "temp_df['title'] = temp_df['title'].str.lstrip()\n",
    "temp_df['title'] = temp_df['title'].str.rstrip()\n",
    "temp_df.drop_duplicates(subset=['title'], inplace=True)\n",
    "temp_df = temp_df[['title', 'PRODUCT TYPE']]"
   ]
  },
  {
   "cell_type": "code",
   "execution_count": 166,
   "metadata": {},
   "outputs": [
    {
     "data": {
      "text/plain": [
       "(2592, 22)"
      ]
     },
     "execution_count": 166,
     "metadata": {},
     "output_type": "execute_result"
    }
   ],
   "source": [
    "df1_null = df1_null.merge(temp_df, on='title', how='left')\n",
    "df1_null['customs_description'] = df1_null['PRODUCT TYPE']\n",
    "df1_null.drop(['PRODUCT TYPE'], axis=1, inplace=True)\n",
    "df1_null.shape"
   ]
  },
  {
   "cell_type": "code",
   "execution_count": 167,
   "metadata": {},
   "outputs": [
    {
     "data": {
      "text/plain": [
       "(58958, 22)"
      ]
     },
     "execution_count": 167,
     "metadata": {},
     "output_type": "execute_result"
    }
   ],
   "source": [
    "df1 = pd.concat([df1_notnull, df1_null])\n",
    "df1.shape"
   ]
  },
  {
   "cell_type": "code",
   "execution_count": 168,
   "metadata": {},
   "outputs": [
    {
     "data": {
      "text/plain": [
       "1618"
      ]
     },
     "execution_count": 168,
     "metadata": {},
     "output_type": "execute_result"
    }
   ],
   "source": [
    "df1['customs_description'].isnull().sum()"
   ]
  },
  {
   "cell_type": "code",
   "execution_count": 169,
   "metadata": {},
   "outputs": [],
   "source": [
    "df1.to_csv('2024_feb_unduplicated_orders fixed_categories.csv')"
   ]
  },
  {
   "cell_type": "code",
   "execution_count": 170,
   "metadata": {},
   "outputs": [
    {
     "data": {
      "text/html": [
       "<div>\n",
       "<style scoped>\n",
       "    .dataframe tbody tr th:only-of-type {\n",
       "        vertical-align: middle;\n",
       "    }\n",
       "\n",
       "    .dataframe tbody tr th {\n",
       "        vertical-align: top;\n",
       "    }\n",
       "\n",
       "    .dataframe thead th {\n",
       "        text-align: right;\n",
       "    }\n",
       "</style>\n",
       "<table border=\"1\" class=\"dataframe\">\n",
       "  <thead>\n",
       "    <tr style=\"text-align: right;\">\n",
       "      <th></th>\n",
       "      <th>order_id</th>\n",
       "      <th>order_state</th>\n",
       "      <th>order_date</th>\n",
       "      <th>grand_total_inc</th>\n",
       "      <th>title</th>\n",
       "      <th>line</th>\n",
       "      <th>model</th>\n",
       "      <th>reference</th>\n",
       "      <th>quantity</th>\n",
       "      <th>price_inc</th>\n",
       "      <th>...</th>\n",
       "      <th>customs_description</th>\n",
       "      <th>date</th>\n",
       "      <th>time</th>\n",
       "      <th>day</th>\n",
       "      <th>fifo_quantity</th>\n",
       "      <th>F_Cat</th>\n",
       "      <th>S_Cat</th>\n",
       "      <th>T_Cat</th>\n",
       "      <th>Category</th>\n",
       "      <th>colour</th>\n",
       "    </tr>\n",
       "  </thead>\n",
       "  <tbody>\n",
       "    <tr>\n",
       "      <th>822</th>\n",
       "      <td>70654</td>\n",
       "      <td>Order Dispatched</td>\n",
       "      <td>2023-11-23 23:59:52</td>\n",
       "      <td>269.000</td>\n",
       "      <td>Mens Leather Hodded Jacket Black: Super Bomber</td>\n",
       "      <td>83922</td>\n",
       "      <td>super bomber</td>\n",
       "      <td>4946510</td>\n",
       "      <td>1</td>\n",
       "      <td>269.000</td>\n",
       "      <td>...</td>\n",
       "      <td>Mens &gt; Leather Jackets &gt; Blouson &amp; Casual Styles</td>\n",
       "      <td>2023-11-23</td>\n",
       "      <td>23:59:52</td>\n",
       "      <td>23</td>\n",
       "      <td>1</td>\n",
       "      <td>NaN</td>\n",
       "      <td>NaN</td>\n",
       "      <td>NaN</td>\n",
       "      <td>NaN</td>\n",
       "      <td>Black</td>\n",
       "    </tr>\n",
       "    <tr>\n",
       "      <th>837</th>\n",
       "      <td>70546</td>\n",
       "      <td>Order Dispatched</td>\n",
       "      <td>2023-11-23 02:54:27</td>\n",
       "      <td>298.333</td>\n",
       "      <td>Mens Leather Hodded Jacket Black: Super Bomber</td>\n",
       "      <td>83781</td>\n",
       "      <td>super bomber</td>\n",
       "      <td>4946504</td>\n",
       "      <td>1</td>\n",
       "      <td>165.833</td>\n",
       "      <td>...</td>\n",
       "      <td>Mens &gt; Leather Jackets &gt; Blouson &amp; Casual Styles</td>\n",
       "      <td>2023-11-23</td>\n",
       "      <td>02:54:27</td>\n",
       "      <td>23</td>\n",
       "      <td>1</td>\n",
       "      <td>NaN</td>\n",
       "      <td>NaN</td>\n",
       "      <td>NaN</td>\n",
       "      <td>NaN</td>\n",
       "      <td>Black</td>\n",
       "    </tr>\n",
       "    <tr>\n",
       "      <th>1333</th>\n",
       "      <td>72860</td>\n",
       "      <td>Order Dispatched</td>\n",
       "      <td>2023-12-09 14:44:40</td>\n",
       "      <td>189.050</td>\n",
       "      <td>Mens Leather Hodded Jacket Black: Super Bomber</td>\n",
       "      <td>86661</td>\n",
       "      <td>super bomber</td>\n",
       "      <td>4946505</td>\n",
       "      <td>1</td>\n",
       "      <td>199.000</td>\n",
       "      <td>...</td>\n",
       "      <td>Mens &gt; Leather Jackets &gt; Blouson &amp; Casual Styles</td>\n",
       "      <td>2023-12-09</td>\n",
       "      <td>14:44:40</td>\n",
       "      <td>9</td>\n",
       "      <td>1</td>\n",
       "      <td>NaN</td>\n",
       "      <td>NaN</td>\n",
       "      <td>NaN</td>\n",
       "      <td>NaN</td>\n",
       "      <td>Black</td>\n",
       "    </tr>\n",
       "    <tr>\n",
       "      <th>1415</th>\n",
       "      <td>72244</td>\n",
       "      <td>Order Dispatched</td>\n",
       "      <td>2023-12-05 16:12:08</td>\n",
       "      <td>199.000</td>\n",
       "      <td>Mens Leather Hodded Jacket Black: Super Bomber</td>\n",
       "      <td>85886</td>\n",
       "      <td>super bomber</td>\n",
       "      <td>4946504</td>\n",
       "      <td>1</td>\n",
       "      <td>199.000</td>\n",
       "      <td>...</td>\n",
       "      <td>Mens &gt; Leather Jackets &gt; Blouson &amp; Casual Styles</td>\n",
       "      <td>2023-12-05</td>\n",
       "      <td>16:12:08</td>\n",
       "      <td>5</td>\n",
       "      <td>1</td>\n",
       "      <td>NaN</td>\n",
       "      <td>NaN</td>\n",
       "      <td>NaN</td>\n",
       "      <td>NaN</td>\n",
       "      <td>Black</td>\n",
       "    </tr>\n",
       "    <tr>\n",
       "      <th>1484</th>\n",
       "      <td>71636</td>\n",
       "      <td>Order Dispatched</td>\n",
       "      <td>2023-12-01 01:05:03</td>\n",
       "      <td>269.000</td>\n",
       "      <td>Mens Leather Hodded Jacket Black: Super Bomber</td>\n",
       "      <td>85149</td>\n",
       "      <td>super bomber</td>\n",
       "      <td>4946510</td>\n",
       "      <td>1</td>\n",
       "      <td>269.000</td>\n",
       "      <td>...</td>\n",
       "      <td>Mens &gt; Leather Jackets &gt; Blouson &amp; Casual Styles</td>\n",
       "      <td>2023-12-01</td>\n",
       "      <td>01:05:03</td>\n",
       "      <td>1</td>\n",
       "      <td>1</td>\n",
       "      <td>NaN</td>\n",
       "      <td>NaN</td>\n",
       "      <td>NaN</td>\n",
       "      <td>NaN</td>\n",
       "      <td>Black</td>\n",
       "    </tr>\n",
       "    <tr>\n",
       "      <th>2469</th>\n",
       "      <td>76745</td>\n",
       "      <td>Order Incomplete</td>\n",
       "      <td>2024-01-28 12:48:16</td>\n",
       "      <td>190.833</td>\n",
       "      <td>Mens Leather Hodded Jacket Black: Super Bomber</td>\n",
       "      <td>91388</td>\n",
       "      <td>super bomber</td>\n",
       "      <td>4946503</td>\n",
       "      <td>1</td>\n",
       "      <td>165.833</td>\n",
       "      <td>...</td>\n",
       "      <td>Mens &gt; Leather Jackets &gt; Blouson &amp; Casual Styles</td>\n",
       "      <td>2024-01-28</td>\n",
       "      <td>12:48:16</td>\n",
       "      <td>28</td>\n",
       "      <td>1</td>\n",
       "      <td>NaN</td>\n",
       "      <td>NaN</td>\n",
       "      <td>NaN</td>\n",
       "      <td>NaN</td>\n",
       "      <td>Black</td>\n",
       "    </tr>\n",
       "    <tr>\n",
       "      <th>2485</th>\n",
       "      <td>77687</td>\n",
       "      <td>Order Dispatched</td>\n",
       "      <td>2024-02-22 15:32:05</td>\n",
       "      <td>189.000</td>\n",
       "      <td>Mens Leather Hodded Jacket Black: Super Bomber</td>\n",
       "      <td>92548</td>\n",
       "      <td>super bomber</td>\n",
       "      <td>4946504</td>\n",
       "      <td>1</td>\n",
       "      <td>199.000</td>\n",
       "      <td>...</td>\n",
       "      <td>Mens &gt; Leather Jackets &gt; Blouson &amp; Casual Styles</td>\n",
       "      <td>2024-02-22</td>\n",
       "      <td>15:32:05</td>\n",
       "      <td>22</td>\n",
       "      <td>1</td>\n",
       "      <td>NaN</td>\n",
       "      <td>NaN</td>\n",
       "      <td>NaN</td>\n",
       "      <td>NaN</td>\n",
       "      <td>Black</td>\n",
       "    </tr>\n",
       "    <tr>\n",
       "      <th>2491</th>\n",
       "      <td>77655</td>\n",
       "      <td>Order Dispatched</td>\n",
       "      <td>2024-02-21 20:29:09</td>\n",
       "      <td>190.825</td>\n",
       "      <td>Mens Leather Hodded Jacket Black: Super Bomber</td>\n",
       "      <td>92505</td>\n",
       "      <td>super bomber</td>\n",
       "      <td>4946506</td>\n",
       "      <td>1</td>\n",
       "      <td>165.830</td>\n",
       "      <td>...</td>\n",
       "      <td>Mens &gt; Leather Jackets &gt; Blouson &amp; Casual Styles</td>\n",
       "      <td>2024-02-21</td>\n",
       "      <td>20:29:09</td>\n",
       "      <td>21</td>\n",
       "      <td>1</td>\n",
       "      <td>NaN</td>\n",
       "      <td>NaN</td>\n",
       "      <td>NaN</td>\n",
       "      <td>NaN</td>\n",
       "      <td>Black</td>\n",
       "    </tr>\n",
       "  </tbody>\n",
       "</table>\n",
       "<p>8 rows × 22 columns</p>\n",
       "</div>"
      ],
      "text/plain": [
       "      order_id       order_state           order_date  grand_total_inc  \\\n",
       "822      70654  Order Dispatched  2023-11-23 23:59:52          269.000   \n",
       "837      70546  Order Dispatched  2023-11-23 02:54:27          298.333   \n",
       "1333     72860  Order Dispatched  2023-12-09 14:44:40          189.050   \n",
       "1415     72244  Order Dispatched  2023-12-05 16:12:08          199.000   \n",
       "1484     71636  Order Dispatched  2023-12-01 01:05:03          269.000   \n",
       "2469     76745  Order Incomplete  2024-01-28 12:48:16          190.833   \n",
       "2485     77687  Order Dispatched  2024-02-22 15:32:05          189.000   \n",
       "2491     77655  Order Dispatched  2024-02-21 20:29:09          190.825   \n",
       "\n",
       "                                               title   line         model  \\\n",
       "822   Mens Leather Hodded Jacket Black: Super Bomber  83922  super bomber   \n",
       "837   Mens Leather Hodded Jacket Black: Super Bomber  83781  super bomber   \n",
       "1333  Mens Leather Hodded Jacket Black: Super Bomber  86661  super bomber   \n",
       "1415  Mens Leather Hodded Jacket Black: Super Bomber  85886  super bomber   \n",
       "1484  Mens Leather Hodded Jacket Black: Super Bomber  85149  super bomber   \n",
       "2469  Mens Leather Hodded Jacket Black: Super Bomber  91388  super bomber   \n",
       "2485  Mens Leather Hodded Jacket Black: Super Bomber  92548  super bomber   \n",
       "2491  Mens Leather Hodded Jacket Black: Super Bomber  92505  super bomber   \n",
       "\n",
       "      reference  quantity  price_inc  ...  \\\n",
       "822     4946510         1    269.000  ...   \n",
       "837     4946504         1    165.833  ...   \n",
       "1333    4946505         1    199.000  ...   \n",
       "1415    4946504         1    199.000  ...   \n",
       "1484    4946510         1    269.000  ...   \n",
       "2469    4946503         1    165.833  ...   \n",
       "2485    4946504         1    199.000  ...   \n",
       "2491    4946506         1    165.830  ...   \n",
       "\n",
       "                                   customs_description        date      time  \\\n",
       "822   Mens > Leather Jackets > Blouson & Casual Styles  2023-11-23  23:59:52   \n",
       "837   Mens > Leather Jackets > Blouson & Casual Styles  2023-11-23  02:54:27   \n",
       "1333  Mens > Leather Jackets > Blouson & Casual Styles  2023-12-09  14:44:40   \n",
       "1415  Mens > Leather Jackets > Blouson & Casual Styles  2023-12-05  16:12:08   \n",
       "1484  Mens > Leather Jackets > Blouson & Casual Styles  2023-12-01  01:05:03   \n",
       "2469  Mens > Leather Jackets > Blouson & Casual Styles  2024-01-28  12:48:16   \n",
       "2485  Mens > Leather Jackets > Blouson & Casual Styles  2024-02-22  15:32:05   \n",
       "2491  Mens > Leather Jackets > Blouson & Casual Styles  2024-02-21  20:29:09   \n",
       "\n",
       "     day fifo_quantity  F_Cat  S_Cat T_Cat Category colour  \n",
       "822   23             1    NaN    NaN   NaN      NaN  Black  \n",
       "837   23             1    NaN    NaN   NaN      NaN  Black  \n",
       "1333   9             1    NaN    NaN   NaN      NaN  Black  \n",
       "1415   5             1    NaN    NaN   NaN      NaN  Black  \n",
       "1484   1             1    NaN    NaN   NaN      NaN  Black  \n",
       "2469  28             1    NaN    NaN   NaN      NaN  Black  \n",
       "2485  22             1    NaN    NaN   NaN      NaN  Black  \n",
       "2491  21             1    NaN    NaN   NaN      NaN  Black  \n",
       "\n",
       "[8 rows x 22 columns]"
      ]
     },
     "execution_count": 170,
     "metadata": {},
     "output_type": "execute_result"
    }
   ],
   "source": [
    "df1[df1['title'] == 'Mens Leather Hodded Jacket Black: Super Bomber']"
   ]
  },
  {
   "cell_type": "code",
   "execution_count": null,
   "metadata": {},
   "outputs": [],
   "source": []
  }
 ],
 "metadata": {
  "kernelspec": {
   "display_name": "Python 3",
   "language": "python",
   "name": "python3"
  },
  "language_info": {
   "codemirror_mode": {
    "name": "ipython",
    "version": 3
   },
   "file_extension": ".py",
   "mimetype": "text/x-python",
   "name": "python",
   "nbconvert_exporter": "python",
   "pygments_lexer": "ipython3",
   "version": "3.12.1"
  }
 },
 "nbformat": 4,
 "nbformat_minor": 2
}
