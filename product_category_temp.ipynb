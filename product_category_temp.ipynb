{
 "cells": [
  {
   "cell_type": "code",
   "execution_count": 3,
   "metadata": {},
   "outputs": [],
   "source": [
    "import pandas as pd\n",
    "import numpy as np"
   ]
  },
  {
   "cell_type": "code",
   "execution_count": 4,
   "metadata": {},
   "outputs": [
    {
     "name": "stderr",
     "output_type": "stream",
     "text": [
      "<>:16: SyntaxWarning: invalid escape sequence '\\('\n",
      "<>:16: SyntaxWarning: invalid escape sequence '\\('\n",
      "C:\\Users\\retai\\AppData\\Local\\Temp\\ipykernel_7376\\3364396161.py:16: SyntaxWarning: invalid escape sequence '\\('\n",
      "  temp_stock_df = temp_df['title_cat'].str.split('\\(Size:', expand=True)\n"
     ]
    },
    {
     "name": "stdout",
     "output_type": "stream",
     "text": [
      "(61699, 23)\n"
     ]
    }
   ],
   "source": [
    "df1 = pd.read_csv('2024_may27_orders.csv')\n",
    "df1['title'] = df1['title'].str.lstrip()\n",
    "df1['title'] = df1['title'].str.rstrip()\n",
    "df1['title_lower'] = df1['title'].str.lower()\n",
    "print(df1.shape)\n",
    "\n",
    "temp_df = pd.read_csv('product_feed.csv')\n",
    "temp_df['PRODUCT TYPE'] = temp_df['PRODUCT TYPE'].str.replace('&gt;', '>')\n",
    "temp_df['PRODUCT TYPE'] = temp_df['PRODUCT TYPE'].str.replace('&amp;', '&')\n",
    "temp_df['PRODUCT TYPE'] = temp_df['PRODUCT TYPE'].str.replace('&#039;', \"'\")\n",
    "temp_df['TITLE'] = temp_df['TITLE'].str.replace('&gt;', '>')\n",
    "temp_df['TITLE'] = temp_df['TITLE'].str.replace('&amp;', '&')\n",
    "temp_df['TITLE'] = temp_df['TITLE'].str.replace('&#039;', \"'\")\n",
    "temp_df.rename(columns={'TITLE': 'title_cat'}, inplace=True)\n",
    "# temp_stock_df = temp_df['title_cat'].str.split('\\(|\\)', expand=True).iloc[:,[0,1]]\n",
    "temp_stock_df = temp_df['title_cat'].str.split('\\(Size:', expand=True)\n",
    "temp_df['title_cat'] = temp_stock_df[0]\n",
    "temp_df['title_cat'] = temp_df['title_cat'].str.lstrip()\n",
    "temp_df['title_cat'] = temp_df['title_cat'].str.rstrip()\n",
    "temp_df.drop_duplicates(subset=['title_cat'], inplace=True)\n",
    "temp_df['title_lower'] = temp_df['title_cat'].str.lower()\n",
    "temp_df = temp_df[['title_cat', 'title_lower', 'PRODUCT TYPE']]"
   ]
  },
  {
   "cell_type": "code",
   "execution_count": 5,
   "metadata": {},
   "outputs": [],
   "source": [
    "df1['customs_description_old'] = df1['customs_description']"
   ]
  },
  {
   "cell_type": "code",
   "execution_count": 6,
   "metadata": {},
   "outputs": [
    {
     "data": {
      "text/plain": [
       "(61699, 25)"
      ]
     },
     "execution_count": 6,
     "metadata": {},
     "output_type": "execute_result"
    }
   ],
   "source": [
    "df1 = df1.merge(temp_df, on='title_lower', how='left')\n",
    "df1['customs_description'] = df1['PRODUCT TYPE']\n",
    "df1.drop(['PRODUCT TYPE'], axis=1, inplace=True)\n",
    "df1.shape"
   ]
  },
  {
   "cell_type": "code",
   "execution_count": 7,
   "metadata": {},
   "outputs": [
    {
     "name": "stdout",
     "output_type": "stream",
     "text": [
      "15115\n",
      "1287\n"
     ]
    }
   ],
   "source": [
    "print(df1['customs_description'].isnull().sum())\n",
    "df1['customs_description'] = df1['customs_description'].fillna(df1['customs_description_old'])\n",
    "df1.drop(['customs_description_old'], axis=1, inplace=True)\n",
    "print(df1['customs_description'].isnull().sum())"
   ]
  },
  {
   "cell_type": "code",
   "execution_count": 8,
   "metadata": {},
   "outputs": [
    {
     "data": {
      "text/plain": [
       "customs_description\n",
       "Mens > Leather Jackets > Biker Styles       4446\n",
       "Ladies > Leather Jackets > Biker Styles     3738\n",
       "January Sale 2021                           2882\n",
       "Ladies > Handbags                           2877\n",
       "Ladies > Deals for HER > Handbags           2724\n",
       "                                            ... \n",
       "Valetine's Deals 2024                          2\n",
       "Valentine's Day 2023                           1\n",
       "Home & Living > Leather Trays                  1\n",
       "Ladies > Leather Jackets > Bomber Styles       1\n",
       "Home & Living > Leather Magazine Baskets       1\n",
       "Name: count, Length: 140, dtype: int64"
      ]
     },
     "execution_count": 8,
     "metadata": {},
     "output_type": "execute_result"
    }
   ],
   "source": [
    "df1['customs_description'].value_counts()"
   ]
  },
  {
   "cell_type": "code",
   "execution_count": 9,
   "metadata": {},
   "outputs": [
    {
     "name": "stdout",
     "output_type": "stream",
     "text": [
      "0\n"
     ]
    }
   ],
   "source": [
    "df1['customs_description'] = df1['customs_description'].replace(np.NaN, '(No assigned category)')\n",
    "print(df1['customs_description'].isnull().sum())"
   ]
  },
  {
   "cell_type": "code",
   "execution_count": 10,
   "metadata": {},
   "outputs": [],
   "source": [
    "df2 = df1['customs_description'].str.split(' > ', expand=True)\n",
    "df1.drop(['Category', 'F_Cat', 'S_Cat', 'T_Cat'], axis=1, inplace=True)\n",
    "df2.columns = ['F_Cat', 'S_Cat', 'T_Cat']\n",
    "df1 = df1.join(df2)\n",
    "df1['Category'] = df1['F_Cat'] + ' > ' + df1['S_Cat']"
   ]
  },
  {
   "cell_type": "code",
   "execution_count": 11,
   "metadata": {},
   "outputs": [],
   "source": [
    "df1.to_csv('2024_may27_orders fixed_categories.csv')"
   ]
  },
  {
   "cell_type": "code",
   "execution_count": 12,
   "metadata": {},
   "outputs": [
    {
     "data": {
      "text/html": [
       "<div>\n",
       "<style scoped>\n",
       "    .dataframe tbody tr th:only-of-type {\n",
       "        vertical-align: middle;\n",
       "    }\n",
       "\n",
       "    .dataframe tbody tr th {\n",
       "        vertical-align: top;\n",
       "    }\n",
       "\n",
       "    .dataframe thead th {\n",
       "        text-align: right;\n",
       "    }\n",
       "</style>\n",
       "<table border=\"1\" class=\"dataframe\">\n",
       "  <thead>\n",
       "    <tr style=\"text-align: right;\">\n",
       "      <th></th>\n",
       "      <th>title_cat</th>\n",
       "      <th>title_lower</th>\n",
       "      <th>PRODUCT TYPE</th>\n",
       "    </tr>\n",
       "  </thead>\n",
       "  <tbody>\n",
       "    <tr>\n",
       "      <th>8476</th>\n",
       "      <td>Ashwood Leather Crossbody Bag Navy: CB-3 (63014)</td>\n",
       "      <td>ashwood leather crossbody bag navy: cb-3 (63014)</td>\n",
       "      <td>Ladies &gt; Leather Handbags</td>\n",
       "    </tr>\n",
       "  </tbody>\n",
       "</table>\n",
       "</div>"
      ],
      "text/plain": [
       "                                             title_cat  \\\n",
       "8476  Ashwood Leather Crossbody Bag Navy: CB-3 (63014)   \n",
       "\n",
       "                                           title_lower  \\\n",
       "8476  ashwood leather crossbody bag navy: cb-3 (63014)   \n",
       "\n",
       "                   PRODUCT TYPE  \n",
       "8476  Ladies > Leather Handbags  "
      ]
     },
     "execution_count": 12,
     "metadata": {},
     "output_type": "execute_result"
    }
   ],
   "source": [
    "temp_df[temp_df['title_cat'] == 'Ashwood Leather Crossbody Bag Navy: CB-3 (63014)']"
   ]
  },
  {
   "cell_type": "code",
   "execution_count": null,
   "metadata": {},
   "outputs": [],
   "source": []
  },
  {
   "cell_type": "code",
   "execution_count": 13,
   "metadata": {},
   "outputs": [
    {
     "data": {
      "text/plain": [
       "(61699, 22)"
      ]
     },
     "execution_count": 13,
     "metadata": {},
     "output_type": "execute_result"
    }
   ],
   "source": [
    "df1 = pd.read_csv('2024_may27_orders.csv')\n",
    "df1['title'] = df1['title'].str.lstrip()\n",
    "df1['title'] = df1['title'].str.rstrip()\n",
    "df1.shape"
   ]
  },
  {
   "cell_type": "code",
   "execution_count": 14,
   "metadata": {},
   "outputs": [
    {
     "data": {
      "text/plain": [
       "((58681, 22), (3018, 22), 3018)"
      ]
     },
     "execution_count": 14,
     "metadata": {},
     "output_type": "execute_result"
    }
   ],
   "source": [
    "df1_notnull = df1[df1['customs_description'].notnull()]\n",
    "df1_null = df1[df1['customs_description'].isna()]\n",
    "df1_notnull.shape, df1_null.shape, len(df1_null.isna())"
   ]
  },
  {
   "cell_type": "code",
   "execution_count": 15,
   "metadata": {},
   "outputs": [
    {
     "data": {
      "text/plain": [
       "59185"
      ]
     },
     "execution_count": 15,
     "metadata": {},
     "output_type": "execute_result"
    }
   ],
   "source": [
    "56557 + 2628"
   ]
  },
  {
   "cell_type": "code",
   "execution_count": 16,
   "metadata": {},
   "outputs": [
    {
     "name": "stderr",
     "output_type": "stream",
     "text": [
      "<>:9: SyntaxWarning: invalid escape sequence '\\('\n",
      "<>:9: SyntaxWarning: invalid escape sequence '\\('\n",
      "C:\\Users\\retai\\AppData\\Local\\Temp\\ipykernel_7376\\526015662.py:9: SyntaxWarning: invalid escape sequence '\\('\n",
      "  temp_stock_df = temp_df['title'].str.split('\\(|\\)', expand=True).iloc[:,[0,1]]\n"
     ]
    }
   ],
   "source": [
    "temp_df = pd.read_csv('product_feed.csv')\n",
    "temp_df['PRODUCT TYPE'] = temp_df['PRODUCT TYPE'].str.replace('&gt;', '>')\n",
    "temp_df['PRODUCT TYPE'] = temp_df['PRODUCT TYPE'].str.replace('&amp;', '&')\n",
    "temp_df['PRODUCT TYPE'] = temp_df['PRODUCT TYPE'].str.replace('&#039;', \"'\")\n",
    "temp_df['TITLE'] = temp_df['TITLE'].str.replace('&gt;', '>')\n",
    "temp_df['TITLE'] = temp_df['TITLE'].str.replace('&amp;', '&')\n",
    "temp_df['TITLE'] = temp_df['TITLE'].str.replace('&#039;', \"'\")\n",
    "temp_df.rename(columns={'TITLE': 'title'}, inplace=True)\n",
    "temp_stock_df = temp_df['title'].str.split('\\(|\\)', expand=True).iloc[:,[0,1]]\n",
    "temp_df['title'] = temp_stock_df[0]\n",
    "temp_df['title'] = temp_df['title'].str.lstrip()\n",
    "temp_df['title'] = temp_df['title'].str.rstrip()\n",
    "temp_df.drop_duplicates(subset=['title'], inplace=True)\n",
    "temp_df = temp_df[['title', 'PRODUCT TYPE']]"
   ]
  },
  {
   "cell_type": "code",
   "execution_count": 17,
   "metadata": {},
   "outputs": [],
   "source": [
    "# temp_df.applymap(list)['title'].apply(pd.Series).stack().unique()"
   ]
  },
  {
   "cell_type": "code",
   "execution_count": 18,
   "metadata": {},
   "outputs": [
    {
     "data": {
      "text/plain": [
       "(3018, 22)"
      ]
     },
     "execution_count": 18,
     "metadata": {},
     "output_type": "execute_result"
    }
   ],
   "source": [
    "df1_null = df1_null.merge(temp_df, on='title', how='left')\n",
    "df1_null['customs_description'] = df1_null['PRODUCT TYPE']\n",
    "df1_null.drop(['PRODUCT TYPE'], axis=1, inplace=True)\n",
    "df1_null.shape"
   ]
  },
  {
   "cell_type": "code",
   "execution_count": 19,
   "metadata": {},
   "outputs": [
    {
     "data": {
      "text/plain": [
       "(61699, 22)"
      ]
     },
     "execution_count": 19,
     "metadata": {},
     "output_type": "execute_result"
    }
   ],
   "source": [
    "df1 = pd.concat([df1_notnull, df1_null], ignore_index=True)\n",
    "df1.drop_duplicates(inplace=True)\n",
    "df1.shape"
   ]
  },
  {
   "cell_type": "code",
   "execution_count": 20,
   "metadata": {},
   "outputs": [],
   "source": [
    "df2 = df1['customs_description'].str.split(' > ', expand=True)\n",
    "df1.drop(['Category', 'F_Cat', 'S_Cat', 'T_Cat'], axis=1, inplace=True)\n",
    "df2.columns = ['F_Cat', 'S_Cat', 'T_Cat']\n",
    "df1 = df1.join(df2)\n",
    "df1['Category'] = df1['F_Cat'] + ' > ' + df1['S_Cat']"
   ]
  },
  {
   "cell_type": "code",
   "execution_count": 21,
   "metadata": {},
   "outputs": [
    {
     "name": "stdout",
     "output_type": "stream",
     "text": [
      "1428\n"
     ]
    }
   ],
   "source": [
    "print(df1['customs_description'].isnull().sum())"
   ]
  },
  {
   "cell_type": "code",
   "execution_count": 22,
   "metadata": {},
   "outputs": [],
   "source": [
    "df1.to_csv('2024_may27_orders fixed_categories.csv', index=False)"
   ]
  },
  {
   "cell_type": "code",
   "execution_count": null,
   "metadata": {},
   "outputs": [],
   "source": []
  },
  {
   "cell_type": "code",
   "execution_count": null,
   "metadata": {},
   "outputs": [],
   "source": []
  },
  {
   "cell_type": "code",
   "execution_count": null,
   "metadata": {},
   "outputs": [],
   "source": []
  },
  {
   "cell_type": "code",
   "execution_count": null,
   "metadata": {},
   "outputs": [],
   "source": []
  }
 ],
 "metadata": {
  "kernelspec": {
   "display_name": "Python 3",
   "language": "python",
   "name": "python3"
  },
  "language_info": {
   "codemirror_mode": {
    "name": "ipython",
    "version": 3
   },
   "file_extension": ".py",
   "mimetype": "text/x-python",
   "name": "python",
   "nbconvert_exporter": "python",
   "pygments_lexer": "ipython3",
   "version": "3.12.1"
  }
 },
 "nbformat": 4,
 "nbformat_minor": 2
}
