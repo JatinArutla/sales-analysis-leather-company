{
 "cells": [
  {
   "cell_type": "code",
   "execution_count": 1,
   "metadata": {},
   "outputs": [],
   "source": [
    "import pandas as pd\n",
    "import numpy as np"
   ]
  },
  {
   "cell_type": "code",
   "execution_count": 18,
   "metadata": {},
   "outputs": [
    {
     "data": {
      "text/html": [
       "<div>\n",
       "<style scoped>\n",
       "    .dataframe tbody tr th:only-of-type {\n",
       "        vertical-align: middle;\n",
       "    }\n",
       "\n",
       "    .dataframe tbody tr th {\n",
       "        vertical-align: top;\n",
       "    }\n",
       "\n",
       "    .dataframe thead th {\n",
       "        text-align: right;\n",
       "    }\n",
       "</style>\n",
       "<table border=\"1\" class=\"dataframe\">\n",
       "  <thead>\n",
       "    <tr style=\"text-align: right;\">\n",
       "      <th></th>\n",
       "      <th>Main Reference</th>\n",
       "      <th>Product Name</th>\n",
       "      <th>Brand</th>\n",
       "      <th>Attributes</th>\n",
       "      <th>Product Reference</th>\n",
       "      <th>Product Model</th>\n",
       "      <th>Sale Price</th>\n",
       "      <th>Regular Price</th>\n",
       "      <th>RRP Price</th>\n",
       "      <th>Categories</th>\n",
       "      <th>...</th>\n",
       "      <th>Product Specific Images</th>\n",
       "      <th>On Sale</th>\n",
       "      <th>Active</th>\n",
       "      <th>Discontinued</th>\n",
       "      <th>Meta Title</th>\n",
       "      <th>Meta Keywords</th>\n",
       "      <th>Meta Description</th>\n",
       "      <th>Weight</th>\n",
       "      <th>Friendly URL</th>\n",
       "      <th>Image Location</th>\n",
       "    </tr>\n",
       "  </thead>\n",
       "  <tbody>\n",
       "    <tr>\n",
       "      <th>0</th>\n",
       "      <td>1405</td>\n",
       "      <td>Leather Shirt Jacket Birmingham Black/ant</td>\n",
       "      <td>Ashwood</td>\n",
       "      <td>Size: XS</td>\n",
       "      <td>140502</td>\n",
       "      <td>DM-SHIRT</td>\n",
       "      <td>99.0</td>\n",
       "      <td>189.0</td>\n",
       "      <td>0.0</td>\n",
       "      <td>&amp;middot;&amp;nbsp;Mens,Leather Jackets,Offers,Sale...</td>\n",
       "      <td>...</td>\n",
       "      <td>5</td>\n",
       "      <td>Y</td>\n",
       "      <td>Y</td>\n",
       "      <td>N</td>\n",
       "      <td>Y</td>\n",
       "      <td>Y</td>\n",
       "      <td>Y</td>\n",
       "      <td>0.0</td>\n",
       "      <td>https://www.leathercompany.co.uk/mens-c4/leath...</td>\n",
       "      <td>https://www.leathercompany.co.uk/images/produc...</td>\n",
       "    </tr>\n",
       "    <tr>\n",
       "      <th>1</th>\n",
       "      <td>1405</td>\n",
       "      <td>Leather Shirt Jacket Birmingham Black/ant</td>\n",
       "      <td>Ashwood</td>\n",
       "      <td>Size: S</td>\n",
       "      <td>140503</td>\n",
       "      <td>DM-SHIRT</td>\n",
       "      <td>99.0</td>\n",
       "      <td>189.0</td>\n",
       "      <td>0.0</td>\n",
       "      <td>&amp;middot;&amp;nbsp;Mens,Leather Jackets,Offers,Sale...</td>\n",
       "      <td>...</td>\n",
       "      <td>5</td>\n",
       "      <td>Y</td>\n",
       "      <td>Y</td>\n",
       "      <td>N</td>\n",
       "      <td>Y</td>\n",
       "      <td>Y</td>\n",
       "      <td>Y</td>\n",
       "      <td>0.0</td>\n",
       "      <td>https://www.leathercompany.co.uk/mens-c4/leath...</td>\n",
       "      <td>https://www.leathercompany.co.uk/images/produc...</td>\n",
       "    </tr>\n",
       "    <tr>\n",
       "      <th>2</th>\n",
       "      <td>1405</td>\n",
       "      <td>Leather Shirt Jacket Birmingham Black/ant</td>\n",
       "      <td>Ashwood</td>\n",
       "      <td>Size: M</td>\n",
       "      <td>140504</td>\n",
       "      <td>DM-SHIRT</td>\n",
       "      <td>99.0</td>\n",
       "      <td>189.0</td>\n",
       "      <td>0.0</td>\n",
       "      <td>&amp;middot;&amp;nbsp;Mens,Leather Jackets,Offers,Sale...</td>\n",
       "      <td>...</td>\n",
       "      <td>5</td>\n",
       "      <td>Y</td>\n",
       "      <td>Y</td>\n",
       "      <td>N</td>\n",
       "      <td>Y</td>\n",
       "      <td>Y</td>\n",
       "      <td>Y</td>\n",
       "      <td>0.0</td>\n",
       "      <td>https://www.leathercompany.co.uk/mens-c4/leath...</td>\n",
       "      <td>https://www.leathercompany.co.uk/images/produc...</td>\n",
       "    </tr>\n",
       "    <tr>\n",
       "      <th>3</th>\n",
       "      <td>1405</td>\n",
       "      <td>Leather Shirt Jacket Birmingham Black/ant</td>\n",
       "      <td>Ashwood</td>\n",
       "      <td>Size: L</td>\n",
       "      <td>140505</td>\n",
       "      <td>DM-SHIRT</td>\n",
       "      <td>99.0</td>\n",
       "      <td>189.0</td>\n",
       "      <td>0.0</td>\n",
       "      <td>&amp;middot;&amp;nbsp;Mens,Leather Jackets,Offers,Sale...</td>\n",
       "      <td>...</td>\n",
       "      <td>5</td>\n",
       "      <td>Y</td>\n",
       "      <td>Y</td>\n",
       "      <td>N</td>\n",
       "      <td>Y</td>\n",
       "      <td>Y</td>\n",
       "      <td>Y</td>\n",
       "      <td>0.0</td>\n",
       "      <td>https://www.leathercompany.co.uk/mens-c4/leath...</td>\n",
       "      <td>https://www.leathercompany.co.uk/images/produc...</td>\n",
       "    </tr>\n",
       "    <tr>\n",
       "      <th>4</th>\n",
       "      <td>1405</td>\n",
       "      <td>Leather Shirt Jacket Birmingham Black/ant</td>\n",
       "      <td>Ashwood</td>\n",
       "      <td>Size: XL</td>\n",
       "      <td>140506</td>\n",
       "      <td>DM-SHIRT</td>\n",
       "      <td>99.0</td>\n",
       "      <td>189.0</td>\n",
       "      <td>0.0</td>\n",
       "      <td>&amp;middot;&amp;nbsp;Mens,Leather Jackets,Offers,Sale...</td>\n",
       "      <td>...</td>\n",
       "      <td>5</td>\n",
       "      <td>Y</td>\n",
       "      <td>Y</td>\n",
       "      <td>N</td>\n",
       "      <td>Y</td>\n",
       "      <td>Y</td>\n",
       "      <td>Y</td>\n",
       "      <td>0.0</td>\n",
       "      <td>https://www.leathercompany.co.uk/mens-c4/leath...</td>\n",
       "      <td>https://www.leathercompany.co.uk/images/produc...</td>\n",
       "    </tr>\n",
       "  </tbody>\n",
       "</table>\n",
       "<p>5 rows × 24 columns</p>\n",
       "</div>"
      ],
      "text/plain": [
       "   Main Reference                               Product Name    Brand  \\\n",
       "0            1405  Leather Shirt Jacket Birmingham Black/ant  Ashwood   \n",
       "1            1405  Leather Shirt Jacket Birmingham Black/ant  Ashwood   \n",
       "2            1405  Leather Shirt Jacket Birmingham Black/ant  Ashwood   \n",
       "3            1405  Leather Shirt Jacket Birmingham Black/ant  Ashwood   \n",
       "4            1405  Leather Shirt Jacket Birmingham Black/ant  Ashwood   \n",
       "\n",
       "  Attributes  Product Reference Product Model  Sale Price  Regular Price  \\\n",
       "0   Size: XS             140502      DM-SHIRT        99.0          189.0   \n",
       "1    Size: S             140503      DM-SHIRT        99.0          189.0   \n",
       "2    Size: M             140504      DM-SHIRT        99.0          189.0   \n",
       "3    Size: L             140505      DM-SHIRT        99.0          189.0   \n",
       "4   Size: XL             140506      DM-SHIRT        99.0          189.0   \n",
       "\n",
       "   RRP Price                                         Categories  ...  \\\n",
       "0        0.0  &middot;&nbsp;Mens,Leather Jackets,Offers,Sale...  ...   \n",
       "1        0.0  &middot;&nbsp;Mens,Leather Jackets,Offers,Sale...  ...   \n",
       "2        0.0  &middot;&nbsp;Mens,Leather Jackets,Offers,Sale...  ...   \n",
       "3        0.0  &middot;&nbsp;Mens,Leather Jackets,Offers,Sale...  ...   \n",
       "4        0.0  &middot;&nbsp;Mens,Leather Jackets,Offers,Sale...  ...   \n",
       "\n",
       "   Product Specific Images  On Sale  Active  Discontinued  Meta Title  \\\n",
       "0                        5        Y       Y             N           Y   \n",
       "1                        5        Y       Y             N           Y   \n",
       "2                        5        Y       Y             N           Y   \n",
       "3                        5        Y       Y             N           Y   \n",
       "4                        5        Y       Y             N           Y   \n",
       "\n",
       "  Meta Keywords Meta Description Weight  \\\n",
       "0             Y                Y    0.0   \n",
       "1             Y                Y    0.0   \n",
       "2             Y                Y    0.0   \n",
       "3             Y                Y    0.0   \n",
       "4             Y                Y    0.0   \n",
       "\n",
       "                                        Friendly URL  \\\n",
       "0  https://www.leathercompany.co.uk/mens-c4/leath...   \n",
       "1  https://www.leathercompany.co.uk/mens-c4/leath...   \n",
       "2  https://www.leathercompany.co.uk/mens-c4/leath...   \n",
       "3  https://www.leathercompany.co.uk/mens-c4/leath...   \n",
       "4  https://www.leathercompany.co.uk/mens-c4/leath...   \n",
       "\n",
       "                                      Image Location  \n",
       "0  https://www.leathercompany.co.uk/images/produc...  \n",
       "1  https://www.leathercompany.co.uk/images/produc...  \n",
       "2  https://www.leathercompany.co.uk/images/produc...  \n",
       "3  https://www.leathercompany.co.uk/images/produc...  \n",
       "4  https://www.leathercompany.co.uk/images/produc...  \n",
       "\n",
       "[5 rows x 24 columns]"
      ]
     },
     "execution_count": 18,
     "metadata": {},
     "output_type": "execute_result"
    }
   ],
   "source": [
    "df = pd.read_csv('product_data_status.csv')\n",
    "df.head()"
   ]
  },
  {
   "cell_type": "code",
   "execution_count": 22,
   "metadata": {},
   "outputs": [
    {
     "data": {
      "text/plain": [
       "(6900, 25)"
      ]
     },
     "execution_count": 22,
     "metadata": {},
     "output_type": "execute_result"
    }
   ],
   "source": [
    "df.shape"
   ]
  },
  {
   "cell_type": "code",
   "execution_count": 19,
   "metadata": {},
   "outputs": [
    {
     "data": {
      "text/plain": [
       "59"
      ]
     },
     "execution_count": 19,
     "metadata": {},
     "output_type": "execute_result"
    }
   ],
   "source": [
    "df['FinalCategory'] = df['Categories'].str.split(',').str[-1].str.replace('<br />', '').str.replace('<b', '')\n",
    "len(df['FinalCategory'].value_counts())"
   ]
  },
  {
   "cell_type": "code",
   "execution_count": 26,
   "metadata": {},
   "outputs": [
    {
     "data": {
      "text/html": [
       "<div>\n",
       "<style scoped>\n",
       "    .dataframe tbody tr th:only-of-type {\n",
       "        vertical-align: middle;\n",
       "    }\n",
       "\n",
       "    .dataframe tbody tr th {\n",
       "        vertical-align: top;\n",
       "    }\n",
       "\n",
       "    .dataframe thead th {\n",
       "        text-align: right;\n",
       "    }\n",
       "</style>\n",
       "<table border=\"1\" class=\"dataframe\">\n",
       "  <thead>\n",
       "    <tr style=\"text-align: right;\">\n",
       "      <th></th>\n",
       "      <th>Main Reference</th>\n",
       "      <th>Product Name</th>\n",
       "      <th>Brand</th>\n",
       "      <th>Attributes</th>\n",
       "      <th>Product Reference</th>\n",
       "      <th>Product Model</th>\n",
       "      <th>Sale Price</th>\n",
       "      <th>Regular Price</th>\n",
       "      <th>RRP Price</th>\n",
       "      <th>Categories</th>\n",
       "      <th>...</th>\n",
       "      <th>On Sale</th>\n",
       "      <th>Active</th>\n",
       "      <th>Discontinued</th>\n",
       "      <th>Meta Title</th>\n",
       "      <th>Meta Keywords</th>\n",
       "      <th>Meta Description</th>\n",
       "      <th>Weight</th>\n",
       "      <th>Friendly URL</th>\n",
       "      <th>Image Location</th>\n",
       "      <th>FinalCategory</th>\n",
       "    </tr>\n",
       "  </thead>\n",
       "  <tbody>\n",
       "  </tbody>\n",
       "</table>\n",
       "<p>0 rows × 25 columns</p>\n",
       "</div>"
      ],
      "text/plain": [
       "Empty DataFrame\n",
       "Columns: [Main Reference, Product Name, Brand, Attributes, Product Reference, Product Model, Sale Price, Regular Price, RRP Price, Categories, Num. Categories, Stock Message, Stock Level, Total Images, Product Specific Images, On Sale, Active, Discontinued, Meta Title, Meta Keywords, Meta Description, Weight, Friendly URL, Image Location, FinalCategory]\n",
       "Index: []\n",
       "\n",
       "[0 rows x 25 columns]"
      ]
     },
     "execution_count": 26,
     "metadata": {},
     "output_type": "execute_result"
    }
   ],
   "source": [
    "df[df['Product Name'].str.contains(\"Super Bomber\")]"
   ]
  },
  {
   "cell_type": "code",
   "execution_count": 28,
   "metadata": {},
   "outputs": [
    {
     "data": {
      "text/plain": [
       "1500"
      ]
     },
     "execution_count": 28,
     "metadata": {},
     "output_type": "execute_result"
    }
   ],
   "source": [
    "len(df['Product Name'].unique())"
   ]
  },
  {
   "cell_type": "code",
   "execution_count": null,
   "metadata": {},
   "outputs": [],
   "source": []
  }
 ],
 "metadata": {
  "kernelspec": {
   "display_name": "Python 3",
   "language": "python",
   "name": "python3"
  },
  "language_info": {
   "codemirror_mode": {
    "name": "ipython",
    "version": 3
   },
   "file_extension": ".py",
   "mimetype": "text/x-python",
   "name": "python",
   "nbconvert_exporter": "python",
   "pygments_lexer": "ipython3",
   "version": "3.12.1"
  }
 },
 "nbformat": 4,
 "nbformat_minor": 2
}
