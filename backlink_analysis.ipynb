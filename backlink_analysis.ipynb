{
 "cells": [
  {
   "cell_type": "code",
   "execution_count": 13,
   "metadata": {},
   "outputs": [],
   "source": [
    "import pandas as pd\n",
    "import numpy as np"
   ]
  },
  {
   "cell_type": "code",
   "execution_count": 29,
   "metadata": {},
   "outputs": [],
   "source": [
    "pd.set_option('display.max_column', None)\n",
    "pd.set_option('display.max_rows', None)\n",
    "pd.set_option('display.max_seq_items', None)\n",
    "pd.set_option('display.max_colwidth', 500)\n",
    "pd.set_option('expand_frame_repr', True)"
   ]
  },
  {
   "cell_type": "code",
   "execution_count": 30,
   "metadata": {},
   "outputs": [
    {
     "data": {
      "text/html": [
       "<div>\n",
       "<style scoped>\n",
       "    .dataframe tbody tr th:only-of-type {\n",
       "        vertical-align: middle;\n",
       "    }\n",
       "\n",
       "    .dataframe tbody tr th {\n",
       "        vertical-align: top;\n",
       "    }\n",
       "\n",
       "    .dataframe thead th {\n",
       "        text-align: right;\n",
       "    }\n",
       "</style>\n",
       "<table border=\"1\" class=\"dataframe\">\n",
       "  <thead>\n",
       "    <tr style=\"text-align: right;\">\n",
       "      <th></th>\n",
       "      <th>Target page</th>\n",
       "      <th>Incoming links</th>\n",
       "      <th>Linking sites</th>\n",
       "      <th>Type</th>\n",
       "    </tr>\n",
       "  </thead>\n",
       "  <tbody>\n",
       "    <tr>\n",
       "      <th>0</th>\n",
       "      <td>mens-c4/leather-jackets-c25/trapper-m33</td>\n",
       "      <td>85</td>\n",
       "      <td>58</td>\n",
       "      <td>Category</td>\n",
       "    </tr>\n",
       "    <tr>\n",
       "      <th>1</th>\n",
       "      <td>handbags-c6/the-bridge-m7</td>\n",
       "      <td>50</td>\n",
       "      <td>23</td>\n",
       "      <td>Category</td>\n",
       "    </tr>\n",
       "    <tr>\n",
       "      <th>2</th>\n",
       "      <td>sheepskin-fur-c5</td>\n",
       "      <td>37</td>\n",
       "      <td>21</td>\n",
       "      <td>Category</td>\n",
       "    </tr>\n",
       "    <tr>\n",
       "      <th>3</th>\n",
       "      <td>ladies-c3/leather-jackets-c9</td>\n",
       "      <td>22</td>\n",
       "      <td>5</td>\n",
       "      <td>Category</td>\n",
       "    </tr>\n",
       "    <tr>\n",
       "      <th>4</th>\n",
       "      <td>gift-accessories-c8</td>\n",
       "      <td>16</td>\n",
       "      <td>14</td>\n",
       "      <td>Category</td>\n",
       "    </tr>\n",
       "  </tbody>\n",
       "</table>\n",
       "</div>"
      ],
      "text/plain": [
       "                               Target page  Incoming links  Linking sites      Type\n",
       "0  mens-c4/leather-jackets-c25/trapper-m33              85             58  Category\n",
       "1                handbags-c6/the-bridge-m7              50             23  Category\n",
       "2                         sheepskin-fur-c5              37             21  Category\n",
       "3             ladies-c3/leather-jackets-c9              22              5  Category\n",
       "4                      gift-accessories-c8              16             14  Category"
      ]
     },
     "execution_count": 30,
     "metadata": {},
     "output_type": "execute_result"
    }
   ],
   "source": [
    "df = pd.read_csv('AlmostAllBacklinks.csv')\n",
    "df.head()"
   ]
  },
  {
   "cell_type": "code",
   "execution_count": 34,
   "metadata": {},
   "outputs": [
    {
     "name": "stdout",
     "output_type": "stream",
     "text": [
      "                                                                                                       Target page  Incoming links  Linking sites      Type\n",
      "48              ladies-c3/leather-jackets-c9/biker-styles-c78/ladies-classic-leather-biker-jacket-red-roisin-p3703              75             59   Product\n",
      "49                                  ladies-c3/leather-jackets-c9/ladies-leather-biker-jacket-beige-g-celia22-p7531              74             37   Product\n",
      "50                                        ladies-c3/leather-jackets-c9/leather-biker-jacket-black-app-britney-p279              67             50   Product\n",
      "54                         ladies-c3/leather-jackets-c9/biker-styles-c78/leather-biker-jacket-black-scarlett-p2483              60             44   Product\n",
      "56                                                     ladies-c3/leather-jackets-c9/leather-jacket-black-ruby-p485              44             34   Product\n",
      "3                                                                                     ladies-c3/leather-jackets-c9              22              5  Category\n",
      "101  ladies-c3/leather-jackets-c9/casual-styles-c124/womens-collarless-leather-jacket-mid-brown-nap-chambery-p3284               8              6   Product\n",
      "130      ladies-c3/leather-jackets-c9/biker-styles-c78/womens-detachable-hood-leather-biker-jacket-red-nirma-p7139               3              3   Product\n",
      "146      ladies-c3/leather-jackets-c9/casual-styles-c124/womens-collarless-leather-jacket-black-app-chambery-p3283               2              2   Product\n",
      "173   ladies-c3/leather-jackets-c9/biker-styles-c78/short-vegetable-tanned-leather-biker-jacket-white-jenner-p2293               1              1   Product\n",
      "189                          ladies-c3/leather-jackets-c9/biker-styles-c78/leather-biker-jacket-red-scarlett-p2485               1              1   Product\n",
      "190                 ladies-c3/leather-jackets-c9/biker-styles-c78/leather-biker-jacket-mid-brown-nap-britney-p3010               1              1   Product\n",
      "204                 ladies-c3/leather-jackets-c9/casual-styles-c124/womens-oversized-leather-coat-tan-isleen-p3301               1              1   Product\n",
      "237                              ladies-c3/leather-jackets-c9/biker-styles-c78/leather-biker-jacket-red-lola-p3946               1              1   Product\n",
      "241       ladies-c3/leather-jackets-c9/biker-styles-c78/womens-fashion-leather-biker-style-jacket-beige-1127-p7114               1              1   Product\n"
     ]
    }
   ],
   "source": [
    "with pd.option_context('display.max_rows', None, 'display.max_columns', None):\n",
    "    # print(df[df['Target page'].str.contains(\"mens-c4/leather-jackets-c25/\")].sort_values(by='Incoming links', ascending=False))\n",
    "    print(df[df['Target page'].str.contains(\"ladies-c3/leather-jackets-c9\")].sort_values(by='Incoming links', ascending=False))"
   ]
  },
  {
   "cell_type": "code",
   "execution_count": null,
   "metadata": {},
   "outputs": [],
   "source": []
  }
 ],
 "metadata": {
  "kernelspec": {
   "display_name": "Python 3",
   "language": "python",
   "name": "python3"
  },
  "language_info": {
   "codemirror_mode": {
    "name": "ipython",
    "version": 3
   },
   "file_extension": ".py",
   "mimetype": "text/x-python",
   "name": "python",
   "nbconvert_exporter": "python",
   "pygments_lexer": "ipython3",
   "version": "3.12.1"
  }
 },
 "nbformat": 4,
 "nbformat_minor": 2
}
