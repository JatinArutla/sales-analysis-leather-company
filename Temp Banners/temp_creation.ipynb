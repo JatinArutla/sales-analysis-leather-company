{
 "cells": [
  {
   "cell_type": "code",
   "execution_count": 2,
   "metadata": {},
   "outputs": [],
   "source": [
    "import pandas as pd\n",
    "import numpy as np\n",
    "import cv2"
   ]
  },
  {
   "cell_type": "code",
   "execution_count": 100,
   "metadata": {},
   "outputs": [],
   "source": [
    "# importing the modules \n",
    "import numpy as np \n",
    "import cv2 \n",
    "import matplotlib.pyplot as plt\n",
    "from PIL import Image, ImageOps\n",
    "from PIL import ImageDraw\n",
    "from PIL import ImageFont\n",
    "\n",
    "# im_height, im_width = 500, 1800 # 2.0 Main Promo (1 carousel)\n",
    "im_height, im_width = 330, 360 # 3.0 (4)\n",
    "# im_height, im_width = 250, 1800 # 4.0 Middle Promo (1 long)\n",
    "# im_height, im_width = 330, 480 # 5.0 Bottom Promos (3)\n",
    "im_height, im_width = 330, 720 # (2)\n",
    "\n",
    "# creating array using np.zeroes()\n",
    "array = np.zeros([im_height, im_width, 3],\n",
    "                 dtype = np.uint8)\n",
    "\n",
    "# setting RGB color values as 255,255,255\n",
    "array[:, :] = [255, 255, 255]\n",
    "\n",
    "# displaying the image\n",
    "img = Image.fromarray(array, 'RGB')\n",
    "\n",
    "img = ImageOps.expand(img, border=5, fill=(0,0,0))\n",
    "\n",
    "# Custom font style and font size\n",
    "myFont = ImageFont.truetype('arial.ttf', 35)\n",
    "\n",
    "draw = ImageDraw.Draw(img)\n",
    "\n",
    "draw.text(\n",
    "        xy=(im_width / 2, im_height / 2),\n",
    "        text=\"Waistcoats &\\nGilets\",\n",
    "        fill=\"#000000\",\n",
    "        font=myFont,\n",
    "        anchor=\"mm\",\n",
    "        align=\"center\"\n",
    "    )\n",
    "img.save('sheepskin4-1.png')\n",
    "# img.show()"
   ]
  },
  {
   "cell_type": "code",
   "execution_count": null,
   "metadata": {},
   "outputs": [],
   "source": []
  }
 ],
 "metadata": {
  "kernelspec": {
   "display_name": "Python 3",
   "language": "python",
   "name": "python3"
  },
  "language_info": {
   "codemirror_mode": {
    "name": "ipython",
    "version": 3
   },
   "file_extension": ".py",
   "mimetype": "text/x-python",
   "name": "python",
   "nbconvert_exporter": "python",
   "pygments_lexer": "ipython3",
   "version": "3.12.1"
  }
 },
 "nbformat": 4,
 "nbformat_minor": 2
}
