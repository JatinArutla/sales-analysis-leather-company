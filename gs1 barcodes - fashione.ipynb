{
 "cells": [
  {
   "cell_type": "code",
   "execution_count": 23,
   "metadata": {},
   "outputs": [],
   "source": [
    "import pandas as pd\n",
    "import numpy as np"
   ]
  },
  {
   "cell_type": "code",
   "execution_count": 24,
   "metadata": {},
   "outputs": [
    {
     "data": {
      "text/html": [
       "<div>\n",
       "<style scoped>\n",
       "    .dataframe tbody tr th:only-of-type {\n",
       "        vertical-align: middle;\n",
       "    }\n",
       "\n",
       "    .dataframe tbody tr th {\n",
       "        vertical-align: top;\n",
       "    }\n",
       "\n",
       "    .dataframe thead th {\n",
       "        text-align: right;\n",
       "    }\n",
       "</style>\n",
       "<table border=\"1\" class=\"dataframe\">\n",
       "  <thead>\n",
       "    <tr style=\"text-align: right;\">\n",
       "      <th></th>\n",
       "      <th>Brand</th>\n",
       "      <th>Style</th>\n",
       "      <th>Colour</th>\n",
       "      <th>Size</th>\n",
       "      <th>Description</th>\n",
       "      <th>PLU</th>\n",
       "      <th>Cost</th>\n",
       "      <th>Retail</th>\n",
       "      <th>Second</th>\n",
       "      <th>Wholesale</th>\n",
       "      <th>Unnamed: 10</th>\n",
       "    </tr>\n",
       "  </thead>\n",
       "  <tbody>\n",
       "    <tr>\n",
       "      <th>0</th>\n",
       "      <td>AL FRANCO</td>\n",
       "      <td>AL FRANCO</td>\n",
       "      <td>BLACK</td>\n",
       "      <td>XS</td>\n",
       "      <td>criss cross safari</td>\n",
       "      <td>0001727502</td>\n",
       "      <td>70.0</td>\n",
       "      <td>349.0</td>\n",
       "      <td>0.0</td>\n",
       "      <td>100.0</td>\n",
       "      <td>NaN</td>\n",
       "    </tr>\n",
       "    <tr>\n",
       "      <th>1</th>\n",
       "      <td>AL FRANCO</td>\n",
       "      <td>AL FRANCO</td>\n",
       "      <td>BLACK</td>\n",
       "      <td>S</td>\n",
       "      <td>criss cross safari</td>\n",
       "      <td>0001727503</td>\n",
       "      <td>70.0</td>\n",
       "      <td>349.0</td>\n",
       "      <td>0.0</td>\n",
       "      <td>100.0</td>\n",
       "      <td>NaN</td>\n",
       "    </tr>\n",
       "    <tr>\n",
       "      <th>2</th>\n",
       "      <td>AL FRANCO</td>\n",
       "      <td>AL FRANCO</td>\n",
       "      <td>BLACK</td>\n",
       "      <td>M</td>\n",
       "      <td>criss cross safari</td>\n",
       "      <td>0001727504</td>\n",
       "      <td>70.0</td>\n",
       "      <td>349.0</td>\n",
       "      <td>0.0</td>\n",
       "      <td>100.0</td>\n",
       "      <td>NaN</td>\n",
       "    </tr>\n",
       "    <tr>\n",
       "      <th>3</th>\n",
       "      <td>AL FRANCO</td>\n",
       "      <td>AL FRANCO</td>\n",
       "      <td>BLACK</td>\n",
       "      <td>L</td>\n",
       "      <td>criss cross safari</td>\n",
       "      <td>0001727505</td>\n",
       "      <td>70.0</td>\n",
       "      <td>349.0</td>\n",
       "      <td>0.0</td>\n",
       "      <td>100.0</td>\n",
       "      <td>NaN</td>\n",
       "    </tr>\n",
       "    <tr>\n",
       "      <th>4</th>\n",
       "      <td>AL FRANCO</td>\n",
       "      <td>AL FRANCO</td>\n",
       "      <td>BLACK</td>\n",
       "      <td>XL</td>\n",
       "      <td>criss cross safari</td>\n",
       "      <td>0001727506</td>\n",
       "      <td>70.0</td>\n",
       "      <td>349.0</td>\n",
       "      <td>0.0</td>\n",
       "      <td>100.0</td>\n",
       "      <td>NaN</td>\n",
       "    </tr>\n",
       "  </tbody>\n",
       "</table>\n",
       "</div>"
      ],
      "text/plain": [
       "       Brand      Style Colour Size         Description         PLU  Cost  \\\n",
       "0  AL FRANCO  AL FRANCO  BLACK   XS  criss cross safari  0001727502  70.0   \n",
       "1  AL FRANCO  AL FRANCO  BLACK    S  criss cross safari  0001727503  70.0   \n",
       "2  AL FRANCO  AL FRANCO  BLACK    M  criss cross safari  0001727504  70.0   \n",
       "3  AL FRANCO  AL FRANCO  BLACK    L  criss cross safari  0001727505  70.0   \n",
       "4  AL FRANCO  AL FRANCO  BLACK   XL  criss cross safari  0001727506  70.0   \n",
       "\n",
       "  Retail Second Wholesale Unnamed: 10  \n",
       "0  349.0    0.0     100.0         NaN  \n",
       "1  349.0    0.0     100.0         NaN  \n",
       "2  349.0    0.0     100.0         NaN  \n",
       "3  349.0    0.0     100.0         NaN  \n",
       "4  349.0    0.0     100.0         NaN  "
      ]
     },
     "execution_count": 24,
     "metadata": {},
     "output_type": "execute_result"
    }
   ],
   "source": [
    "df = pd.read_csv(\"Fashione AdjustedPricesForLargerSizes.csv\", dtype=str)\n",
    "df.head()"
   ]
  },
  {
   "cell_type": "code",
   "execution_count": 25,
   "metadata": {},
   "outputs": [
    {
     "data": {
      "text/plain": [
       "9434"
      ]
     },
     "execution_count": 25,
     "metadata": {},
     "output_type": "execute_result"
    }
   ],
   "source": [
    "len(df.groupby(['Style', 'Colour']))"
   ]
  },
  {
   "cell_type": "code",
   "execution_count": 26,
   "metadata": {},
   "outputs": [
    {
     "data": {
      "text/html": [
       "<div>\n",
       "<style scoped>\n",
       "    .dataframe tbody tr th:only-of-type {\n",
       "        vertical-align: middle;\n",
       "    }\n",
       "\n",
       "    .dataframe tbody tr th {\n",
       "        vertical-align: top;\n",
       "    }\n",
       "\n",
       "    .dataframe thead th {\n",
       "        text-align: right;\n",
       "    }\n",
       "</style>\n",
       "<table border=\"1\" class=\"dataframe\">\n",
       "  <thead>\n",
       "    <tr style=\"text-align: right;\">\n",
       "      <th></th>\n",
       "      <th>Brand</th>\n",
       "      <th>Style</th>\n",
       "      <th>Colour</th>\n",
       "      <th>Size</th>\n",
       "      <th>Description</th>\n",
       "      <th>PLU</th>\n",
       "      <th>Cost</th>\n",
       "      <th>Retail</th>\n",
       "      <th>Second</th>\n",
       "      <th>Wholesale</th>\n",
       "      <th>Unnamed: 10</th>\n",
       "      <th>Style-Colour-Size</th>\n",
       "    </tr>\n",
       "  </thead>\n",
       "  <tbody>\n",
       "    <tr>\n",
       "      <th>4106</th>\n",
       "      <td>ASHWOOD</td>\n",
       "      <td>401</td>\n",
       "      <td>black</td>\n",
       "      <td>8xl</td>\n",
       "      <td>LADIES GLOVES</td>\n",
       "      <td>0000210513</td>\n",
       "      <td>10.5</td>\n",
       "      <td>29.99</td>\n",
       "      <td>0.0</td>\n",
       "      <td>10.5</td>\n",
       "      <td>NaN</td>\n",
       "      <td>401-black-8xl</td>\n",
       "    </tr>\n",
       "    <tr>\n",
       "      <th>4107</th>\n",
       "      <td>ASHWOOD</td>\n",
       "      <td>401</td>\n",
       "      <td>black</td>\n",
       "      <td>9xl</td>\n",
       "      <td>LADIES GLOVES</td>\n",
       "      <td>0000210514</td>\n",
       "      <td>0.0</td>\n",
       "      <td>29.99</td>\n",
       "      <td>0.0</td>\n",
       "      <td>0.0</td>\n",
       "      <td>NaN</td>\n",
       "      <td>401-black-9xl</td>\n",
       "    </tr>\n",
       "    <tr>\n",
       "      <th>4108</th>\n",
       "      <td>ASHWOOD</td>\n",
       "      <td>401</td>\n",
       "      <td>black</td>\n",
       "      <td>xxxs</td>\n",
       "      <td>LADIES GLOVES</td>\n",
       "      <td>0000210500</td>\n",
       "      <td>10.5</td>\n",
       "      <td>29.99</td>\n",
       "      <td>0.0</td>\n",
       "      <td>10.5</td>\n",
       "      <td>NaN</td>\n",
       "      <td>401-black-xxxs</td>\n",
       "    </tr>\n",
       "    <tr>\n",
       "      <th>4109</th>\n",
       "      <td>ASHWOOD</td>\n",
       "      <td>401</td>\n",
       "      <td>black</td>\n",
       "      <td>xxs</td>\n",
       "      <td>LADIES GLOVES</td>\n",
       "      <td>0000210501</td>\n",
       "      <td>10.5</td>\n",
       "      <td>29.99</td>\n",
       "      <td>0.0</td>\n",
       "      <td>10.5</td>\n",
       "      <td>NaN</td>\n",
       "      <td>401-black-xxs</td>\n",
       "    </tr>\n",
       "    <tr>\n",
       "      <th>4110</th>\n",
       "      <td>ASHWOOD</td>\n",
       "      <td>401</td>\n",
       "      <td>black</td>\n",
       "      <td>xs</td>\n",
       "      <td>LADIES GLOVES</td>\n",
       "      <td>0000210502</td>\n",
       "      <td>10.5</td>\n",
       "      <td>29.99</td>\n",
       "      <td>0.0</td>\n",
       "      <td>10.5</td>\n",
       "      <td>NaN</td>\n",
       "      <td>401-black-xs</td>\n",
       "    </tr>\n",
       "    <tr>\n",
       "      <th>...</th>\n",
       "      <td>...</td>\n",
       "      <td>...</td>\n",
       "      <td>...</td>\n",
       "      <td>...</td>\n",
       "      <td>...</td>\n",
       "      <td>...</td>\n",
       "      <td>...</td>\n",
       "      <td>...</td>\n",
       "      <td>...</td>\n",
       "      <td>...</td>\n",
       "      <td>...</td>\n",
       "      <td>...</td>\n",
       "    </tr>\n",
       "    <tr>\n",
       "      <th>4356</th>\n",
       "      <td>ASHWOOD</td>\n",
       "      <td>401</td>\n",
       "      <td>teal</td>\n",
       "      <td>3xl</td>\n",
       "      <td>LADIES GLOVES</td>\n",
       "      <td>0002898608</td>\n",
       "      <td>10.5</td>\n",
       "      <td>29.99</td>\n",
       "      <td>0.0</td>\n",
       "      <td>10.5</td>\n",
       "      <td>NaN</td>\n",
       "      <td>401-teal-3xl</td>\n",
       "    </tr>\n",
       "    <tr>\n",
       "      <th>4357</th>\n",
       "      <td>ASHWOOD</td>\n",
       "      <td>401</td>\n",
       "      <td>teal</td>\n",
       "      <td>4xl</td>\n",
       "      <td>LADIES GLOVES</td>\n",
       "      <td>0002898609</td>\n",
       "      <td>10.5</td>\n",
       "      <td>29.99</td>\n",
       "      <td>0.0</td>\n",
       "      <td>10.5</td>\n",
       "      <td>NaN</td>\n",
       "      <td>401-teal-4xl</td>\n",
       "    </tr>\n",
       "    <tr>\n",
       "      <th>4358</th>\n",
       "      <td>ASHWOOD</td>\n",
       "      <td>401</td>\n",
       "      <td>teal</td>\n",
       "      <td>5xl</td>\n",
       "      <td>LADIES GLOVES</td>\n",
       "      <td>0002898610</td>\n",
       "      <td>10.5</td>\n",
       "      <td>29.99</td>\n",
       "      <td>0.0</td>\n",
       "      <td>10.5</td>\n",
       "      <td>NaN</td>\n",
       "      <td>401-teal-5xl</td>\n",
       "    </tr>\n",
       "    <tr>\n",
       "      <th>4359</th>\n",
       "      <td>ASHWOOD</td>\n",
       "      <td>401</td>\n",
       "      <td>teal</td>\n",
       "      <td>6xl</td>\n",
       "      <td>LADIES GLOVES</td>\n",
       "      <td>0002898611</td>\n",
       "      <td>10.5</td>\n",
       "      <td>29.99</td>\n",
       "      <td>0.0</td>\n",
       "      <td>10.5</td>\n",
       "      <td>NaN</td>\n",
       "      <td>401-teal-6xl</td>\n",
       "    </tr>\n",
       "    <tr>\n",
       "      <th>4360</th>\n",
       "      <td>ASHWOOD</td>\n",
       "      <td>401</td>\n",
       "      <td>teal</td>\n",
       "      <td>7xl</td>\n",
       "      <td>LADIES GLOVES</td>\n",
       "      <td>0002898612</td>\n",
       "      <td>10.5</td>\n",
       "      <td>29.99</td>\n",
       "      <td>0.0</td>\n",
       "      <td>10.5</td>\n",
       "      <td>NaN</td>\n",
       "      <td>401-teal-7xl</td>\n",
       "    </tr>\n",
       "  </tbody>\n",
       "</table>\n",
       "<p>255 rows × 12 columns</p>\n",
       "</div>"
      ],
      "text/plain": [
       "        Brand Style Colour  Size    Description         PLU  Cost Retail  \\\n",
       "4106  ASHWOOD   401  black   8xl  LADIES GLOVES  0000210513  10.5  29.99   \n",
       "4107  ASHWOOD   401  black   9xl  LADIES GLOVES  0000210514   0.0  29.99   \n",
       "4108  ASHWOOD   401  black  xxxs  LADIES GLOVES  0000210500  10.5  29.99   \n",
       "4109  ASHWOOD   401  black   xxs  LADIES GLOVES  0000210501  10.5  29.99   \n",
       "4110  ASHWOOD   401  black    xs  LADIES GLOVES  0000210502  10.5  29.99   \n",
       "...       ...   ...    ...   ...            ...         ...   ...    ...   \n",
       "4356  ASHWOOD   401   teal   3xl  LADIES GLOVES  0002898608  10.5  29.99   \n",
       "4357  ASHWOOD   401   teal   4xl  LADIES GLOVES  0002898609  10.5  29.99   \n",
       "4358  ASHWOOD   401   teal   5xl  LADIES GLOVES  0002898610  10.5  29.99   \n",
       "4359  ASHWOOD   401   teal   6xl  LADIES GLOVES  0002898611  10.5  29.99   \n",
       "4360  ASHWOOD   401   teal   7xl  LADIES GLOVES  0002898612  10.5  29.99   \n",
       "\n",
       "     Second Wholesale Unnamed: 10 Style-Colour-Size  \n",
       "4106    0.0      10.5         NaN     401-black-8xl  \n",
       "4107    0.0       0.0         NaN     401-black-9xl  \n",
       "4108    0.0      10.5         NaN    401-black-xxxs  \n",
       "4109    0.0      10.5         NaN     401-black-xxs  \n",
       "4110    0.0      10.5         NaN      401-black-xs  \n",
       "...     ...       ...         ...               ...  \n",
       "4356    0.0      10.5         NaN      401-teal-3xl  \n",
       "4357    0.0      10.5         NaN      401-teal-4xl  \n",
       "4358    0.0      10.5         NaN      401-teal-5xl  \n",
       "4359    0.0      10.5         NaN      401-teal-6xl  \n",
       "4360    0.0      10.5         NaN      401-teal-7xl  \n",
       "\n",
       "[255 rows x 12 columns]"
      ]
     },
     "execution_count": 26,
     "metadata": {},
     "output_type": "execute_result"
    }
   ],
   "source": [
    "df = pd.read_csv(\"Fashione AdjustedPricesForLargerSizes.csv\", dtype=str)\n",
    "df['Size'] = df['Size'].replace('ONE SIZE', '')\n",
    "df['Size'] = df['Size'].replace(np.NaN, '')\n",
    "df['Style'] = df['Style'].str.lower()\n",
    "\n",
    "df['Colour'] = df['Colour'].str.lower()\n",
    "df['Colour'] = df['Colour'].str.replace('blk', 'black')\n",
    "# temp_df = df['Colour'].str.split('/', expand=True)\n",
    "# temp_df.columns = ['F_Colour', 'S_Colour', 'T_Colour', 'Fourth_Colour']\n",
    "# df['Colour'] = temp_df['F_Colour']\n",
    "\n",
    "df['Size'] = df['Size'].str.lower()\n",
    "df['Style-Colour-Size'] = df['Style'] + '-' + df['Colour'] + '-' + df['Size']\n",
    "\n",
    "# df[df['Style-Colour-Size'] == '1336-brown-']\n",
    "df[df['Style'] == '401']"
   ]
  },
  {
   "cell_type": "code",
   "execution_count": 27,
   "metadata": {},
   "outputs": [
    {
     "data": {
      "text/plain": [
       "array(['al franco', 'nc ana 05', '007', ..., 'ncwo-35', 'sloth',\n",
       "       'sports gloves'], dtype=object)"
      ]
     },
     "execution_count": 27,
     "metadata": {},
     "output_type": "execute_result"
    }
   ],
   "source": [
    "df['Style'] = df['Style'].str.lower()\n",
    "all_styles = df['Style'].unique()\n",
    "all_styles"
   ]
  },
  {
   "cell_type": "code",
   "execution_count": 28,
   "metadata": {},
   "outputs": [
    {
     "name": "stdout",
     "output_type": "stream",
     "text": [
      "(6000, 10)\n"
     ]
    },
    {
     "data": {
      "text/plain": [
       "((6000, 11), (2131, 10))"
      ]
     },
     "execution_count": 28,
     "metadata": {},
     "output_type": "execute_result"
    }
   ],
   "source": [
    "barcodes = pd.read_csv(\"01 All barcodes.csv\", skiprows=3, dtype=str)\n",
    "barcodes.drop_duplicates(keep=False, inplace=True)\n",
    "print(barcodes.shape)\n",
    "\n",
    "fixed_gs1 = pd.read_csv(\"Fixed SKU-EAN.csv\", dtype=str)\n",
    "\n",
    "\n",
    "barcodes = pd.concat([barcodes, fixed_gs1], ignore_index=True)\n",
    "\n",
    "barcodes.drop_duplicates(subset=['Number'], keep='last', inplace=True)\n",
    "barcodes.reset_index(drop=True, inplace=True)\n",
    "\n",
    "barcodes['GS1 Product Name'] = barcodes['Product Name']\n",
    "\n",
    "barcodes.shape, fixed_gs1.shape"
   ]
  },
  {
   "cell_type": "code",
   "execution_count": 29,
   "metadata": {},
   "outputs": [],
   "source": [
    "barcodes['Product Name'] = barcodes['Product Name'].str.lower()\n",
    "# barcodes = barcodes.dropna(subset=['Product Name'])\n",
    "barcodes['Product Name'] = barcodes['Product Name'].replace(np.NaN, '-------')\n",
    "barcodes['Product Name'] = barcodes['Product Name'].str.replace(',', ' ')\n",
    "cards = ['6 card', '7 card', '8 card', '9 card', '10 card', '11 card', '12 card', '14 card',\n",
    "         '16 card', '18 card', '20 card', '22 card', '24 card']\n",
    "for i in cards:\n",
    "    barcodes['Product Name'] = barcodes['Product Name'].str.replace(i, ' ')"
   ]
  },
  {
   "cell_type": "code",
   "execution_count": 30,
   "metadata": {},
   "outputs": [],
   "source": [
    "import matplotlib\n",
    "list_colours = []\n",
    "\n",
    "# list_colours = []\n",
    "colours_df = pd.read_csv('colours.csv')\n",
    "colours_df['colours'] = colours_df['colours'].str.strip()\n",
    "for j in colours_df['colours'].unique().tolist():\n",
    "    list_colours.append(j)\n",
    "\n",
    "for name, hex in matplotlib.colors.cnames.items():\n",
    "    name = name.title()\n",
    "    list_colours.append(name)\n",
    "\n",
    "for i in list_colours:\n",
    "    i = i.title()\n",
    "\n",
    "list_colours = list(dict.fromkeys(list_colours))\n",
    "list_colours = list(map(lambda x: x.lower(), list_colours))\n",
    "\n",
    "barcodes['Product Name'] = barcodes['Product Name'].str.replace('blk', 'black')\n",
    "barcodes['Colour'] = barcodes['Product Name'].str.findall(r'(?i)\\b(?:{})\\b'.format('|'.join(list_colours))).apply('/'.join)\n",
    "\n",
    "# df2 = barcodes['Colour'].str.split(',', expand=True)\n",
    "# barcodes['Colour'] = df2[0]\n",
    "# barcodes['Colour'] = barcodes['Colour'].replace('', 'NotFound')"
   ]
  },
  {
   "cell_type": "code",
   "execution_count": 31,
   "metadata": {},
   "outputs": [],
   "source": [
    "barcodes['Style'] = barcodes['Product Name'].str.findall(r'(?i)\\b(?:{})\\b'.format('|'.join(all_styles)))\n",
    "barcodes['Style'] = barcodes['Style'].apply(', '.join)\n",
    "barcodes['Style'] = barcodes['Style'].replace('', 'NotFound')\n",
    "\n",
    "sizes = [' xs', ' s', ' m', ' l', ' xl', ' 2xl', ' 3xl', ' 4xl', ' 5xl', ' 6xl', ' 7xl', ' 8xl', ' 9xl',\n",
    "         ' 8', ' 10', ' 12', ' 14', ' 16', ' 18', ' 20', ' 22', ' 24', ' 26', ' 28', ' 30']\n",
    "\n",
    "# sizes = ['xs', 's', 'm', 'l', 'xl', '2xl', '3xl', '4xl', '5xl', '6xl', '7xl', '8xl', '9xl',\n",
    "#         '8', '10', '12', '14', '16', '18', '20', '22', '24', '26', '28 ', '30']\n",
    "\n",
    "barcodes['Size'] = barcodes['Product Name'].str.findall(r'(?i)\\b(?:{})\\b'.format('|'.join(sizes)))\n",
    "barcodes['Size'] = barcodes['Size'].apply(', '.join)\n",
    "barcodes['Style'] = barcodes['Style'].str.lower()\n",
    "barcodes['Colour'] = barcodes['Colour'].str.lower()\n",
    "barcodes['Size'] = barcodes['Size'].str.lower()\n",
    "barcodes['Size'] = barcodes['Size'].str.lstrip()\n",
    "barcodes['Size'] = barcodes['Size'].str.rstrip()\n",
    "barcodes['Style-Colour-Size'] = barcodes['Style'] + '-' + barcodes['Colour'] + '-' + barcodes['Size']"
   ]
  },
  {
   "cell_type": "code",
   "execution_count": 32,
   "metadata": {},
   "outputs": [
    {
     "data": {
      "text/html": [
       "<div>\n",
       "<style scoped>\n",
       "    .dataframe tbody tr th:only-of-type {\n",
       "        vertical-align: middle;\n",
       "    }\n",
       "\n",
       "    .dataframe tbody tr th {\n",
       "        vertical-align: top;\n",
       "    }\n",
       "\n",
       "    .dataframe thead th {\n",
       "        text-align: right;\n",
       "    }\n",
       "</style>\n",
       "<table border=\"1\" class=\"dataframe\">\n",
       "  <thead>\n",
       "    <tr style=\"text-align: right;\">\n",
       "      <th></th>\n",
       "      <th>Number</th>\n",
       "      <th>Status</th>\n",
       "      <th>Product Name</th>\n",
       "      <th>Description</th>\n",
       "      <th>Main Brand</th>\n",
       "      <th>Sub Brand</th>\n",
       "      <th>Product Link</th>\n",
       "      <th>MPN</th>\n",
       "      <th>SKU</th>\n",
       "      <th>Updated</th>\n",
       "      <th>GS1 Product Name</th>\n",
       "      <th>Colour</th>\n",
       "      <th>Style</th>\n",
       "      <th>Size</th>\n",
       "      <th>Style-Colour-Size</th>\n",
       "    </tr>\n",
       "  </thead>\n",
       "  <tbody>\n",
       "    <tr>\n",
       "      <th>5995</th>\n",
       "      <td>5061042997319</td>\n",
       "      <td>Active</td>\n",
       "      <td>g-17 | navy | size:one size</td>\n",
       "      <td>g-17 | NAVY | Size:ONE SIZE | Exquisite Ashwoo...</td>\n",
       "      <td>Ashwood</td>\n",
       "      <td>NaN</td>\n",
       "      <td>https://www.leathercompany.co.uk/handbags-c6/c...</td>\n",
       "      <td>NaN</td>\n",
       "      <td>0005148800</td>\n",
       "      <td>14/02/2024 11:53:20</td>\n",
       "      <td>g-17 | NAVY | Size:ONE SIZE</td>\n",
       "      <td>navy</td>\n",
       "      <td>g-17</td>\n",
       "      <td></td>\n",
       "      <td>g-17-navy-</td>\n",
       "    </tr>\n",
       "  </tbody>\n",
       "</table>\n",
       "</div>"
      ],
      "text/plain": [
       "             Number  Status                 Product Name  \\\n",
       "5995  5061042997319  Active  g-17 | navy | size:one size   \n",
       "\n",
       "                                            Description Main Brand Sub Brand  \\\n",
       "5995  g-17 | NAVY | Size:ONE SIZE | Exquisite Ashwoo...    Ashwood       NaN   \n",
       "\n",
       "                                           Product Link  MPN         SKU  \\\n",
       "5995  https://www.leathercompany.co.uk/handbags-c6/c...  NaN  0005148800   \n",
       "\n",
       "                  Updated             GS1 Product Name Colour Style Size  \\\n",
       "5995  14/02/2024 11:53:20  g-17 | NAVY | Size:ONE SIZE   navy  g-17        \n",
       "\n",
       "     Style-Colour-Size  \n",
       "5995        g-17-navy-  "
      ]
     },
     "execution_count": 32,
     "metadata": {},
     "output_type": "execute_result"
    }
   ],
   "source": [
    "barcodes[barcodes['Product Name'] == 'g-17 | navy | size:one size']"
   ]
  },
  {
   "cell_type": "code",
   "execution_count": 33,
   "metadata": {},
   "outputs": [],
   "source": [
    "dict_plu_style = pd.Series(df['PLU'].values,index=df['Style-Colour-Size']).to_dict()\n",
    "barcodes['PLU'] = barcodes['Style-Colour-Size']\n",
    "barcodes['PLU'] = barcodes['PLU'].map(dict_plu_style)\n",
    "barcodes = barcodes.sort_values(by=['PLU', 'Style-Colour-Size'], ascending=[True, True])"
   ]
  },
  {
   "cell_type": "code",
   "execution_count": 34,
   "metadata": {},
   "outputs": [],
   "source": [
    "barcodes['Product Name'] = barcodes['Product Name'].replace('-------', np.NaN)"
   ]
  },
  {
   "cell_type": "code",
   "execution_count": 35,
   "metadata": {},
   "outputs": [],
   "source": [
    "barcodes['Product Name'] = barcodes['GS1 Product Name']\n",
    "barcodes.drop(['GS1 Product Name'], axis=1, inplace=True)"
   ]
  },
  {
   "cell_type": "code",
   "execution_count": 36,
   "metadata": {},
   "outputs": [
    {
     "data": {
      "text/html": [
       "<div>\n",
       "<style scoped>\n",
       "    .dataframe tbody tr th:only-of-type {\n",
       "        vertical-align: middle;\n",
       "    }\n",
       "\n",
       "    .dataframe tbody tr th {\n",
       "        vertical-align: top;\n",
       "    }\n",
       "\n",
       "    .dataframe thead th {\n",
       "        text-align: right;\n",
       "    }\n",
       "</style>\n",
       "<table border=\"1\" class=\"dataframe\">\n",
       "  <thead>\n",
       "    <tr style=\"text-align: right;\">\n",
       "      <th></th>\n",
       "      <th>Number</th>\n",
       "      <th>Status</th>\n",
       "      <th>Product Name</th>\n",
       "      <th>Description</th>\n",
       "      <th>Main Brand</th>\n",
       "      <th>Sub Brand</th>\n",
       "      <th>Product Link</th>\n",
       "      <th>MPN</th>\n",
       "      <th>SKU</th>\n",
       "      <th>Updated</th>\n",
       "      <th>Colour</th>\n",
       "      <th>Style</th>\n",
       "      <th>Size</th>\n",
       "      <th>Style-Colour-Size</th>\n",
       "      <th>PLU</th>\n",
       "    </tr>\n",
       "  </thead>\n",
       "  <tbody>\n",
       "  </tbody>\n",
       "</table>\n",
       "</div>"
      ],
      "text/plain": [
       "Empty DataFrame\n",
       "Columns: [Number, Status, Product Name, Description, Main Brand, Sub Brand, Product Link, MPN, SKU, Updated, Colour, Style, Size, Style-Colour-Size, PLU]\n",
       "Index: []"
      ]
     },
     "execution_count": 36,
     "metadata": {},
     "output_type": "execute_result"
    }
   ],
   "source": [
    "barcodes[barcodes['Product Name'] == 'g-17 | navy | size:one size']"
   ]
  },
  {
   "cell_type": "code",
   "execution_count": 37,
   "metadata": {},
   "outputs": [],
   "source": [
    "barcodes.to_csv('Temp_Barcodes_Connect.csv', index=False)"
   ]
  },
  {
   "cell_type": "code",
   "execution_count": 38,
   "metadata": {},
   "outputs": [
    {
     "data": {
      "text/plain": [
       "4046"
      ]
     },
     "execution_count": 38,
     "metadata": {},
     "output_type": "execute_result"
    }
   ],
   "source": [
    "barcodes['PLU'].isnull().sum()"
   ]
  },
  {
   "cell_type": "code",
   "execution_count": 62,
   "metadata": {},
   "outputs": [],
   "source": [
    "usman1 = pd.read_csv(\"Ashwood Barcode Document(MENS (UPDATED)).csv\", encoding='unicode_escape', dtype=str, skiprows=5)\n",
    "usman2 = pd.read_csv('Ashwood Barcode Document(Leather Furnishing).csv', encoding='unicode_escape', dtype=str, skiprows=5)\n",
    "remando = pd.read_excel(\"STOCK CODE FOR LC.xlsx\", dtype=str)\n",
    "usman1.drop_duplicates(keep=False, inplace=True)\n",
    "usman2.drop_duplicates(keep=False, inplace=True)\n",
    "remando.drop_duplicates(keep=False, inplace=True)\n",
    "remando.dropna(subset=['BAR CODE'], inplace=True)\n",
    "\n",
    "usman1 = usman1.replace(np.NaN, '')\n",
    "usman2 = usman2.replace(np.NaN, '')\n",
    "remando = remando.replace(np.NaN, '')\n",
    "\n",
    "usman1['Product'] = usman1['Style'].str.rstrip() + ' ' + usman1['Colour'].str.lstrip()\n",
    "usman2['Product'] = usman2['Style'].str.rstrip() + ' ' + usman2['Colour'].str.lstrip()\n",
    "remando['Product'] = remando['CODE'].str.replace('.',' ')"
   ]
  },
  {
   "cell_type": "code",
   "execution_count": 63,
   "metadata": {},
   "outputs": [],
   "source": [
    "usman1['Usman_GS1'] = 'Yes'\n",
    "usman1.rename(columns={'BARCODE': 'Number'}, inplace=True)\n",
    "usman1 = usman1[['Number', 'Product', 'Usman_GS1']]\n",
    "\n",
    "usman2['Usman_GS1'] = 'Yes'\n",
    "usman2.rename(columns={'BARCODE': 'Number'}, inplace=True)\n",
    "usman2 = usman2[['Number', 'Product', 'Usman_GS1']]\n",
    "\n",
    "remando['Usman_GS1'] = 'Yes'\n",
    "remando.rename(columns={'BAR CODE': 'Number'}, inplace=True)\n",
    "remando = remando[['Number', 'Product', 'Usman_GS1']]\n",
    "\n",
    "usman = pd.concat([usman1, usman2, remando], ignore_index=True)\n",
    "usman.drop_duplicates(keep='last', inplace=True)\n",
    "usman.dropna(subset=['Number'], inplace=True)\n",
    "usman['Product'] = usman['Product'].replace({'2 XL': '2XL', '3 XL': '3XL', '4 XL': '4XL', '5 XL': '5XL', '6 XL': '6XL'}, regex=True)\n",
    "\n",
    "barcodes = pd.merge(barcodes, usman, on='Number', how='left')"
   ]
  },
  {
   "cell_type": "code",
   "execution_count": 64,
   "metadata": {},
   "outputs": [],
   "source": [
    "usman.drop(columns=['Usman_GS1'], axis=1).to_csv('All Usman Barcodes.csv', index=False)"
   ]
  },
  {
   "cell_type": "code",
   "execution_count": 42,
   "metadata": {},
   "outputs": [],
   "source": [
    "temp = barcodes[barcodes.duplicated(subset=['PLU'], keep=False)]\n",
    "temp = temp.dropna(subset=['PLU'])"
   ]
  },
  {
   "cell_type": "code",
   "execution_count": 43,
   "metadata": {},
   "outputs": [],
   "source": [
    "temp.to_csv('DuplicateSKU-GS1.csv', index=False)"
   ]
  },
  {
   "cell_type": "code",
   "execution_count": 44,
   "metadata": {},
   "outputs": [
    {
     "data": {
      "text/plain": [
       "Usman_GS1\n",
       "Yes    265\n",
       "Name: count, dtype: int64"
      ]
     },
     "execution_count": 44,
     "metadata": {},
     "output_type": "execute_result"
    }
   ],
   "source": [
    "temp['Usman_GS1'].value_counts()"
   ]
  },
  {
   "cell_type": "code",
   "execution_count": null,
   "metadata": {},
   "outputs": [],
   "source": []
  }
 ],
 "metadata": {
  "kernelspec": {
   "display_name": "Python 3",
   "language": "python",
   "name": "python3"
  },
  "language_info": {
   "codemirror_mode": {
    "name": "ipython",
    "version": 3
   },
   "file_extension": ".py",
   "mimetype": "text/x-python",
   "name": "python",
   "nbconvert_exporter": "python",
   "pygments_lexer": "ipython3",
   "version": "3.12.1"
  }
 },
 "nbformat": 4,
 "nbformat_minor": 2
}
