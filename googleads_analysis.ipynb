{
 "cells": [
  {
   "cell_type": "code",
   "execution_count": 1,
   "metadata": {},
   "outputs": [],
   "source": [
    "import pandas as pd"
   ]
  },
  {
   "cell_type": "code",
   "execution_count": 7,
   "metadata": {},
   "outputs": [],
   "source": [
    "df = pd.read_csv(\"GoogleAds - Landing page report - 0103 to 2204.csv\", skiprows=2)"
   ]
  },
  {
   "cell_type": "code",
   "execution_count": 17,
   "metadata": {},
   "outputs": [
    {
     "data": {
      "text/plain": [
       "['Total: Account',\n",
       " 'Total: Landing pages',\n",
       " 'Total: Performance Max',\n",
       " 'Total: Search',\n",
       " 'https://www.leathercompany.co.uk/',\n",
       " 'https://www.leathercompany.co.uk/mens-c4/leather-jackets-c25',\n",
       " 'https://www.leathercompany.co.uk/luggage-c7/holdall-c15',\n",
       " 'https://www.leathercompany.co.uk/ladies-c3/womens-leather-biker-jacket-coffee-2810-p6175/s18978?utm_source=google&utm_medium=cpc&utm_term=Ashwood-womens-leather-biker-jacket-coffee-2810-size-14-size-14-0004365304&utm_campaign=product%2Blisting%2Bads&cid=GBP&glCurrency=GBP&glCountry=GB',\n",
       " 'https://www.leathercompany.co.uk/ladies-c3/leather-jackets-c9',\n",
       " 'https://www.leathercompany.co.uk',\n",
       " 'https://www.leathercompany.co.uk/handbags-c6/ashwood-m1#m1',\n",
       " 'https://www.leathercompany.co.uk/handbags-c6',\n",
       " 'https://www.leathercompany.co.uk/ladies-c3/ashwood-large-leather-holdall-tan-g-30-p6230/s19035?utm_source=google&utm_medium=cpc&utm_term=ashwood-large-leather-holdall-tan-g-30-size-one-size-size-one-size-0004373700&utm_campaign=product%2Blisting%2Bads&cid=GBP&glCurrency=GBP&glCountry=GB',\n",
       " 'https://www.leathercompany.co.uk/mens-c4/man-bags-briefcases-c12',\n",
       " 'https://www.leathercompany.co.uk/luggage-c7/holdall-c15/large-vintage-leather-travel-holdall-brown-marcus-p3248/s11745?utm_source=google&utm_medium=cpc&utm_term=ashwood-large-vintage-leather-travel-holdall-brown-marcus-size-one-s-size-one-size-0003610600&utm_campaign=product%2Blisting%2Bads&cid=GBP&glCurrency=GBP&glCountry=GB',\n",
       " 'https://www.leathercompany.co.uk/mens-c4',\n",
       " 'https://www.leathercompany.co.uk/ladies-c3/womens-leather-biker-jacket-coffee-2810-p6175/s18977?utm_source=google&utm_medium=cpc&utm_term=Ashwood-womens-leather-biker-jacket-coffee-2810-size-12-size-12-0004365303&utm_campaign=product%2Blisting%2Bads&cid=GBP&glCurrency=GBP&glCountry=GB',\n",
       " 'https://www.leathercompany.co.uk/luggage-c7/suit-carriers-c51/ashwood-leather-wheeled-suit-carrier-chestnut-89149-p6736/s20066?utm_source=google&utm_medium=cpc&utm_term=ashwood-leather-wheeled-suit-carrier-chestnut-89149-size-one-size-size-one-size-0004529300&utm_campaign=product%2Blisting%2Bads&cid=GBP&glCurrency=GBP&glCountry=GB',\n",
       " 'https://www.leathercompany.co.uk/mens-c4/man-bags-briefcases-c12/ashwood-mens-three-pocket-luxury-small-leather-flight-bag-tan-4551-p653/s4120?utm_source=google&utm_medium=cpc&utm_term=ashwood-three-pocket-luxury-small-leather-flight-bag-4551-tan-size-size-one-size-0002303500&utm_campaign=product%2Blisting%2Bads&cid=GBP&glCurrency=GBP&glCountry=GB',\n",
       " 'https://www.leathercompany.co.uk/handbags-c6/cross-body-bag-c87/Ashwood-leather-crossbody-bag-tan-cb-3-63014-p7229/s21581?utm_source=google&utm_medium=cpc&utm_term=Ashwood-leather-crossbody-bag-tan-cb-3-63014-size-one-size-size-one-size-0004786500&utm_campaign=product%2Blisting%2Bads&cid=GBP&glCurrency=GBP&glCountry=GB',\n",
       " 'https://www.leathercompany.co.uk/ladies-c3/Ashwood-large-leather-holdall-cognac-fe-06-p6743/s20073?utm_source=google&utm_medium=cpc&utm_term=Ashwood-large-leather-holdall-cognac-fe-06-size-one-size-size-one-size-0004528900&utm_campaign=product%2Blisting%2Bads&cid=GBP&glCurrency=GBP&glCountry=GB',\n",
       " 'https://www.leathercompany.co.uk/ashwood-m1',\n",
       " 'https://www.leathercompany.co.uk/sale/handbags-c6/ashwood-m1',\n",
       " 'https://www.leathercompany.co.uk/mens-c4/mens-triple-gusset-heavy-duty-leather-briefcase-chestnut-gareth-p4231/s14952?utm_source=google&utm_medium=cpc&utm_term=ashwood-mens-triple-gusset-heavy-duty-leather-briefcase-chestnut-gar-size-one-size-0001322500&utm_campaign=product%2Blisting%2Bads&cid=GBP&glCurrency=GBP&glCountry=GB',\n",
       " 'https://www.leathercompany.co.uk/handbags-c6/backpacks-c89',\n",
       " 'https://www.leathercompany.co.uk/handbags-c6/ashwood-c30',\n",
       " 'https://www.leathercompany.co.uk/ladies-c3/Ashwood-leather-crossbody-bag-black-cb-3-63014-p6779/s20113?utm_source=google&utm_medium=cpc&utm_term=Ashwood-leather-crossbody-bag-black-cb-3-63014-size-one-size-size-one-size-0004532400&utm_campaign=product%2Blisting%2Bads&cid=GBP&glCurrency=GBP&glCountry=GB',\n",
       " 'https://www.leathercompany.co.uk/map/leather-company-london',\n",
       " 'https://www.leathercompany.co.uk/map',\n",
       " 'https://www.leathercompany.co.uk/ladies-c3/ladies-jackets-coats-c181',\n",
       " 'https://www.leathercompany.co.uk/weekly-deals-c164',\n",
       " 'https://www.leathercompany.co.uk/ladies-c3/ashwood-leather-holdall-honey-t-76-p6792/s20144?utm_source=google&utm_medium=cpc&utm_term=ashwood-leather-holdall-honey-t-76-size-one-size-size-one-size-0004527700&utm_campaign=product%2Blisting%2Bads&cid=GBP&glCurrency=GBP&glCountry=GB',\n",
       " 'https://www.leathercompany.co.uk/ladies-c3/black-friday-2019-c161',\n",
       " 'https://www.leathercompany.co.uk/handbags-c6/backpacks-c89/large-vintage-leather-backpack-honey-g28-p3755/s13672?utm_source=google&utm_medium=cpc&utm_term=ashwood-large-vintage-leather-backpack-honey-g28-size-one-size-size-one-size-0003809500&utm_campaign=product%2Blisting%2Bads&cid=GBP&glCurrency=GBP&glCountry=GB',\n",
       " 'https://www.leathercompany.co.uk/luggage-c7',\n",
       " 'https://www.leathercompany.co.uk/ladies-c3/14-card-rfid-protected-large-leather-purse-two-tone-tan-s1-p6708/s20038?utm_source=google&utm_medium=cpc&utm_term=Ashwood-14-card-rfid-protected-large-leather-purse-two-tone-tan-s1-si-size-one-size-0004523300&utm_campaign=product%2Blisting%2Bads&cid=GBP&glCurrency=GBP&glCountry=GB',\n",
       " 'https://www.leathercompany.co.uk/luggage-c7/holdall-c15/large-vintage-leather-travel-holdall-tan-jayden-p4213/s14921?utm_source=google&utm_medium=cpc&utm_term=ashwood-large-vintage-leather-travel-holdall-tan-jayden-size-one-siz-size-one-size-0004026800&utm_campaign=product%2Blisting%2Bads&cid=GBP&glCurrency=GBP&glCountry=GB',\n",
       " 'https://www.leathercompany.co.uk/ladies-c3/vintage-leather-cross-body-shoulder-bag-honey-g22-p3614/s13045?utm_source=google&utm_medium=cpc&utm_term=ashwood-vintage-leather-cross-body-shoulder-bag-honey-g22-size-one-s-size-one-size-0003742100&utm_campaign=product%2Blisting%2Bads&cid=GBP&glCurrency=GBP&glCountry=GB',\n",
       " 'https://www.leathercompany.co.uk/sheepskin-fur-c5',\n",
       " 'https://www.leathercompany.co.uk/luggage-c7/Ashwood-leather-wheeled-suit-carrier-black-89149-p6735/s20065?utm_source=google&utm_medium=cpc&utm_term=Ashwood-leather-wheeled-suit-carrier-black-89149-size-one-size-size-one-size-0000068900&utm_campaign=product%2Blisting%2Bads&cid=GBP&glCurrency=GBP&glCountry=GB',\n",
       " 'https://www.leathercompany.co.uk/ladies-c3/14-card-rfid-protected-xl-leather-purse-poppy-red-s2-p6713/s20043?utm_source=google&utm_medium=cpc&utm_term=Ashwood-14-card-rfid-protected-xl-leather-purse-poppy-red-s2-size-on-size-one-size-0004523900&utm_campaign=product%2Blisting%2Bads&cid=GBP&glCurrency=GBP&glCountry=GB',\n",
       " 'https://www.leathercompany.co.uk/mens-c4/man-bags-briefcases-c12/ashwood-mens-leather-washbag-chestnut-vt-2012-p590/s4057?utm_source=google&utm_medium=cpc&utm_term=ashwood-luggage-leather-washbag-2012-chestnut-vt-size-one-size-size-one-size-0000073100&utm_campaign=product%2Blisting%2Bads&cid=GBP&glCurrency=GBP&glCountry=GB',\n",
       " 'https://www.leathercompany.co.uk/mens-c4/leather-jackets-c25/leather-jacket-tan-edinburgh-p234/s2675?utm_source=google&utm_medium=cpc&utm_term=Ashwood-leather-jacket-tan-edinburgh-size-6xl-size-6xl-0001367811&utm_campaign=product%2Blisting%2Bads&cid=GBP&glCurrency=GBP&glCountry=GB',\n",
       " 'https://www.leathercompany.co.uk/sheepskin-fur-c5/sheepskin-footwear-c46/fenland-m10',\n",
       " 'https://www.leathercompany.co.uk/ladies-c3/womens-leather-biker-jacket-coffee-2810-p6175/s18979?utm_source=google&utm_medium=cpc&utm_term=Ashwood-womens-leather-biker-jacket-coffee-2810-size-16-size-16-0004365305&utm_campaign=product%2Blisting%2Bads&cid=GBP&glCurrency=GBP&glCountry=GB',\n",
       " 'https://www.leathercompany.co.uk/mens-c4/ashwood-large-vintage-leather-backpack-tan-ruben-p6190/s18995?utm_source=google&utm_medium=cpc&utm_term=ashwood-large-vintage-leather-backpack-tan-ruben-size-one-size-size-one-size-0004368500&utm_campaign=product%2Blisting%2Bads&cid=GBP&glCurrency=GBP&glCountry=GB',\n",
       " 'https://www.leathercompany.co.uk/luggage-c7/extra-large-leather-travel-holdall-chestnut-vt-2081-p4362/s15155?utm_source=google&utm_medium=cpc&utm_term=ashwood-mens-extra-large-leather-travel-holdall-chestnut-vt-2081-siz-size-one-size-0000071800&utm_campaign=product%2Blisting%2Bads&cid=GBP&glCurrency=GBP&glCountry=GB',\n",
       " 'https://www.leathercompany.co.uk/contact-us-i3',\n",
       " 'https://www.leathercompany.co.uk/luggage-c7/holdall-c15/large-vintage-leather-travel-holdall-brown-jayden-p4212/s14920?utm_source=google&utm_medium=cpc&utm_term=ashwood-large-vintage-leather-travel-holdall-brown-jayden-size-one-s-size-one-size-0004026700&utm_campaign=product%2Blisting%2Bads&cid=GBP&glCurrency=GBP&glCountry=GB',\n",
       " 'https://www.leathercompany.co.uk/luggage-c7/ashwood-large-leather-holdall-travel-bag-bridge-10973-p6668/s19973?utm_source=google&utm_medium=cpc&utm_term=ashwood-large-leather-holdall-travel-bag-bridge-10973-size-one-size-size-one-size-0004471400&utm_campaign=product%2Blisting%2Bads&cid=GBP&glCurrency=GBP&glCountry=GB',\n",
       " 'https://www.leathercompany.co.uk/mens-c4/leather-jackets-c25/leather-jacket-tan-edinburgh-p234/s1258?utm_source=google&utm_medium=cpc&utm_term=ashwood-leather-jacket-tan-edinburgh-size-l-size-l-0001367805&utm_campaign=product%2Blisting%2Bads&cid=GBP&glCurrency=GBP&glCountry=GB',\n",
       " 'https://www.leathercompany.co.uk/handbags-c6/ashwood-m1',\n",
       " 'https://www.leathercompany.co.uk/ladies-c3',\n",
       " 'https://www.leathercompany.co.uk/mens-c4/man-bags-briefcases-c12/mens-vintage-wash-leather-a4-side-bag-rust-7994-p676/s4143?utm_source=google&utm_medium=cpc&utm_term=ashwood-vintage-wash-leather-a4-side-bag-7994-rust-size-one-size-size-one-size-0002020200&utm_campaign=product%2Blisting%2Bads&cid=GBP&glCurrency=GBP&glCountry=GB',\n",
       " 'https://www.leathercompany.co.uk/mens-c4/leather-jackets-c25/leather-jacket-tan-edinburgh-p234/s1259?utm_source=google&utm_medium=cpc&utm_term=ashwood-leather-jacket-tan-edinburgh-size-xl-size-xl-0001367806&utm_campaign=product%2Blisting%2Bads&cid=GBP&glCurrency=GBP&glCountry=GB',\n",
       " 'https://www.leathercompany.co.uk/handbags-c6/cross-body-bag-c87/Ashwood-leather-crossbody-bag-navy-cb-3-63014-p7227/s21579?utm_source=google&utm_medium=cpc&utm_term=Ashwood-leather-crossbody-bag-navy-cb-3-63014-size-one-size-size-one-size-0004786300&utm_campaign=product%2Blisting%2Bads&cid=GBP&glCurrency=GBP&glCountry=GB',\n",
       " 'https://www.leathercompany.co.uk/ladies-c3/Ashwood-leather-apron-brown-apron-2-p6446/s19596?utm_source=google&utm_medium=cpc&utm_term=Ashwood-leather-apron-brown-apron-2-size-one-size-size-one-size-0003615500&utm_campaign=product%2Blisting%2Bads&cid=GBP&glCurrency=GBP&glCountry=GB',\n",
       " 'https://www.leathercompany.co.uk/ladies-c3/toscana-suede-leather-gilet-honey-kashmina-p6679/s19995?utm_source=google&utm_medium=cpc&utm_term=ashwood-toscana-suede-leather-gilet-honey-kashmina-size-18-size-18-0004517306&utm_campaign=product%2Blisting%2Bads&cid=GBP&glCurrency=GBP&glCountry=GB',\n",
       " 'https://www.leathercompany.co.uk/mens-c4/man-bags-briefcases-c12/laptop-messenger-bags-c113',\n",
       " 'https://www.leathercompany.co.uk/ladies-c3/ashwood-single-australian-sheepskin-rug-ochre-p6301/s19172?utm_source=google&utm_medium=cpc&utm_term=ashwood-single-australian-sheepskin-rug-ochre-size-one-size-size-one-size-0004392700&utm_campaign=product%2Blisting%2Bads&cid=GBP&glCurrency=GBP&glCountry=GB']"
      ]
     },
     "execution_count": 17,
     "metadata": {},
     "output_type": "execute_result"
    }
   ],
   "source": [
    "list(df.sort_values(by='Cost', ascending=False)[:60]['Landing page'])"
   ]
  },
  {
   "cell_type": "code",
   "execution_count": null,
   "metadata": {},
   "outputs": [],
   "source": []
  }
 ],
 "metadata": {
  "kernelspec": {
   "display_name": "Python 3",
   "language": "python",
   "name": "python3"
  },
  "language_info": {
   "codemirror_mode": {
    "name": "ipython",
    "version": 3
   },
   "file_extension": ".py",
   "mimetype": "text/x-python",
   "name": "python",
   "nbconvert_exporter": "python",
   "pygments_lexer": "ipython3",
   "version": "3.12.1"
  }
 },
 "nbformat": 4,
 "nbformat_minor": 2
}
