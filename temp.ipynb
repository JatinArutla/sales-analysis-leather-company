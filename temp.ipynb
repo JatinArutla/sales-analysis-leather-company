{
 "cells": [
  {
   "cell_type": "code",
   "execution_count": 1,
   "metadata": {},
   "outputs": [],
   "source": [
    "import pandas as pd"
   ]
  },
  {
   "cell_type": "code",
   "execution_count": 24,
   "metadata": {},
   "outputs": [],
   "source": [
    "df = pd.read_csv('unduplicated_orders.csv', parse_dates=['date'])\n",
    "df = df[(df['order_state'] == 'Order Dispatched') | (df['order_state'] == 'Order Refunded')]"
   ]
  },
  {
   "cell_type": "code",
   "execution_count": 25,
   "metadata": {},
   "outputs": [
    {
     "data": {
      "text/html": [
       "<div>\n",
       "<style scoped>\n",
       "    .dataframe tbody tr th:only-of-type {\n",
       "        vertical-align: middle;\n",
       "    }\n",
       "\n",
       "    .dataframe tbody tr th {\n",
       "        vertical-align: top;\n",
       "    }\n",
       "\n",
       "    .dataframe thead th {\n",
       "        text-align: right;\n",
       "    }\n",
       "</style>\n",
       "<table border=\"1\" class=\"dataframe\">\n",
       "  <thead>\n",
       "    <tr style=\"text-align: right;\">\n",
       "      <th></th>\n",
       "      <th>order_id</th>\n",
       "      <th>order_state</th>\n",
       "      <th>order_date</th>\n",
       "      <th>grand_total_inc</th>\n",
       "      <th>title</th>\n",
       "      <th>line</th>\n",
       "      <th>model</th>\n",
       "      <th>reference</th>\n",
       "      <th>quantity</th>\n",
       "      <th>price_inc</th>\n",
       "      <th>...</th>\n",
       "      <th>customs_description</th>\n",
       "      <th>date</th>\n",
       "      <th>time</th>\n",
       "      <th>day</th>\n",
       "      <th>fifo_quantity</th>\n",
       "      <th>F_Cat</th>\n",
       "      <th>S_Cat</th>\n",
       "      <th>T_Cat</th>\n",
       "      <th>Category</th>\n",
       "      <th>colour</th>\n",
       "    </tr>\n",
       "  </thead>\n",
       "  <tbody>\n",
       "    <tr>\n",
       "      <th>0</th>\n",
       "      <td>27374</td>\n",
       "      <td>Order Refunded</td>\n",
       "      <td>2021-01-31 23:04:19</td>\n",
       "      <td>169.0</td>\n",
       "      <td>Womens Two-In-One Leather Hooded Jacket Black/...</td>\n",
       "      <td>32102</td>\n",
       "      <td>AWL-484</td>\n",
       "      <td>1449306</td>\n",
       "      <td>1</td>\n",
       "      <td>169.0</td>\n",
       "      <td>...</td>\n",
       "      <td>Ladies &gt; Ladies Jackets &amp; Coats</td>\n",
       "      <td>2021-01-31</td>\n",
       "      <td>23:04:19</td>\n",
       "      <td>31</td>\n",
       "      <td>1</td>\n",
       "      <td>Ladies</td>\n",
       "      <td>Ladies Jackets &amp; Coats</td>\n",
       "      <td>NaN</td>\n",
       "      <td>Ladies &gt; Ladies Jackets &amp; Coats</td>\n",
       "      <td>Black</td>\n",
       "    </tr>\n",
       "    <tr>\n",
       "      <th>1</th>\n",
       "      <td>27373</td>\n",
       "      <td>Order Dispatched</td>\n",
       "      <td>2021-01-31 22:17:10</td>\n",
       "      <td>599.0</td>\n",
       "      <td>Mens Luxury Shearling Biker/ Flying Jacket Bro...</td>\n",
       "      <td>32101</td>\n",
       "      <td>P-55</td>\n",
       "      <td>3687705</td>\n",
       "      <td>1</td>\n",
       "      <td>599.0</td>\n",
       "      <td>...</td>\n",
       "      <td>January Sale 2021</td>\n",
       "      <td>2021-01-31</td>\n",
       "      <td>22:17:10</td>\n",
       "      <td>31</td>\n",
       "      <td>1</td>\n",
       "      <td>January Sale 2021</td>\n",
       "      <td>NaN</td>\n",
       "      <td>NaN</td>\n",
       "      <td>NaN</td>\n",
       "      <td>Brown</td>\n",
       "    </tr>\n",
       "  </tbody>\n",
       "</table>\n",
       "<p>2 rows × 22 columns</p>\n",
       "</div>"
      ],
      "text/plain": [
       "   order_id       order_state           order_date  grand_total_inc  \\\n",
       "0     27374    Order Refunded  2021-01-31 23:04:19            169.0   \n",
       "1     27373  Order Dispatched  2021-01-31 22:17:10            599.0   \n",
       "\n",
       "                                               title   line    model  \\\n",
       "0  Womens Two-In-One Leather Hooded Jacket Black/...  32102  AWL-484   \n",
       "1  Mens Luxury Shearling Biker/ Flying Jacket Bro...  32101     P-55   \n",
       "\n",
       "   reference  quantity  price_inc  ...              customs_description  \\\n",
       "0    1449306         1      169.0  ...  Ladies > Ladies Jackets & Coats   \n",
       "1    3687705         1      599.0  ...                January Sale 2021   \n",
       "\n",
       "        date      time day fifo_quantity              F_Cat  \\\n",
       "0 2021-01-31  23:04:19  31             1             Ladies   \n",
       "1 2021-01-31  22:17:10  31             1  January Sale 2021   \n",
       "\n",
       "                    S_Cat T_Cat                         Category colour  \n",
       "0  Ladies Jackets & Coats   NaN  Ladies > Ladies Jackets & Coats  Black  \n",
       "1                     NaN   NaN                              NaN  Brown  \n",
       "\n",
       "[2 rows x 22 columns]"
      ]
     },
     "execution_count": 25,
     "metadata": {},
     "output_type": "execute_result"
    }
   ],
   "source": [
    "df.head(2)"
   ]
  },
  {
   "cell_type": "code",
   "execution_count": 26,
   "metadata": {},
   "outputs": [
    {
     "data": {
      "text/plain": [
       "date\n",
       "2021    16815\n",
       "2023    16094\n",
       "2022    15755\n",
       "Name: count, dtype: int64"
      ]
     },
     "execution_count": 26,
     "metadata": {},
     "output_type": "execute_result"
    }
   ],
   "source": [
    "df['date'].dt.year.value_counts()"
   ]
  },
  {
   "cell_type": "code",
   "execution_count": 27,
   "metadata": {},
   "outputs": [
    {
     "data": {
      "text/plain": [
       "1527360.6770000001"
      ]
     },
     "execution_count": 27,
     "metadata": {},
     "output_type": "execute_result"
    }
   ],
   "source": [
    "df[df['date'].dt.year == 2022]['price_inc'].sum()"
   ]
  },
  {
   "cell_type": "code",
   "execution_count": 28,
   "metadata": {},
   "outputs": [
    {
     "data": {
      "text/plain": [
       "16161"
      ]
     },
     "execution_count": 28,
     "metadata": {},
     "output_type": "execute_result"
    }
   ],
   "source": [
    "df[df['date'].dt.year == 2022]['quantity'].sum()"
   ]
  },
  {
   "cell_type": "code",
   "execution_count": null,
   "metadata": {},
   "outputs": [],
   "source": []
  }
 ],
 "metadata": {
  "kernelspec": {
   "display_name": "Python 3",
   "language": "python",
   "name": "python3"
  },
  "language_info": {
   "codemirror_mode": {
    "name": "ipython",
    "version": 3
   },
   "file_extension": ".py",
   "mimetype": "text/x-python",
   "name": "python",
   "nbconvert_exporter": "python",
   "pygments_lexer": "ipython3",
   "version": "3.12.1"
  }
 },
 "nbformat": 4,
 "nbformat_minor": 2
}
