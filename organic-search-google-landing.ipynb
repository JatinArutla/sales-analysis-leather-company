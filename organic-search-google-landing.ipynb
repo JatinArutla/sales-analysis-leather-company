{
 "cells": [
  {
   "cell_type": "code",
   "execution_count": 91,
   "metadata": {},
   "outputs": [],
   "source": [
    "import pandas as pd\n",
    "import numpy as np"
   ]
  },
  {
   "cell_type": "code",
   "execution_count": 92,
   "metadata": {},
   "outputs": [
    {
     "data": {
      "text/html": [
       "<div>\n",
       "<style scoped>\n",
       "    .dataframe tbody tr th:only-of-type {\n",
       "        vertical-align: middle;\n",
       "    }\n",
       "\n",
       "    .dataframe tbody tr th {\n",
       "        vertical-align: top;\n",
       "    }\n",
       "\n",
       "    .dataframe thead th {\n",
       "        text-align: right;\n",
       "    }\n",
       "</style>\n",
       "<table border=\"1\" class=\"dataframe\">\n",
       "  <thead>\n",
       "    <tr style=\"text-align: right;\">\n",
       "      <th></th>\n",
       "      <th>Landing page + query string</th>\n",
       "      <th>Organic Google Search clicks</th>\n",
       "      <th>Organic Google Search impressions</th>\n",
       "      <th>Organic Google Search click through rate</th>\n",
       "      <th>Organic Google Search average position</th>\n",
       "      <th>Users</th>\n",
       "      <th>Engaged sessions</th>\n",
       "      <th>Engagement rate</th>\n",
       "      <th>Average engagement time</th>\n",
       "      <th>Event count</th>\n",
       "      <th>Key events</th>\n",
       "      <th>Ad revenue</th>\n",
       "    </tr>\n",
       "  </thead>\n",
       "  <tbody>\n",
       "    <tr>\n",
       "      <th>1</th>\n",
       "      <td>/ladies-c3/leather-jackets-c9</td>\n",
       "      <td>12645</td>\n",
       "      <td>1674452</td>\n",
       "      <td>0.007552</td>\n",
       "      <td>18.219285</td>\n",
       "      <td>10650</td>\n",
       "      <td>8563</td>\n",
       "      <td>0.744738</td>\n",
       "      <td>95.135962</td>\n",
       "      <td>127961</td>\n",
       "      <td>61</td>\n",
       "      <td>0</td>\n",
       "    </tr>\n",
       "    <tr>\n",
       "      <th>0</th>\n",
       "      <td>/mens-c4/leather-jackets-c25</td>\n",
       "      <td>14538</td>\n",
       "      <td>1432944</td>\n",
       "      <td>0.010146</td>\n",
       "      <td>17.926221</td>\n",
       "      <td>12049</td>\n",
       "      <td>9659</td>\n",
       "      <td>0.730028</td>\n",
       "      <td>83.073865</td>\n",
       "      <td>122563</td>\n",
       "      <td>53</td>\n",
       "      <td>0</td>\n",
       "    </tr>\n",
       "    <tr>\n",
       "      <th>3</th>\n",
       "      <td>/handbags-c6</td>\n",
       "      <td>6875</td>\n",
       "      <td>720606</td>\n",
       "      <td>0.009541</td>\n",
       "      <td>23.129165</td>\n",
       "      <td>5421</td>\n",
       "      <td>4468</td>\n",
       "      <td>0.750294</td>\n",
       "      <td>90.381295</td>\n",
       "      <td>58332</td>\n",
       "      <td>31</td>\n",
       "      <td>0</td>\n",
       "    </tr>\n",
       "    <tr>\n",
       "      <th>8</th>\n",
       "      <td>/mens-c4/man-bags-briefcases-c12</td>\n",
       "      <td>3842</td>\n",
       "      <td>595419</td>\n",
       "      <td>0.006453</td>\n",
       "      <td>29.621930</td>\n",
       "      <td>3114</td>\n",
       "      <td>2467</td>\n",
       "      <td>0.764961</td>\n",
       "      <td>78.113038</td>\n",
       "      <td>30396</td>\n",
       "      <td>13</td>\n",
       "      <td>0</td>\n",
       "    </tr>\n",
       "    <tr>\n",
       "      <th>28</th>\n",
       "      <td>/mens-c4/leather-jackets-c25/bomber-styles-c99</td>\n",
       "      <td>875</td>\n",
       "      <td>570461</td>\n",
       "      <td>0.001534</td>\n",
       "      <td>19.681959</td>\n",
       "      <td>729</td>\n",
       "      <td>581</td>\n",
       "      <td>0.751617</td>\n",
       "      <td>63.196159</td>\n",
       "      <td>6848</td>\n",
       "      <td>2</td>\n",
       "      <td>0</td>\n",
       "    </tr>\n",
       "  </tbody>\n",
       "</table>\n",
       "</div>"
      ],
      "text/plain": [
       "                       Landing page + query string  \\\n",
       "1                    /ladies-c3/leather-jackets-c9   \n",
       "0                     /mens-c4/leather-jackets-c25   \n",
       "3                                     /handbags-c6   \n",
       "8                 /mens-c4/man-bags-briefcases-c12   \n",
       "28  /mens-c4/leather-jackets-c25/bomber-styles-c99   \n",
       "\n",
       "    Organic Google Search clicks  Organic Google Search impressions  \\\n",
       "1                          12645                            1674452   \n",
       "0                          14538                            1432944   \n",
       "3                           6875                             720606   \n",
       "8                           3842                             595419   \n",
       "28                           875                             570461   \n",
       "\n",
       "    Organic Google Search click through rate  \\\n",
       "1                                   0.007552   \n",
       "0                                   0.010146   \n",
       "3                                   0.009541   \n",
       "8                                   0.006453   \n",
       "28                                  0.001534   \n",
       "\n",
       "    Organic Google Search average position  Users  Engaged sessions  \\\n",
       "1                                18.219285  10650              8563   \n",
       "0                                17.926221  12049              9659   \n",
       "3                                23.129165   5421              4468   \n",
       "8                                29.621930   3114              2467   \n",
       "28                               19.681959    729               581   \n",
       "\n",
       "    Engagement rate  Average engagement time  Event count  Key events  \\\n",
       "1          0.744738                95.135962       127961          61   \n",
       "0          0.730028                83.073865       122563          53   \n",
       "3          0.750294                90.381295        58332          31   \n",
       "8          0.764961                78.113038        30396          13   \n",
       "28         0.751617                63.196159         6848           2   \n",
       "\n",
       "    Ad revenue  \n",
       "1            0  \n",
       "0            0  \n",
       "3            0  \n",
       "8            0  \n",
       "28           0  "
      ]
     },
     "execution_count": 92,
     "metadata": {},
     "output_type": "execute_result"
    }
   ],
   "source": [
    "df = pd.read_csv('OrganicSearchLandingPage-12Months.csv', skiprows=9)\n",
    "# df = df[:200]\n",
    "df = df.sort_values(by='Organic Google Search impressions', ascending=False)\n",
    "df.head()"
   ]
  },
  {
   "cell_type": "code",
   "execution_count": 93,
   "metadata": {},
   "outputs": [],
   "source": [
    "import matplotlib\n",
    "list_colours = []\n",
    "for name, hex in matplotlib.colors.cnames.items():\n",
    "    name = name.title()\n",
    "    list_colours.append(name)\n",
    "\n",
    "# list_colours = []\n",
    "colours_df = pd.read_csv('colours.csv')\n",
    "colours_df['colours'] = colours_df['colours'].str.strip()\n",
    "for j in colours_df['colours'].unique().tolist():\n",
    "    list_colours.append(j)\n",
    "\n",
    "for i in list_colours:\n",
    "    i = i.title()\n",
    "\n",
    "list_colours = list(dict.fromkeys(list_colours))\n",
    "\n",
    "df['Colour'] = df['Landing page + query string'].str.findall(r'(?i)\\b(?:{})\\b'.format('|'.join(list_colours))).apply(', '.join)\n",
    "\n",
    "df2 = df['Colour'].str.split(',', expand=True)\n",
    "df['Colour'] = df2[0]"
   ]
  },
  {
   "cell_type": "code",
   "execution_count": 94,
   "metadata": {},
   "outputs": [
    {
     "data": {
      "text/plain": [
       "(127497, 1035)"
      ]
     },
     "execution_count": 94,
     "metadata": {},
     "output_type": "execute_result"
    }
   ],
   "source": [
    "df['Engaged sessions'].sum(), df['Key events'].sum()"
   ]
  },
  {
   "cell_type": "code",
   "execution_count": 95,
   "metadata": {},
   "outputs": [
    {
     "data": {
      "text/plain": [
       "fPageType\n",
       "p    2702\n",
       "t    1248\n",
       "m     310\n",
       "c     243\n",
       "0     196\n",
       "     ... \n",
       "k       2\n",
       "6       1\n",
       "T       1\n",
       "S       1\n",
       "H       1\n",
       "Name: count, Length: 64, dtype: int64"
      ]
     },
     "execution_count": 95,
     "metadata": {},
     "output_type": "execute_result"
    }
   ],
   "source": [
    "df['PageType'] = df['Landing page + query string'].str.split('-').str[-1]\n",
    "df['fPageType'] = df['PageType'].astype(str).str[0]\n",
    "df['fPageType'].value_counts()"
   ]
  },
  {
   "cell_type": "code",
   "execution_count": 96,
   "metadata": {},
   "outputs": [
    {
     "name": "stderr",
     "output_type": "stream",
     "text": [
      "C:\\Users\\retai\\AppData\\Local\\Temp\\ipykernel_15636\\3750898676.py:4: SettingWithCopyWarning:\n",
      "\n",
      "\n",
      "A value is trying to be set on a copy of a slice from a DataFrame.\n",
      "Try using .loc[row_indexer,col_indexer] = value instead\n",
      "\n",
      "See the caveats in the documentation: https://pandas.pydata.org/pandas-docs/stable/user_guide/indexing.html#returning-a-view-versus-a-copy\n",
      "\n",
      "C:\\Users\\retai\\AppData\\Local\\Temp\\ipykernel_15636\\3750898676.py:5: SettingWithCopyWarning:\n",
      "\n",
      "\n",
      "A value is trying to be set on a copy of a slice from a DataFrame.\n",
      "Try using .loc[row_indexer,col_indexer] = value instead\n",
      "\n",
      "See the caveats in the documentation: https://pandas.pydata.org/pandas-docs/stable/user_guide/indexing.html#returning-a-view-versus-a-copy\n",
      "\n"
     ]
    }
   ],
   "source": [
    "cat_df = df[df['fPageType'] == 'c']\n",
    "prod_df = df[df['fPageType'] == 'p']\n",
    "other_cat_df = df[(df['fPageType'] != 'p') & (df['fPageType'] != 'c')]\n",
    "other_cat_df['PageType'] = other_cat_df['Landing page + query string'].str.split('-').str[-2]\n",
    "other_cat_df['fPageType'] = other_cat_df['PageType'].astype(str).str[0]\n",
    "other_cat_df = other_cat_df[other_cat_df['fPageType'] == 'c']\n",
    "cat_df = pd.concat([cat_df, other_cat_df], ignore_index=True)"
   ]
  },
  {
   "cell_type": "code",
   "execution_count": 98,
   "metadata": {},
   "outputs": [
    {
     "data": {
      "text/plain": [
       "['/mens-c4/leather-jackets-c25/leather-jacket-tan-edinburgh-p234',\n",
       " '/mens-c4/leather-jackets-c25/blazer-styles-c98/two-button-leather-blazer-tan-vito-p3824',\n",
       " '/mens-c4/leather-jackets-c25/leather-bomber-jacket-tan-danny-p950',\n",
       " '/mens-c4/leather-jackets-c25/biker-styles-c97/vegetable-tanned-leather-biker-jacket-tan-mcqueen-p2295',\n",
       " '/mens-c4/leather-jackets-c25/three-button-leather-blazer-tan-malone-p1087',\n",
       " '/mens-c4/leather-jackets-c25/bomber-styles-c99/vintage-leather-bomber-jacket-tan-le-mans-p3706',\n",
       " '/mens-c4/leather-jackets-c25/leather-biker-jacket-tan-bronx-p1042',\n",
       " '/mens-c4/leather-jackets-c25/leather-coat-tan-brontes-p1043',\n",
       " '/mens-c4/leather-jackets-c25/two-button-leather-blazer-tan-capone-p1085',\n",
       " '/mens-c4/leather-jackets-c25/bomber-styles-c99/leather-pilot-bomber-jacket-tan-london-p3689',\n",
       " '/mens-c4/leather-jackets-c25/biker-styles-c97/leather-vintage-biker-jacket-tan-stedman-p3702',\n",
       " '/mens-c4/leather-jackets-c25/biker-styles-c97/biker-leather-jacket-tan-baron-p3697']"
      ]
     },
     "execution_count": 98,
     "metadata": {},
     "output_type": "execute_result"
    }
   ],
   "source": [
    "list(prod_df[(prod_df['Landing page + query string'].str.contains('mens-c4/leather-jackets-c25/')) & (prod_df['Colour'] == 'tan')]['Landing page + query string'])"
   ]
  },
  {
   "cell_type": "code",
   "execution_count": null,
   "metadata": {},
   "outputs": [],
   "source": []
  }
 ],
 "metadata": {
  "kernelspec": {
   "display_name": "Python 3",
   "language": "python",
   "name": "python3"
  },
  "language_info": {
   "codemirror_mode": {
    "name": "ipython",
    "version": 3
   },
   "file_extension": ".py",
   "mimetype": "text/x-python",
   "name": "python",
   "nbconvert_exporter": "python",
   "pygments_lexer": "ipython3",
   "version": "3.12.1"
  }
 },
 "nbformat": 4,
 "nbformat_minor": 2
}
