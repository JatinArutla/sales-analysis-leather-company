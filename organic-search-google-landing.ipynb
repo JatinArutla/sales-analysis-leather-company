{
 "cells": [
  {
   "cell_type": "code",
   "execution_count": 1,
   "metadata": {},
   "outputs": [],
   "source": [
    "import pandas as pd\n",
    "import numpy as np"
   ]
  },
  {
   "cell_type": "code",
   "execution_count": 16,
   "metadata": {},
   "outputs": [
    {
     "data": {
      "text/html": [
       "<div>\n",
       "<style scoped>\n",
       "    .dataframe tbody tr th:only-of-type {\n",
       "        vertical-align: middle;\n",
       "    }\n",
       "\n",
       "    .dataframe tbody tr th {\n",
       "        vertical-align: top;\n",
       "    }\n",
       "\n",
       "    .dataframe thead th {\n",
       "        text-align: right;\n",
       "    }\n",
       "</style>\n",
       "<table border=\"1\" class=\"dataframe\">\n",
       "  <thead>\n",
       "    <tr style=\"text-align: right;\">\n",
       "      <th></th>\n",
       "      <th>Landing page + query string</th>\n",
       "      <th>Organic Google Search clicks</th>\n",
       "      <th>Organic Google Search impressions</th>\n",
       "      <th>Organic Google Search click through rate</th>\n",
       "      <th>Organic Google Search average position</th>\n",
       "      <th>Users</th>\n",
       "      <th>Engaged sessions</th>\n",
       "      <th>Engagement rate</th>\n",
       "      <th>Average engagement time</th>\n",
       "      <th>Event count</th>\n",
       "      <th>Key events</th>\n",
       "      <th>Ad revenue</th>\n",
       "    </tr>\n",
       "  </thead>\n",
       "  <tbody>\n",
       "    <tr>\n",
       "      <th>0</th>\n",
       "      <td>/mens-c4/leather-jackets-c25</td>\n",
       "      <td>14538</td>\n",
       "      <td>1432944</td>\n",
       "      <td>0.010146</td>\n",
       "      <td>17.926221</td>\n",
       "      <td>12049</td>\n",
       "      <td>9659</td>\n",
       "      <td>0.730028</td>\n",
       "      <td>83.073865</td>\n",
       "      <td>122563</td>\n",
       "      <td>53</td>\n",
       "      <td>0</td>\n",
       "    </tr>\n",
       "    <tr>\n",
       "      <th>1</th>\n",
       "      <td>/ladies-c3/leather-jackets-c9</td>\n",
       "      <td>12645</td>\n",
       "      <td>1674452</td>\n",
       "      <td>0.007552</td>\n",
       "      <td>18.219285</td>\n",
       "      <td>10650</td>\n",
       "      <td>8563</td>\n",
       "      <td>0.744738</td>\n",
       "      <td>95.135962</td>\n",
       "      <td>127961</td>\n",
       "      <td>61</td>\n",
       "      <td>0</td>\n",
       "    </tr>\n",
       "    <tr>\n",
       "      <th>2</th>\n",
       "      <td>/</td>\n",
       "      <td>11850</td>\n",
       "      <td>312828</td>\n",
       "      <td>0.037880</td>\n",
       "      <td>19.710234</td>\n",
       "      <td>10067</td>\n",
       "      <td>8165</td>\n",
       "      <td>0.539835</td>\n",
       "      <td>113.636237</td>\n",
       "      <td>161643</td>\n",
       "      <td>134</td>\n",
       "      <td>0</td>\n",
       "    </tr>\n",
       "    <tr>\n",
       "      <th>3</th>\n",
       "      <td>/handbags-c6</td>\n",
       "      <td>6875</td>\n",
       "      <td>720606</td>\n",
       "      <td>0.009541</td>\n",
       "      <td>23.129165</td>\n",
       "      <td>5421</td>\n",
       "      <td>4468</td>\n",
       "      <td>0.750294</td>\n",
       "      <td>90.381295</td>\n",
       "      <td>58332</td>\n",
       "      <td>31</td>\n",
       "      <td>0</td>\n",
       "    </tr>\n",
       "    <tr>\n",
       "      <th>4</th>\n",
       "      <td>/ladies-c3/sheepskin-jackets-c11</td>\n",
       "      <td>5500</td>\n",
       "      <td>382640</td>\n",
       "      <td>0.014374</td>\n",
       "      <td>13.121613</td>\n",
       "      <td>4058</td>\n",
       "      <td>3263</td>\n",
       "      <td>0.757956</td>\n",
       "      <td>88.135781</td>\n",
       "      <td>45401</td>\n",
       "      <td>9</td>\n",
       "      <td>0</td>\n",
       "    </tr>\n",
       "  </tbody>\n",
       "</table>\n",
       "</div>"
      ],
      "text/plain": [
       "        Landing page + query string  Organic Google Search clicks  \\\n",
       "0      /mens-c4/leather-jackets-c25                         14538   \n",
       "1     /ladies-c3/leather-jackets-c9                         12645   \n",
       "2                                 /                         11850   \n",
       "3                      /handbags-c6                          6875   \n",
       "4  /ladies-c3/sheepskin-jackets-c11                          5500   \n",
       "\n",
       "   Organic Google Search impressions  \\\n",
       "0                            1432944   \n",
       "1                            1674452   \n",
       "2                             312828   \n",
       "3                             720606   \n",
       "4                             382640   \n",
       "\n",
       "   Organic Google Search click through rate  \\\n",
       "0                                  0.010146   \n",
       "1                                  0.007552   \n",
       "2                                  0.037880   \n",
       "3                                  0.009541   \n",
       "4                                  0.014374   \n",
       "\n",
       "   Organic Google Search average position  Users  Engaged sessions  \\\n",
       "0                               17.926221  12049              9659   \n",
       "1                               18.219285  10650              8563   \n",
       "2                               19.710234  10067              8165   \n",
       "3                               23.129165   5421              4468   \n",
       "4                               13.121613   4058              3263   \n",
       "\n",
       "   Engagement rate  Average engagement time  Event count  Key events  \\\n",
       "0         0.730028                83.073865       122563          53   \n",
       "1         0.744738                95.135962       127961          61   \n",
       "2         0.539835               113.636237       161643         134   \n",
       "3         0.750294                90.381295        58332          31   \n",
       "4         0.757956                88.135781        45401           9   \n",
       "\n",
       "   Ad revenue  \n",
       "0           0  \n",
       "1           0  \n",
       "2           0  \n",
       "3           0  \n",
       "4           0  "
      ]
     },
     "execution_count": 16,
     "metadata": {},
     "output_type": "execute_result"
    }
   ],
   "source": [
    "df = pd.read_csv('OrganicSearchLandingPage-12Months.csv', skiprows=9)\n",
    "df.head()"
   ]
  },
  {
   "cell_type": "code",
   "execution_count": 17,
   "metadata": {},
   "outputs": [
    {
     "data": {
      "text/plain": [
       "(127497, 1035)"
      ]
     },
     "execution_count": 17,
     "metadata": {},
     "output_type": "execute_result"
    }
   ],
   "source": [
    "df['Engaged sessions'].sum(), df['Key events'].sum()"
   ]
  },
  {
   "cell_type": "code",
   "execution_count": 18,
   "metadata": {},
   "outputs": [
    {
     "data": {
      "text/plain": [
       "fPageType\n",
       "p    2702\n",
       "t    1248\n",
       "m     310\n",
       "c     243\n",
       "0     196\n",
       "     ... \n",
       "D       2\n",
       "T       1\n",
       "H       1\n",
       "S       1\n",
       "6       1\n",
       "Name: count, Length: 64, dtype: int64"
      ]
     },
     "execution_count": 18,
     "metadata": {},
     "output_type": "execute_result"
    }
   ],
   "source": [
    "df['PageType'] = df['Landing page + query string'].str.split('-').str[-1]\n",
    "df['fPageType'] = df['PageType'].astype(str).str[0]\n",
    "df['fPageType'].value_counts()"
   ]
  },
  {
   "cell_type": "code",
   "execution_count": 19,
   "metadata": {},
   "outputs": [],
   "source": [
    "cat_df = df[df['fPageType'] == 'c']\n",
    "prod_df = df[df['fPageType'] == 'p']\n",
    "# other_cat_df = df[(df['fPageType'] != 'p') & (df['fPageType'] != 'c')]\n",
    "# other_cat_df['PageType'] = other_cat_df['Landing page + query string'].str.split('-').str[-2]\n",
    "# other_cat_df['fPageType'] = other_cat_df['PageType'].astype(str).str[0]\n",
    "# other_cat_df = other_cat_df[other_cat_df['fPageType'] == 'c']\n",
    "# cat_df = pd.concat([cat_df, other_cat_df], ignore_index=True)"
   ]
  },
  {
   "cell_type": "code",
   "execution_count": 20,
   "metadata": {},
   "outputs": [
    {
     "data": {
      "text/plain": [
       "(243, 62743, 460)"
      ]
     },
     "execution_count": 20,
     "metadata": {},
     "output_type": "execute_result"
    }
   ],
   "source": [
    "len(cat_df), cat_df['Engaged sessions'].sum(), cat_df['Key events'].sum()"
   ]
  },
  {
   "cell_type": "code",
   "execution_count": 21,
   "metadata": {},
   "outputs": [
    {
     "data": {
      "text/plain": [
       "(2702, 25373, 251)"
      ]
     },
     "execution_count": 21,
     "metadata": {},
     "output_type": "execute_result"
    }
   ],
   "source": [
    "len(prod_df), prod_df['Engaged sessions'].sum(), prod_df['Key events'].sum()"
   ]
  },
  {
   "cell_type": "code",
   "execution_count": null,
   "metadata": {},
   "outputs": [],
   "source": []
  }
 ],
 "metadata": {
  "kernelspec": {
   "display_name": "Python 3",
   "language": "python",
   "name": "python3"
  },
  "language_info": {
   "codemirror_mode": {
    "name": "ipython",
    "version": 3
   },
   "file_extension": ".py",
   "mimetype": "text/x-python",
   "name": "python",
   "nbconvert_exporter": "python",
   "pygments_lexer": "ipython3",
   "version": "3.12.1"
  }
 },
 "nbformat": 4,
 "nbformat_minor": 2
}
