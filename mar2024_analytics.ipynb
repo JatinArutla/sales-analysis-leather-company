{
 "cells": [
  {
   "cell_type": "code",
   "execution_count": 67,
   "metadata": {},
   "outputs": [],
   "source": [
    "import pandas as pd"
   ]
  },
  {
   "cell_type": "code",
   "execution_count": 79,
   "metadata": {},
   "outputs": [],
   "source": [
    "df = pd.read_csv(\"Dec 2023 Analytics.csv\", skiprows=9)\n",
    "df_organic = pd.read_csv(\"Dec 2023 Organic Analytics.csv\", skiprows=9)"
   ]
  },
  {
   "cell_type": "code",
   "execution_count": 80,
   "metadata": {},
   "outputs": [
    {
     "name": "stderr",
     "output_type": "stream",
     "text": [
      "C:\\Users\\retai\\AppData\\Local\\Temp\\ipykernel_5164\\1360214354.py:7: SettingWithCopyWarning: \n",
      "A value is trying to be set on a copy of a slice from a DataFrame.\n",
      "Try using .loc[row_indexer,col_indexer] = value instead\n",
      "\n",
      "See the caveats in the documentation: https://pandas.pydata.org/pandas-docs/stable/user_guide/indexing.html#returning-a-view-versus-a-copy\n",
      "  other_cat_df['PageType'] = other_cat_df['Landing page'].str.split('-').str[-2]\n",
      "C:\\Users\\retai\\AppData\\Local\\Temp\\ipykernel_5164\\1360214354.py:8: SettingWithCopyWarning: \n",
      "A value is trying to be set on a copy of a slice from a DataFrame.\n",
      "Try using .loc[row_indexer,col_indexer] = value instead\n",
      "\n",
      "See the caveats in the documentation: https://pandas.pydata.org/pandas-docs/stable/user_guide/indexing.html#returning-a-view-versus-a-copy\n",
      "  other_cat_df['fPageType'] = other_cat_df['PageType'].astype(str).str[0]\n",
      "C:\\Users\\retai\\AppData\\Local\\Temp\\ipykernel_5164\\1360214354.py:19: SettingWithCopyWarning: \n",
      "A value is trying to be set on a copy of a slice from a DataFrame.\n",
      "Try using .loc[row_indexer,col_indexer] = value instead\n",
      "\n",
      "See the caveats in the documentation: https://pandas.pydata.org/pandas-docs/stable/user_guide/indexing.html#returning-a-view-versus-a-copy\n",
      "  other_cat_df_organic['PageType'] = other_cat_df_organic['Landing page + query string'].str.split('-').str[-2]\n",
      "C:\\Users\\retai\\AppData\\Local\\Temp\\ipykernel_5164\\1360214354.py:20: SettingWithCopyWarning: \n",
      "A value is trying to be set on a copy of a slice from a DataFrame.\n",
      "Try using .loc[row_indexer,col_indexer] = value instead\n",
      "\n",
      "See the caveats in the documentation: https://pandas.pydata.org/pandas-docs/stable/user_guide/indexing.html#returning-a-view-versus-a-copy\n",
      "  other_cat_df_organic['fPageType'] = other_cat_df_organic['PageType'].astype(str).str[0]\n"
     ]
    }
   ],
   "source": [
    "df['PageType'] = df['Landing page'].str.split('-').str[-1]\n",
    "df['fPageType'] = df['PageType'].astype(str).str[0]\n",
    "\n",
    "cat_df = df[df['fPageType'] == 'c']\n",
    "prod_df = df[df['fPageType'] == 'p']\n",
    "other_cat_df = df[(df['fPageType'] != 'p') & (df['fPageType'] != 'c')]\n",
    "other_cat_df['PageType'] = other_cat_df['Landing page'].str.split('-').str[-2]\n",
    "other_cat_df['fPageType'] = other_cat_df['PageType'].astype(str).str[0]\n",
    "other_cat_df = other_cat_df[other_cat_df['fPageType'] == 'c']\n",
    "cat_df = pd.concat([cat_df, other_cat_df], ignore_index=True)\n",
    "\n",
    "\n",
    "df_organic['PageType'] = df_organic['Landing page + query string'].str.split('-').str[-1]\n",
    "df_organic['fPageType'] = df_organic['PageType'].astype(str).str[0]\n",
    "\n",
    "cat_df_organic = df_organic[df_organic['fPageType'] == 'c']\n",
    "prod_df_organic = df_organic[df_organic['fPageType'] == 'p']\n",
    "other_cat_df_organic = df_organic[(df_organic['fPageType'] != 'p') & (df_organic['fPageType'] != 'c')]\n",
    "other_cat_df_organic['PageType'] = other_cat_df_organic['Landing page + query string'].str.split('-').str[-2]\n",
    "other_cat_df_organic['fPageType'] = other_cat_df_organic['PageType'].astype(str).str[0]\n",
    "other_cat_df_organic = other_cat_df_organic[other_cat_df_organic['fPageType'] == 'c']\n",
    "cat_df_organic = pd.concat([cat_df_organic, other_cat_df_organic], ignore_index=True)"
   ]
  },
  {
   "cell_type": "code",
   "execution_count": 81,
   "metadata": {},
   "outputs": [
    {
     "data": {
      "text/plain": [
       "Sessions         345756.000000\n",
       "Users            294487.000000\n",
       "Key events         2977.000000\n",
       "Total revenue    317113.418379\n",
       "dtype: float64"
      ]
     },
     "execution_count": 81,
     "metadata": {},
     "output_type": "execute_result"
    }
   ],
   "source": [
    "df[['Sessions', 'Users', 'Key events', 'Total revenue']].sum()"
   ]
  },
  {
   "cell_type": "code",
   "execution_count": 82,
   "metadata": {},
   "outputs": [
    {
     "data": {
      "text/plain": [
       "Engaged sessions    24008\n",
       "Users               31248\n",
       "Key events            243\n",
       "dtype: int64"
      ]
     },
     "execution_count": 82,
     "metadata": {},
     "output_type": "execute_result"
    }
   ],
   "source": [
    "df_organic[['Engaged sessions', 'Users', 'Key events']].sum()"
   ]
  },
  {
   "cell_type": "code",
   "execution_count": 83,
   "metadata": {},
   "outputs": [
    {
     "data": {
      "text/plain": [
       "Sessions         243690.00\n",
       "Users            210020.00\n",
       "Key events         1712.00\n",
       "Total revenue    167757.96\n",
       "dtype: float64"
      ]
     },
     "execution_count": 83,
     "metadata": {},
     "output_type": "execute_result"
    }
   ],
   "source": [
    "prod_df[['Sessions', 'Users', 'Key events', 'Total revenue']].sum()"
   ]
  },
  {
   "cell_type": "code",
   "execution_count": 84,
   "metadata": {},
   "outputs": [
    {
     "data": {
      "text/plain": [
       "Sessions         59069.000000\n",
       "Users            49839.000000\n",
       "Key events         463.000000\n",
       "Total revenue    53505.397143\n",
       "dtype: float64"
      ]
     },
     "execution_count": 84,
     "metadata": {},
     "output_type": "execute_result"
    }
   ],
   "source": [
    "cat_df[['Sessions', 'Users', 'Key events', 'Total revenue']].sum()"
   ]
  },
  {
   "cell_type": "code",
   "execution_count": 85,
   "metadata": {},
   "outputs": [
    {
     "data": {
      "text/plain": [
       "Engaged sessions    4722\n",
       "Users               6594\n",
       "Key events            53\n",
       "dtype: int64"
      ]
     },
     "execution_count": 85,
     "metadata": {},
     "output_type": "execute_result"
    }
   ],
   "source": [
    "prod_df_organic[['Engaged sessions', 'Users', 'Key events']].sum()"
   ]
  },
  {
   "cell_type": "code",
   "execution_count": 86,
   "metadata": {},
   "outputs": [
    {
     "data": {
      "text/plain": [
       "Engaged sessions    15964\n",
       "Users               20065\n",
       "Key events            151\n",
       "dtype: int64"
      ]
     },
     "execution_count": 86,
     "metadata": {},
     "output_type": "execute_result"
    }
   ],
   "source": [
    "cat_df_organic[['Engaged sessions', 'Users', 'Key events']].sum()"
   ]
  },
  {
   "cell_type": "code",
   "execution_count": null,
   "metadata": {},
   "outputs": [],
   "source": []
  },
  {
   "cell_type": "code",
   "execution_count": null,
   "metadata": {},
   "outputs": [],
   "source": []
  }
 ],
 "metadata": {
  "kernelspec": {
   "display_name": "Python 3",
   "language": "python",
   "name": "python3"
  },
  "language_info": {
   "codemirror_mode": {
    "name": "ipython",
    "version": 3
   },
   "file_extension": ".py",
   "mimetype": "text/x-python",
   "name": "python",
   "nbconvert_exporter": "python",
   "pygments_lexer": "ipython3",
   "version": "3.12.1"
  }
 },
 "nbformat": 4,
 "nbformat_minor": 2
}
