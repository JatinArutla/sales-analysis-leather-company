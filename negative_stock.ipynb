{
 "cells": [
  {
   "cell_type": "code",
   "execution_count": 187,
   "metadata": {},
   "outputs": [],
   "source": [
    "import pandas as pd\n",
    "import numpy as np"
   ]
  },
  {
   "cell_type": "code",
   "execution_count": 188,
   "metadata": {},
   "outputs": [
    {
     "data": {
      "text/html": [
       "<div>\n",
       "<style scoped>\n",
       "    .dataframe tbody tr th:only-of-type {\n",
       "        vertical-align: middle;\n",
       "    }\n",
       "\n",
       "    .dataframe tbody tr th {\n",
       "        vertical-align: top;\n",
       "    }\n",
       "\n",
       "    .dataframe thead th {\n",
       "        text-align: right;\n",
       "    }\n",
       "</style>\n",
       "<table border=\"1\" class=\"dataframe\">\n",
       "  <thead>\n",
       "    <tr style=\"text-align: right;\">\n",
       "      <th></th>\n",
       "      <th>Style</th>\n",
       "      <th>Brand</th>\n",
       "    </tr>\n",
       "  </thead>\n",
       "  <tbody>\n",
       "    <tr>\n",
       "      <th>0</th>\n",
       "      <td>AL FRANCO</td>\n",
       "      <td>AL FRANCO</td>\n",
       "    </tr>\n",
       "    <tr>\n",
       "      <th>1</th>\n",
       "      <td>ANAPHORA</td>\n",
       "      <td>ANAPHORA</td>\n",
       "    </tr>\n",
       "    <tr>\n",
       "      <th>2</th>\n",
       "      <td>ASHWOOD</td>\n",
       "      <td>ASHWOOD</td>\n",
       "    </tr>\n",
       "    <tr>\n",
       "      <th>3</th>\n",
       "      <td>B4</td>\n",
       "      <td>B4</td>\n",
       "    </tr>\n",
       "    <tr>\n",
       "      <th>4</th>\n",
       "      <td>BEN SHERMAN</td>\n",
       "      <td>BEN SHERMAN</td>\n",
       "    </tr>\n",
       "    <tr>\n",
       "      <th>...</th>\n",
       "      <td>...</td>\n",
       "      <td>...</td>\n",
       "    </tr>\n",
       "    <tr>\n",
       "      <th>69</th>\n",
       "      <td>TIGHA</td>\n",
       "      <td>TIGHA</td>\n",
       "    </tr>\n",
       "    <tr>\n",
       "      <th>70</th>\n",
       "      <td>TRAPPER</td>\n",
       "      <td>TRAPPER</td>\n",
       "    </tr>\n",
       "    <tr>\n",
       "      <th>71</th>\n",
       "      <td>TRING</td>\n",
       "      <td>TRING</td>\n",
       "    </tr>\n",
       "    <tr>\n",
       "      <th>72</th>\n",
       "      <td>VIA VENETO</td>\n",
       "      <td>VIA VENETO</td>\n",
       "    </tr>\n",
       "    <tr>\n",
       "      <th>73</th>\n",
       "      <td>winner</td>\n",
       "      <td>winner</td>\n",
       "    </tr>\n",
       "  </tbody>\n",
       "</table>\n",
       "<p>74 rows × 2 columns</p>\n",
       "</div>"
      ],
      "text/plain": [
       "          Style        Brand\n",
       "0     AL FRANCO    AL FRANCO\n",
       "1      ANAPHORA     ANAPHORA\n",
       "2       ASHWOOD      ASHWOOD\n",
       "3            B4           B4\n",
       "4   BEN SHERMAN  BEN SHERMAN\n",
       "..          ...          ...\n",
       "69        TIGHA        TIGHA\n",
       "70      TRAPPER      TRAPPER\n",
       "71        TRING        TRING\n",
       "72   VIA VENETO   VIA VENETO\n",
       "73       winner       winner\n",
       "\n",
       "[74 rows x 2 columns]"
      ]
     },
     "execution_count": 188,
     "metadata": {},
     "output_type": "execute_result"
    }
   ],
   "source": [
    "df_brands = pd.read_csv(\"Brands - Fashione.csv\", skiprows=1, dtype=str)\n",
    "df_brands = df_brands[df_brands['Season'] == 'Totals'].reset_index(drop=True)\n",
    "df_brands['Style'] = df_brands['Brand']\n",
    "df_brands = df_brands[['Style', 'Brand']]\n",
    "all_brands = df_brands['Brand'].unique()\n",
    "df_brands"
   ]
  },
  {
   "cell_type": "code",
   "execution_count": 189,
   "metadata": {},
   "outputs": [],
   "source": [
    "# df = pd.read_csv(\"All brands - Fashione.csv\", skiprows=4, dtype=str)\n",
    "# df.reset_index(inplace=True)\n",
    "# df1 = df[((df.dropna(subset=['PLU'])) | (df['PLU'] != 'PLU'))]\n",
    "# df2 = df[~((df.dropna(subset=['PLU'])) | (df['PLU'] != 'PLU'))]\n",
    "# df.shape, df1.shape, df2.shape"
   ]
  },
  {
   "cell_type": "code",
   "execution_count": 190,
   "metadata": {},
   "outputs": [],
   "source": [
    "df = pd.read_csv(\"All brands - Fashione.csv\", skiprows=4, dtype=str)\n",
    "df.reset_index(inplace=True)\n",
    "df2 = df[df['PLU'].isnull()]\n",
    "df1 = df[~df['PLU'].isnull()]\n",
    "df2 = df2[df2['Style'].isin(all_brands)]\n",
    "df2 = df2.drop_duplicates(subset=['Style'], keep='last')\n",
    "df2 = pd.merge(df2, df_brands, how='left', on='Style')\n",
    "df = pd.concat([df1, df2], ignore_index=True)\n",
    "df = df.sort_values(by='index')\n",
    "df = df[df['PLU'] != 'PLU']\n",
    "df.drop(columns=['index'], axis=1, inplace=True)\n",
    "df['Brand'] = df['Brand'].bfill()\n",
    "df = df[~df['PLU'].isnull()].reset_index(drop=True)\n",
    "df['Units'] = df['Units'].astype(np.int64)"
   ]
  },
  {
   "cell_type": "code",
   "execution_count": 191,
   "metadata": {},
   "outputs": [],
   "source": [
    "all_stock_brands = df.groupby(['Brand'])['Units'].sum().reset_index()\n",
    "zero_stock_brands = all_stock_brands[all_stock_brands['Units'] == 0].reset_index(drop=True)\n",
    "list_zero_stock_brands = list(zero_stock_brands['Brand'].unique())\n",
    "list_zero_stock_brands.remove(\"LEATHER COMPANY\")"
   ]
  },
  {
   "cell_type": "code",
   "execution_count": 192,
   "metadata": {},
   "outputs": [],
   "source": [
    "df[df['Brand'].isin(list_zero_stock_brands)][['Style', 'Colour', 'Size', 'Category', 'PLU', 'Unit Cost', 'Units']].to_csv('Delete SKUs with no brand stock.csv', index=False)"
   ]
  },
  {
   "cell_type": "code",
   "execution_count": null,
   "metadata": {},
   "outputs": [],
   "source": []
  }
 ],
 "metadata": {
  "kernelspec": {
   "display_name": "Python 3",
   "language": "python",
   "name": "python3"
  },
  "language_info": {
   "codemirror_mode": {
    "name": "ipython",
    "version": 3
   },
   "file_extension": ".py",
   "mimetype": "text/x-python",
   "name": "python",
   "nbconvert_exporter": "python",
   "pygments_lexer": "ipython3",
   "version": "3.12.1"
  }
 },
 "nbformat": 4,
 "nbformat_minor": 2
}
