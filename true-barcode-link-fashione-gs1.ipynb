{
 "cells": [
  {
   "cell_type": "code",
   "execution_count": 102,
   "metadata": {},
   "outputs": [],
   "source": [
    "import pandas as pd\n",
    "import numpy as np"
   ]
  },
  {
   "cell_type": "code",
   "execution_count": 103,
   "metadata": {},
   "outputs": [],
   "source": [
    "fe = pd.read_csv('Fashione-EAN-PLU.csv', dtype=str)\n",
    "gs1 = pd.read_csv(\"01 All barcodes.csv\", skiprows=3, dtype=str)\n",
    "vs = pd.read_csv('data-for-gs1-from-vs.csv', dtype=str)\n",
    "\n",
    "fe_temp = pd.read_csv('Fashione-EAN-PLU.csv', dtype=str)\n",
    "gs1_temp = pd.read_csv(\"01 All barcodes.csv\", skiprows=3, dtype=str)\n",
    "vs_temp = pd.read_csv('data-for-gs1-from-vs.csv', dtype=str)"
   ]
  },
  {
   "cell_type": "code",
   "execution_count": 104,
   "metadata": {},
   "outputs": [],
   "source": [
    "# vs_temp['Product Name'] = vs_temp['Parent Product Title']\n",
    "# vs_temp['SKU'] = vs_temp['Child Reference']\n",
    "# vs_temp = vs_temp[['Product Name', 'SKU', 'Categories']]\n",
    "# gs1_temp = pd.merge(gs1_temp, vs_temp, on='Product Name', how='left')\n",
    "# gs1_temp['SKU_y'] = gs1_temp['SKU_y'].fillna(gs1_temp['SKU_x'])\n",
    "# gs1_temp.rename(columns={'SKU_y': 'PLU'}, inplace=True)\n",
    "# gs1_temp = gs1_temp[['PLU', 'Number']]"
   ]
  },
  {
   "cell_type": "code",
   "execution_count": 105,
   "metadata": {},
   "outputs": [],
   "source": [
    "# print(fe['EAN'].isnull().sum())\n",
    "# fe = pd.merge(fe, gs1_temp, on='PLU', how='left')\n",
    "# fe['EAN_temp'] = fe['EAN'].fillna(fe['Number'])\n",
    "# print(fe['EAN_temp'].isnull().sum())\n",
    "# list(set(fe['EAN_temp'].values) - set(fe['EAN'].values))"
   ]
  },
  {
   "cell_type": "code",
   "execution_count": 106,
   "metadata": {},
   "outputs": [],
   "source": [
    "# fe[fe['Number'].isin(list(set(fe['EAN_temp'].values) - set(fe['EAN'].values)))].drop(['Number'], axis=1).to_csv('Temp_Fashione_EAN_Fix.csv', index=False)"
   ]
  },
  {
   "cell_type": "code",
   "execution_count": null,
   "metadata": {},
   "outputs": [],
   "source": []
  },
  {
   "cell_type": "code",
   "execution_count": null,
   "metadata": {},
   "outputs": [],
   "source": []
  },
  {
   "cell_type": "code",
   "execution_count": null,
   "metadata": {},
   "outputs": [],
   "source": []
  },
  {
   "cell_type": "code",
   "execution_count": 107,
   "metadata": {},
   "outputs": [],
   "source": [
    "vs['Parent Product Url'] = vs['Parent Product Url'].str.replace('https://www.leathercompany.co.uk', '')\n",
    "vs['Parent Product Url'] = 'https://www.leathercompany.co.uk' + vs['Parent Product Url']\n",
    "\n",
    "vs.rename(columns={'Child Reference': 'PLU'}, inplace=True)\n",
    "vs = vs[['PLU', 'Parent Product Url', 'Child Product Title']]\n",
    "\n",
    "fe = pd.merge(fe, vs, on='PLU', how='left')"
   ]
  },
  {
   "cell_type": "code",
   "execution_count": 108,
   "metadata": {},
   "outputs": [
    {
     "name": "stdout",
     "output_type": "stream",
     "text": [
      "(6005, 10)\n",
      "(6000, 10)\n"
     ]
    }
   ],
   "source": [
    "print(gs1.shape)\n",
    "gs1.drop_duplicates(keep=False, inplace=True)\n",
    "print(gs1.shape)"
   ]
  },
  {
   "cell_type": "code",
   "execution_count": 109,
   "metadata": {},
   "outputs": [],
   "source": [
    "fe = fe.dropna(subset=['EAN'])\n",
    "fe['Size'] = fe['Size'].replace(np.NaN, 'ONE SIZE')\n",
    "fe['Style-Colour-Size'] = fe['Style'] + ' | ' + fe['Colour'] + ' | Size:' + fe['Size']\n",
    "fe['Child Product Title'] = fe['Child Product Title'].replace(np.NaN, '')\n",
    "fe['Temp_Description'] = fe['Style-Colour-Size'] + ' | ' + fe['Child Product Title']\n",
    "fe = fe[['PLU', 'EAN', 'Style-Colour-Size', 'Parent Product Url', 'Temp_Description']]\n",
    "gs1.rename(columns={'Number': 'EAN'}, inplace=True)"
   ]
  },
  {
   "cell_type": "code",
   "execution_count": 110,
   "metadata": {},
   "outputs": [
    {
     "name": "stderr",
     "output_type": "stream",
     "text": [
      "C:\\Users\\retai\\AppData\\Local\\Temp\\ipykernel_21820\\2399808823.py:29: SettingWithCopyWarning: \n",
      "A value is trying to be set on a copy of a slice from a DataFrame.\n",
      "Try using .loc[row_indexer,col_indexer] = value instead\n",
      "\n",
      "See the caveats in the documentation: https://pandas.pydata.org/pandas-docs/stable/user_guide/indexing.html#returning-a-view-versus-a-copy\n",
      "  temp['Root PLU'] = temp['PLU'].str[:-2]\n"
     ]
    },
    {
     "data": {
      "text/plain": [
       "(6000, 10)"
      ]
     },
     "execution_count": 110,
     "metadata": {},
     "output_type": "execute_result"
    }
   ],
   "source": [
    "df = pd.merge(gs1, fe, on='EAN', how='left')\n",
    "\n",
    "nosku_df = df[df['PLU'].isna()]\n",
    "df = df[~df['PLU'].isna()]\n",
    "\n",
    "temp = df.dropna(subset=['Style-Colour-Size'])\n",
    "dict_name_ean = pd.Series(temp['Style-Colour-Size'].values,index=temp['EAN']).to_dict()\n",
    "dict_wrongname_ean = pd.Series(df['Product Name'].values,index=df['EAN']).to_dict()\n",
    "dict_name_ean = dict_wrongname_ean | dict_name_ean\n",
    "df['Product Name'] = df['EAN']\n",
    "df['Product Name'] = df['Product Name'].map(dict_name_ean)\n",
    "temp = df.dropna(subset=['Temp_Description'])\n",
    "dict_descr_ean = pd.Series(temp['Temp_Description'].values,index=temp['EAN']).to_dict()\n",
    "dict_wrongdescr_ean = pd.Series(df['Description'].values,index=df['EAN']).to_dict()\n",
    "dict_descr_ean = dict_wrongdescr_ean | dict_descr_ean\n",
    "df['Description'] = df['EAN']\n",
    "df['Description'] = df['Description'].map(dict_descr_ean)\n",
    "dict_plu_ean = pd.Series(df['PLU'].values,index=df['EAN']).to_dict()\n",
    "df['SKU'] = df['EAN']\n",
    "df['SKU'] = df['SKU'].map(dict_plu_ean)\n",
    "temp = df.dropna(subset=['Product Link'])\n",
    "dict_url_ean = pd.Series(temp['Product Link'].values,index=temp['EAN']).to_dict()\n",
    "dict_wrongurl_ean = pd.Series(df['Product Link'].values,index=df['EAN']).to_dict()\n",
    "dict_url_ean = dict_wrongurl_ean | dict_url_ean\n",
    "df['Product Link'] = df['EAN']\n",
    "df['Product Link'] = df['Product Link'].map(dict_url_ean)\n",
    "\n",
    "temp = df.dropna(subset=['Product Link'])\n",
    "temp['Root PLU'] = temp['PLU'].str[:-2]\n",
    "dict_url_rplu = pd.Series(temp['Parent Product Url'].values,index=temp['Root PLU']).to_dict()\n",
    "df['Root PLU'] = df['PLU'].str[:-2]\n",
    "df['Product Link'] = df['Root PLU']\n",
    "df['Product Link'] = df['Product Link'].map(dict_url_rplu)\n",
    "\n",
    "df['Main Brand'] = 'Ashwood'\n",
    "df['Sub Brand'] = 'N/A'\n",
    "df['MPN'] = 'N/A'\n",
    "df.drop(['Style-Colour-Size', 'PLU', 'Parent Product Url', 'Temp_Description', 'Root PLU'], axis=1, inplace=True)\n",
    "nosku_df.drop(['Style-Colour-Size', 'PLU', 'Parent Product Url', 'Temp_Description'], axis=1, inplace=True)\n",
    "\n",
    "df = pd.concat([df, nosku_df], ignore_index=True)\n",
    "\n",
    "df.shape"
   ]
  },
  {
   "cell_type": "code",
   "execution_count": 111,
   "metadata": {},
   "outputs": [
    {
     "data": {
      "text/plain": [
       "(2131, 10)"
      ]
     },
     "execution_count": 111,
     "metadata": {},
     "output_type": "execute_result"
    }
   ],
   "source": [
    "df = pd.merge(gs1, fe, on='EAN', how='left')\n",
    "\n",
    "nosku_df = df[df['PLU'].isna()]\n",
    "df = df[~df['PLU'].isna()]\n",
    "\n",
    "temp = df.dropna(subset=['Style-Colour-Size'])\n",
    "dict_name_ean = pd.Series(temp['Style-Colour-Size'].values,index=temp['EAN']).to_dict()\n",
    "dict_wrongname_ean = pd.Series(df['Product Name'].values,index=df['EAN']).to_dict()\n",
    "dict_name_ean = dict_wrongname_ean | dict_name_ean\n",
    "df['Product Name'] = df['EAN']\n",
    "df['Product Name'] = df['Product Name'].map(dict_name_ean)\n",
    "temp = df.dropna(subset=['Temp_Description'])\n",
    "dict_descr_ean = pd.Series(temp['Temp_Description'].values,index=temp['EAN']).to_dict()\n",
    "dict_wrongdescr_ean = pd.Series(df['Description'].values,index=df['EAN']).to_dict()\n",
    "dict_descr_ean = dict_wrongdescr_ean | dict_descr_ean\n",
    "df['Description'] = df['EAN']\n",
    "df['Description'] = df['Description'].map(dict_descr_ean)\n",
    "dict_plu_ean = pd.Series(df['PLU'].values,index=df['EAN']).to_dict()\n",
    "df['SKU'] = df['EAN']\n",
    "df['SKU'] = df['SKU'].map(dict_plu_ean)\n",
    "dict_url_ean = pd.Series(df['Parent Product Url'].values,index=df['EAN']).to_dict()\n",
    "df['Product Link'] = df['EAN']\n",
    "df['Product Link'] = df['Product Link'].map(dict_url_ean)\n",
    "df['Main Brand'] = 'Ashwood'\n",
    "df['Sub Brand'] = 'N/A'\n",
    "df['MPN'] = 'N/A'\n",
    "df.drop(['Style-Colour-Size', 'PLU', 'Parent Product Url', 'Temp_Description'], axis=1, inplace=True)\n",
    "nosku_df.drop(['Style-Colour-Size', 'PLU', 'Parent Product Url', 'Temp_Description'], axis=1, inplace=True)\n",
    "\n",
    "stock_df = pd.read_csv('stock_levels_02_may.csv', dtype=str)\n",
    "stock_df = stock_df[['reference', 'stock']]\n",
    "stock_df.rename(columns={'reference': 'SKU', 'stock': 'Stock'}, inplace=True)\n",
    "null_url = df[df['Product Link'].isna()]\n",
    "null_url = pd.merge(null_url, stock_df, on='SKU', how='left')\n",
    "null_url = null_url[['EAN', 'Product Name', 'SKU', 'Stock']].sort_values(by='Stock', ascending=True)\n",
    "null_url.to_csv('Null URLs - Unable to match Fashione PLU.csv', index=False)\n",
    "\n",
    "df['Product Link'] = df['Product Link'].fillna('N/A')\n",
    "\n",
    "# df = pd.concat([df, nosku_df], ignore_index=True)\n",
    "df.rename(columns={'EAN': 'Number'}, inplace=True)\n",
    "df.shape"
   ]
  },
  {
   "cell_type": "code",
   "execution_count": 112,
   "metadata": {},
   "outputs": [
    {
     "name": "stdout",
     "output_type": "stream",
     "text": [
      "(115, 4)\n",
      "(0, 4)\n"
     ]
    }
   ],
   "source": [
    "print(null_url.shape)\n",
    "print(null_url.dropna(subset=['Stock']).shape)"
   ]
  },
  {
   "cell_type": "code",
   "execution_count": 113,
   "metadata": {},
   "outputs": [],
   "source": [
    "df = df.sort_values(by='SKU')"
   ]
  },
  {
   "cell_type": "code",
   "execution_count": 114,
   "metadata": {},
   "outputs": [
    {
     "data": {
      "text/plain": [
       "Number          0\n",
       "Status          0\n",
       "Product Name    0\n",
       "Description     0\n",
       "Main Brand      0\n",
       "Sub Brand       0\n",
       "Product Link    0\n",
       "MPN             0\n",
       "SKU             0\n",
       "Updated         0\n",
       "dtype: int64"
      ]
     },
     "execution_count": 114,
     "metadata": {},
     "output_type": "execute_result"
    }
   ],
   "source": [
    "df.isnull().sum()"
   ]
  },
  {
   "cell_type": "code",
   "execution_count": 115,
   "metadata": {},
   "outputs": [],
   "source": [
    "df.to_csv('Fixed SKU-EAN.csv', index=False)"
   ]
  },
  {
   "cell_type": "code",
   "execution_count": 116,
   "metadata": {},
   "outputs": [
    {
     "data": {
      "text/plain": [
       "(2131, 10)"
      ]
     },
     "execution_count": 116,
     "metadata": {},
     "output_type": "execute_result"
    }
   ],
   "source": [
    "df.shape"
   ]
  },
  {
   "cell_type": "code",
   "execution_count": 117,
   "metadata": {},
   "outputs": [
    {
     "data": {
      "text/plain": [
       "((671, 10), (618, 10), (227, 10), (460, 10), (101, 10), (54, 10))"
      ]
     },
     "execution_count": 117,
     "metadata": {},
     "output_type": "execute_result"
    }
   ],
   "source": [
    "df_506104960 = df[df[\"Number\"].str.contains(\"506104960\")]\n",
    "df_506104299 = df[df[\"Number\"].str.contains(\"506104299\")]\n",
    "df_506102791 = df[df[\"Number\"].str.contains(\"506102791\")]\n",
    "df_506099970 = df[df[\"Number\"].str.contains(\"506099970\")]\n",
    "df_506082128 = df[df[\"Number\"].str.contains(\"506082128\")]\n",
    "df_506047452 = df[df[\"Number\"].str.contains(\"506047452\")]\n",
    "\n",
    "df_506104960.shape, df_506104299.shape, df_506102791.shape, df_506099970.shape, df_506082128.shape, df_506047452.shape"
   ]
  },
  {
   "cell_type": "code",
   "execution_count": 118,
   "metadata": {},
   "outputs": [
    {
     "data": {
      "text/plain": [
       "2131"
      ]
     },
     "execution_count": 118,
     "metadata": {},
     "output_type": "execute_result"
    }
   ],
   "source": [
    "671 + 618 + 227 + 460 + 101 + 54"
   ]
  },
  {
   "cell_type": "code",
   "execution_count": 119,
   "metadata": {},
   "outputs": [],
   "source": [
    "df_506104960.to_csv('Update 506104960.csv', index=False)\n",
    "df_506104299.to_csv('Update 506104299.csv', index=False)\n",
    "df_506102791.to_csv('Update 506102791.csv', index=False)\n",
    "df_506099970.to_csv('Update 506099970.csv', index=False)\n",
    "df_506082128.to_csv('Update 506082128.csv', index=False)\n",
    "df_506047452.to_csv('Update 506047452.csv', index=False)"
   ]
  },
  {
   "cell_type": "code",
   "execution_count": null,
   "metadata": {},
   "outputs": [],
   "source": []
  }
 ],
 "metadata": {
  "kernelspec": {
   "display_name": "Python 3",
   "language": "python",
   "name": "python3"
  },
  "language_info": {
   "codemirror_mode": {
    "name": "ipython",
    "version": 3
   },
   "file_extension": ".py",
   "mimetype": "text/x-python",
   "name": "python",
   "nbconvert_exporter": "python",
   "pygments_lexer": "ipython3",
   "version": "3.12.1"
  }
 },
 "nbformat": 4,
 "nbformat_minor": 2
}
