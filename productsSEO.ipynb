{
 "cells": [
  {
   "cell_type": "code",
   "execution_count": 42,
   "metadata": {},
   "outputs": [],
   "source": [
    "import pandas as pd\n",
    "import numpy as np"
   ]
  },
  {
   "cell_type": "code",
   "execution_count": 43,
   "metadata": {},
   "outputs": [
    {
     "data": {
      "text/html": [
       "<div>\n",
       "<style scoped>\n",
       "    .dataframe tbody tr th:only-of-type {\n",
       "        vertical-align: middle;\n",
       "    }\n",
       "\n",
       "    .dataframe tbody tr th {\n",
       "        vertical-align: top;\n",
       "    }\n",
       "\n",
       "    .dataframe thead th {\n",
       "        text-align: right;\n",
       "    }\n",
       "</style>\n",
       "<table border=\"1\" class=\"dataframe\">\n",
       "  <thead>\n",
       "    <tr style=\"text-align: right;\">\n",
       "      <th></th>\n",
       "      <th>title</th>\n",
       "      <th>model</th>\n",
       "      <th>stock</th>\n",
       "    </tr>\n",
       "  </thead>\n",
       "  <tbody>\n",
       "    <tr>\n",
       "      <th>499</th>\n",
       "      <td>Ladies Leather Gloves Black : NC 8914</td>\n",
       "      <td>NC 8914</td>\n",
       "      <td>798</td>\n",
       "    </tr>\n",
       "    <tr>\n",
       "      <th>781</th>\n",
       "      <td>Mens Leather Sheepskin Gloves Black: DB-705</td>\n",
       "      <td>db-705</td>\n",
       "      <td>627</td>\n",
       "    </tr>\n",
       "  </tbody>\n",
       "</table>\n",
       "</div>"
      ],
      "text/plain": [
       "                                           title    model  stock\n",
       "499        Ladies Leather Gloves Black : NC 8914  NC 8914    798\n",
       "781  Mens Leather Sheepskin Gloves Black: DB-705   db-705    627"
      ]
     },
     "execution_count": 43,
     "metadata": {},
     "output_type": "execute_result"
    }
   ],
   "source": [
    "df_stock = pd.read_csv('stock_levels_11_apr.csv')\n",
    "df_stock = df_stock[df_stock['stock'] > 5]\n",
    "# df_stock['title'] = df_stock['parent_title']\n",
    "df_stock['model'] = df_stock['model'].str.lstrip()\n",
    "df_stock['model'] = df_stock['model'].str.rstrip()\n",
    "df_stock['stock'] = df_stock['stock'].astype(int)\n",
    "# df_stock = df_stock['model', 'stock']\n",
    "df_stock = df_stock.groupby(['title', 'model'])['stock'].sum().reset_index().sort_values(by='stock', ascending=False)\n",
    "df_stock.head(2)"
   ]
  },
  {
   "cell_type": "code",
   "execution_count": 44,
   "metadata": {},
   "outputs": [
    {
     "data": {
      "text/html": [
       "<div>\n",
       "<style scoped>\n",
       "    .dataframe tbody tr th:only-of-type {\n",
       "        vertical-align: middle;\n",
       "    }\n",
       "\n",
       "    .dataframe tbody tr th {\n",
       "        vertical-align: top;\n",
       "    }\n",
       "\n",
       "    .dataframe thead th {\n",
       "        text-align: right;\n",
       "    }\n",
       "</style>\n",
       "<table border=\"1\" class=\"dataframe\">\n",
       "  <thead>\n",
       "    <tr style=\"text-align: right;\">\n",
       "      <th></th>\n",
       "      <th>stock</th>\n",
       "    </tr>\n",
       "  </thead>\n",
       "  <tbody>\n",
       "    <tr>\n",
       "      <th>count</th>\n",
       "      <td>1161.000000</td>\n",
       "    </tr>\n",
       "    <tr>\n",
       "      <th>mean</th>\n",
       "      <td>34.255814</td>\n",
       "    </tr>\n",
       "    <tr>\n",
       "      <th>std</th>\n",
       "      <td>62.406489</td>\n",
       "    </tr>\n",
       "    <tr>\n",
       "      <th>min</th>\n",
       "      <td>6.000000</td>\n",
       "    </tr>\n",
       "    <tr>\n",
       "      <th>25%</th>\n",
       "      <td>8.000000</td>\n",
       "    </tr>\n",
       "    <tr>\n",
       "      <th>50%</th>\n",
       "      <td>13.000000</td>\n",
       "    </tr>\n",
       "    <tr>\n",
       "      <th>75%</th>\n",
       "      <td>30.000000</td>\n",
       "    </tr>\n",
       "    <tr>\n",
       "      <th>max</th>\n",
       "      <td>798.000000</td>\n",
       "    </tr>\n",
       "  </tbody>\n",
       "</table>\n",
       "</div>"
      ],
      "text/plain": [
       "             stock\n",
       "count  1161.000000\n",
       "mean     34.255814\n",
       "std      62.406489\n",
       "min       6.000000\n",
       "25%       8.000000\n",
       "50%      13.000000\n",
       "75%      30.000000\n",
       "max     798.000000"
      ]
     },
     "execution_count": 44,
     "metadata": {},
     "output_type": "execute_result"
    }
   ],
   "source": [
    "df_stock.describe()"
   ]
  },
  {
   "cell_type": "code",
   "execution_count": 45,
   "metadata": {},
   "outputs": [
    {
     "data": {
      "text/plain": [
       "(1161, 3)"
      ]
     },
     "execution_count": 45,
     "metadata": {},
     "output_type": "execute_result"
    }
   ],
   "source": [
    "df_stock.shape"
   ]
  },
  {
   "cell_type": "code",
   "execution_count": 46,
   "metadata": {},
   "outputs": [
    {
     "name": "stderr",
     "output_type": "stream",
     "text": [
      "C:\\Users\\retai\\AppData\\Local\\Temp\\ipykernel_16276\\446335821.py:1: DtypeWarning: Columns (1,21) have mixed types. Specify dtype option on import or set low_memory=False.\n",
      "  df_orders = pd.read_csv(\"All orders - short custom description.csv\")\n"
     ]
    },
    {
     "data": {
      "text/plain": [
       "Index(['order_date', 'order_id', 'quantity', 'order_state', 'grand_total_inc',\n",
       "       'reference', 'price_inc', 'date', 'Channel', 'title', 'line', 'model',\n",
       "       'manufacturer_name', 'attribute_summary', 'customs_description',\n",
       "       'colour', 'F_Cat', 'S_Cat', 'T_Cat', 'Category',\n",
       "       'Order fees total amount', 'time'],\n",
       "      dtype='object')"
      ]
     },
     "execution_count": 46,
     "metadata": {},
     "output_type": "execute_result"
    }
   ],
   "source": [
    "df_orders = pd.read_csv(\"All orders - short custom description.csv\")\n",
    "df_orders = df_orders[df_orders['Channel'] == 'Leather Company']\n",
    "df_orders = df_orders[df_orders['date'] > '2023-01-01']\n",
    "df_orders.columns"
   ]
  },
  {
   "cell_type": "code",
   "execution_count": 47,
   "metadata": {},
   "outputs": [
    {
     "name": "stderr",
     "output_type": "stream",
     "text": [
      "C:\\Users\\retai\\AppData\\Local\\Temp\\ipykernel_16276\\2997836646.py:1: DtypeWarning: Columns (1,21) have mixed types. Specify dtype option on import or set low_memory=False.\n",
      "  df_orders = pd.read_csv(\"All orders - short custom description.csv\")\n"
     ]
    },
    {
     "data": {
      "text/plain": [
       "(2893, 3)"
      ]
     },
     "execution_count": 47,
     "metadata": {},
     "output_type": "execute_result"
    }
   ],
   "source": [
    "df_orders = pd.read_csv(\"All orders - short custom description.csv\")\n",
    "df_orders = df_orders[df_orders['Channel'] == 'Leather Company']\n",
    "df_orders = df_orders[df_orders['date'] > '2023-01-01']\n",
    "# df_orders['orders_title'] = df_orders['title']\n",
    "df_orders['model'] = df_orders['model'].str.lstrip()\n",
    "df_orders['model'] = df_orders['model'].str.rstrip()\n",
    "df_orders = df_orders.groupby(['title', 'model'])['quantity'].sum().reset_index().sort_values(by='quantity', ascending=False)\n",
    "df_orders.shape"
   ]
  },
  {
   "cell_type": "code",
   "execution_count": 48,
   "metadata": {},
   "outputs": [
    {
     "data": {
      "text/html": [
       "<div>\n",
       "<style scoped>\n",
       "    .dataframe tbody tr th:only-of-type {\n",
       "        vertical-align: middle;\n",
       "    }\n",
       "\n",
       "    .dataframe tbody tr th {\n",
       "        vertical-align: top;\n",
       "    }\n",
       "\n",
       "    .dataframe thead th {\n",
       "        text-align: right;\n",
       "    }\n",
       "</style>\n",
       "<table border=\"1\" class=\"dataframe\">\n",
       "  <thead>\n",
       "    <tr style=\"text-align: right;\">\n",
       "      <th></th>\n",
       "      <th>title</th>\n",
       "      <th>model</th>\n",
       "      <th>quantity</th>\n",
       "      <th>stock</th>\n",
       "    </tr>\n",
       "  </thead>\n",
       "  <tbody>\n",
       "    <tr>\n",
       "      <th>0</th>\n",
       "      <td>00029084</td>\n",
       "      <td>710</td>\n",
       "      <td>8</td>\n",
       "      <td>23</td>\n",
       "    </tr>\n",
       "    <tr>\n",
       "      <th>1</th>\n",
       "      <td>00048043</td>\n",
       "      <td>5995</td>\n",
       "      <td>20</td>\n",
       "      <td>7</td>\n",
       "    </tr>\n",
       "    <tr>\n",
       "      <th>2</th>\n",
       "      <td>12 Card RFID Protected Leather Purse Black: J-56</td>\n",
       "      <td>J-56</td>\n",
       "      <td>5</td>\n",
       "      <td>11</td>\n",
       "    </tr>\n",
       "    <tr>\n",
       "      <th>3</th>\n",
       "      <td>12 Card RFID Protected Leather Purse Wood Rose...</td>\n",
       "      <td>J-56</td>\n",
       "      <td>5</td>\n",
       "      <td>14</td>\n",
       "    </tr>\n",
       "    <tr>\n",
       "      <th>4</th>\n",
       "      <td>14 Card RFID Protected Large Leather Purse Bla...</td>\n",
       "      <td>s1</td>\n",
       "      <td>62</td>\n",
       "      <td>85</td>\n",
       "    </tr>\n",
       "    <tr>\n",
       "      <th>...</th>\n",
       "      <td>...</td>\n",
       "      <td>...</td>\n",
       "      <td>...</td>\n",
       "      <td>...</td>\n",
       "    </tr>\n",
       "    <tr>\n",
       "      <th>369</th>\n",
       "      <td>Womens Tab Small Zip Top Leather Cross Body Ba...</td>\n",
       "      <td>TAB</td>\n",
       "      <td>22</td>\n",
       "      <td>51</td>\n",
       "    </tr>\n",
       "    <tr>\n",
       "      <th>370</th>\n",
       "      <td>Womens Tab Small Zip Top Leather Cross Body Ba...</td>\n",
       "      <td>TAB</td>\n",
       "      <td>34</td>\n",
       "      <td>30</td>\n",
       "    </tr>\n",
       "    <tr>\n",
       "      <th>371</th>\n",
       "      <td>Woven Classic Large Leather Vintage Crossbody ...</td>\n",
       "      <td>D-72</td>\n",
       "      <td>5</td>\n",
       "      <td>12</td>\n",
       "    </tr>\n",
       "    <tr>\n",
       "      <th>372</th>\n",
       "      <td>Zip And Stitch Detail Leather Gloves Shiraz : 373</td>\n",
       "      <td>373</td>\n",
       "      <td>10</td>\n",
       "      <td>6</td>\n",
       "    </tr>\n",
       "    <tr>\n",
       "      <th>373</th>\n",
       "      <td>Zip Top Leather Cross Body Bag Navy:  Ela 1498</td>\n",
       "      <td>ELA 1498</td>\n",
       "      <td>14</td>\n",
       "      <td>7</td>\n",
       "    </tr>\n",
       "  </tbody>\n",
       "</table>\n",
       "<p>374 rows × 4 columns</p>\n",
       "</div>"
      ],
      "text/plain": [
       "                                                 title     model  quantity  \\\n",
       "0                                             00029084       710         8   \n",
       "1                                             00048043      5995        20   \n",
       "2     12 Card RFID Protected Leather Purse Black: J-56      J-56         5   \n",
       "3    12 Card RFID Protected Leather Purse Wood Rose...      J-56         5   \n",
       "4    14 Card RFID Protected Large Leather Purse Bla...        s1        62   \n",
       "..                                                 ...       ...       ...   \n",
       "369  Womens Tab Small Zip Top Leather Cross Body Ba...       TAB        22   \n",
       "370  Womens Tab Small Zip Top Leather Cross Body Ba...       TAB        34   \n",
       "371  Woven Classic Large Leather Vintage Crossbody ...      D-72         5   \n",
       "372  Zip And Stitch Detail Leather Gloves Shiraz : 373       373        10   \n",
       "373     Zip Top Leather Cross Body Bag Navy:  Ela 1498  ELA 1498        14   \n",
       "\n",
       "     stock  \n",
       "0       23  \n",
       "1        7  \n",
       "2       11  \n",
       "3       14  \n",
       "4       85  \n",
       "..     ...  \n",
       "369     51  \n",
       "370     30  \n",
       "371     12  \n",
       "372      6  \n",
       "373      7  \n",
       "\n",
       "[374 rows x 4 columns]"
      ]
     },
     "execution_count": 48,
     "metadata": {},
     "output_type": "execute_result"
    }
   ],
   "source": [
    "result = pd.merge(df_orders, df_stock, on=[\"title\", \"model\"], how=\"left\")\n",
    "result = result.dropna()\n",
    "result['stock'] = result['stock'].astype(int)\n",
    "# result = result[['stock_title', 'model', 'quantity', 'stock']]\n",
    "result = result[(result['quantity'] > 4) & (result['stock'] > 4)].reset_index(drop=True).sort_values(by='title').reset_index(drop=True)\n",
    "result"
   ]
  },
  {
   "cell_type": "code",
   "execution_count": 49,
   "metadata": {},
   "outputs": [],
   "source": [
    "result.to_csv('ProductsSEObySalesStock.csv', index=False)"
   ]
  },
  {
   "cell_type": "code",
   "execution_count": null,
   "metadata": {},
   "outputs": [],
   "source": []
  },
  {
   "cell_type": "code",
   "execution_count": null,
   "metadata": {},
   "outputs": [],
   "source": []
  }
 ],
 "metadata": {
  "kernelspec": {
   "display_name": "Python 3",
   "language": "python",
   "name": "python3"
  },
  "language_info": {
   "codemirror_mode": {
    "name": "ipython",
    "version": 3
   },
   "file_extension": ".py",
   "mimetype": "text/x-python",
   "name": "python",
   "nbconvert_exporter": "python",
   "pygments_lexer": "ipython3",
   "version": "3.12.1"
  }
 },
 "nbformat": 4,
 "nbformat_minor": 2
}
