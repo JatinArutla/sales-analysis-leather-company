{
 "cells": [
  {
   "cell_type": "code",
   "execution_count": 63,
   "metadata": {},
   "outputs": [],
   "source": [
    "import pandas as pd\n",
    "import numpy as np"
   ]
  },
  {
   "cell_type": "code",
   "execution_count": 64,
   "metadata": {},
   "outputs": [
    {
     "data": {
      "text/html": [
       "<div>\n",
       "<style scoped>\n",
       "    .dataframe tbody tr th:only-of-type {\n",
       "        vertical-align: middle;\n",
       "    }\n",
       "\n",
       "    .dataframe tbody tr th {\n",
       "        vertical-align: top;\n",
       "    }\n",
       "\n",
       "    .dataframe thead th {\n",
       "        text-align: right;\n",
       "    }\n",
       "</style>\n",
       "<table border=\"1\" class=\"dataframe\">\n",
       "  <thead>\n",
       "    <tr style=\"text-align: right;\">\n",
       "      <th></th>\n",
       "      <th>Products</th>\n",
       "      <th>Root PLU</th>\n",
       "    </tr>\n",
       "  </thead>\n",
       "  <tbody>\n",
       "    <tr>\n",
       "      <th>0</th>\n",
       "      <td>The Bridge 2014 Cartella Brown</td>\n",
       "      <td>00019800</td>\n",
       "    </tr>\n",
       "    <tr>\n",
       "      <th>3</th>\n",
       "      <td>Ashwood Body Bag Black</td>\n",
       "      <td>00020190</td>\n",
       "    </tr>\n",
       "    <tr>\n",
       "      <th>6</th>\n",
       "      <td>Sienna De Luca Cow Fossil Black</td>\n",
       "      <td>00013028</td>\n",
       "    </tr>\n",
       "    <tr>\n",
       "      <th>9</th>\n",
       "      <td>Ashwood Hipster Trousers Black</td>\n",
       "      <td>00019642</td>\n",
       "    </tr>\n",
       "    <tr>\n",
       "      <th>12</th>\n",
       "      <td>Ashwood Hand-held Frolable Suit Carrier Brown</td>\n",
       "      <td>00020231</td>\n",
       "    </tr>\n",
       "  </tbody>\n",
       "</table>\n",
       "</div>"
      ],
      "text/plain": [
       "                                         Products  Root PLU\n",
       "0                  The Bridge 2014 Cartella Brown  00019800\n",
       "3                          Ashwood Body Bag Black  00020190\n",
       "6                 Sienna De Luca Cow Fossil Black  00013028\n",
       "9                  Ashwood Hipster Trousers Black  00019642\n",
       "12  Ashwood Hand-held Frolable Suit Carrier Brown  00020231"
      ]
     },
     "execution_count": 64,
     "metadata": {},
     "output_type": "execute_result"
    }
   ],
   "source": [
    "vs_df = pd.read_csv('VS Product Archive 17_05_2024.csv', dtype=str)\n",
    "vs_df.dropna(subset=['Reference'], inplace=True)\n",
    "vs_df = vs_df[['Products', 'Reference']]\n",
    "vs_df.rename(columns={'Reference': 'Root PLU'}, inplace=True)\n",
    "vs_df.drop_duplicates(subset=['Root PLU'], keep='first', inplace=True)\n",
    "vs_df.head()"
   ]
  },
  {
   "cell_type": "code",
   "execution_count": 65,
   "metadata": {},
   "outputs": [
    {
     "data": {
      "text/plain": [
       "(3185, 2)"
      ]
     },
     "execution_count": 65,
     "metadata": {},
     "output_type": "execute_result"
    }
   ],
   "source": [
    "vs_df.shape"
   ]
  },
  {
   "cell_type": "code",
   "execution_count": 66,
   "metadata": {},
   "outputs": [
    {
     "data": {
      "text/html": [
       "<div>\n",
       "<style scoped>\n",
       "    .dataframe tbody tr th:only-of-type {\n",
       "        vertical-align: middle;\n",
       "    }\n",
       "\n",
       "    .dataframe tbody tr th {\n",
       "        vertical-align: top;\n",
       "    }\n",
       "\n",
       "    .dataframe thead th {\n",
       "        text-align: right;\n",
       "    }\n",
       "</style>\n",
       "<table border=\"1\" class=\"dataframe\">\n",
       "  <thead>\n",
       "    <tr style=\"text-align: right;\">\n",
       "      <th></th>\n",
       "      <th>Root PLU</th>\n",
       "      <th>Units</th>\n",
       "    </tr>\n",
       "  </thead>\n",
       "  <tbody>\n",
       "    <tr>\n",
       "      <th>0</th>\n",
       "      <td>00000001</td>\n",
       "      <td>0</td>\n",
       "    </tr>\n",
       "    <tr>\n",
       "      <th>1</th>\n",
       "      <td>00000015</td>\n",
       "      <td>0</td>\n",
       "    </tr>\n",
       "    <tr>\n",
       "      <th>2</th>\n",
       "      <td>00000029</td>\n",
       "      <td>0</td>\n",
       "    </tr>\n",
       "    <tr>\n",
       "      <th>3</th>\n",
       "      <td>00000043</td>\n",
       "      <td>0</td>\n",
       "    </tr>\n",
       "    <tr>\n",
       "      <th>4</th>\n",
       "      <td>00000057</td>\n",
       "      <td>0</td>\n",
       "    </tr>\n",
       "  </tbody>\n",
       "</table>\n",
       "</div>"
      ],
      "text/plain": [
       "   Root PLU  Units\n",
       "0  00000001      0\n",
       "1  00000015      0\n",
       "2  00000029      0\n",
       "3  00000043      0\n",
       "4  00000057      0"
      ]
     },
     "execution_count": 66,
     "metadata": {},
     "output_type": "execute_result"
    }
   ],
   "source": [
    "df_brands = pd.read_csv(\"Brands - Fashione.csv\", skiprows=1, dtype=str)\n",
    "df_brands = df_brands[df_brands['Season'] == 'Totals'].reset_index(drop=True)\n",
    "df_brands['Style'] = df_brands['Brand']\n",
    "df_brands = df_brands[['Style', 'Brand']]\n",
    "all_brands = df_brands['Brand'].unique()\n",
    "\n",
    "df = pd.read_csv(\"All brands - Fashione.csv\", skiprows=4, dtype=str)\n",
    "df.reset_index(inplace=True)\n",
    "df2 = df[df['PLU'].isnull()]\n",
    "df1 = df[~df['PLU'].isnull()]\n",
    "df2 = df2[df2['Style'].isin(all_brands)]\n",
    "df2 = df2.drop_duplicates(subset=['Style'], keep='last')\n",
    "df2 = pd.merge(df2, df_brands, how='left', on='Style')\n",
    "df = pd.concat([df1, df2], ignore_index=True)\n",
    "df = df.sort_values(by='index')\n",
    "df = df[df['PLU'] != 'PLU']\n",
    "df.drop(columns=['index'], axis=1, inplace=True)\n",
    "df['Brand'] = df['Brand'].bfill()\n",
    "df = df[~df['PLU'].isnull()].reset_index(drop=True)\n",
    "df['Units'] = df['Units'].astype(np.int64)\n",
    "df['Root PLU'] = df['PLU'].str[:-2]\n",
    "temp_df = df.groupby(['Root PLU'])['Units'].sum().reset_index()\n",
    "temp_df.head()"
   ]
  },
  {
   "cell_type": "code",
   "execution_count": 67,
   "metadata": {},
   "outputs": [
    {
     "data": {
      "text/html": [
       "<div>\n",
       "<style scoped>\n",
       "    .dataframe tbody tr th:only-of-type {\n",
       "        vertical-align: middle;\n",
       "    }\n",
       "\n",
       "    .dataframe tbody tr th {\n",
       "        vertical-align: top;\n",
       "    }\n",
       "\n",
       "    .dataframe thead th {\n",
       "        text-align: right;\n",
       "    }\n",
       "</style>\n",
       "<table border=\"1\" class=\"dataframe\">\n",
       "  <thead>\n",
       "    <tr style=\"text-align: right;\">\n",
       "      <th></th>\n",
       "      <th>Products</th>\n",
       "      <th>Root PLU</th>\n",
       "      <th>Units</th>\n",
       "    </tr>\n",
       "  </thead>\n",
       "  <tbody>\n",
       "    <tr>\n",
       "      <th>0</th>\n",
       "      <td>The Bridge 2014 Cartella Brown</td>\n",
       "      <td>00019800</td>\n",
       "      <td>NaN</td>\n",
       "    </tr>\n",
       "    <tr>\n",
       "      <th>1</th>\n",
       "      <td>Ashwood Body Bag Black</td>\n",
       "      <td>00020190</td>\n",
       "      <td>NaN</td>\n",
       "    </tr>\n",
       "    <tr>\n",
       "      <th>2</th>\n",
       "      <td>Sienna De Luca Cow Fossil Black</td>\n",
       "      <td>00013028</td>\n",
       "      <td>NaN</td>\n",
       "    </tr>\n",
       "    <tr>\n",
       "      <th>3</th>\n",
       "      <td>Ashwood Hipster Trousers Black</td>\n",
       "      <td>00019642</td>\n",
       "      <td>0.0</td>\n",
       "    </tr>\n",
       "    <tr>\n",
       "      <th>4</th>\n",
       "      <td>Ashwood Hand-held Frolable Suit Carrier Brown</td>\n",
       "      <td>00020231</td>\n",
       "      <td>6.0</td>\n",
       "    </tr>\n",
       "  </tbody>\n",
       "</table>\n",
       "</div>"
      ],
      "text/plain": [
       "                                        Products  Root PLU  Units\n",
       "0                 The Bridge 2014 Cartella Brown  00019800    NaN\n",
       "1                         Ashwood Body Bag Black  00020190    NaN\n",
       "2                Sienna De Luca Cow Fossil Black  00013028    NaN\n",
       "3                 Ashwood Hipster Trousers Black  00019642    0.0\n",
       "4  Ashwood Hand-held Frolable Suit Carrier Brown  00020231    6.0"
      ]
     },
     "execution_count": 67,
     "metadata": {},
     "output_type": "execute_result"
    }
   ],
   "source": [
    "vs_df = pd.merge(vs_df, temp_df, how='left', on='Root PLU')\n",
    "vs_df.head()"
   ]
  },
  {
   "cell_type": "code",
   "execution_count": 68,
   "metadata": {},
   "outputs": [
    {
     "data": {
      "text/plain": [
       "(3185, 3)"
      ]
     },
     "execution_count": 68,
     "metadata": {},
     "output_type": "execute_result"
    }
   ],
   "source": [
    "vs_df.shape"
   ]
  },
  {
   "cell_type": "code",
   "execution_count": 69,
   "metadata": {},
   "outputs": [],
   "source": [
    "list_delete_root_plu = vs_df[vs_df['Units'] == 0.0]['Root PLU'].unique()"
   ]
  },
  {
   "cell_type": "code",
   "execution_count": 70,
   "metadata": {},
   "outputs": [
    {
     "data": {
      "text/html": [
       "<div>\n",
       "<style scoped>\n",
       "    .dataframe tbody tr th:only-of-type {\n",
       "        vertical-align: middle;\n",
       "    }\n",
       "\n",
       "    .dataframe tbody tr th {\n",
       "        vertical-align: top;\n",
       "    }\n",
       "\n",
       "    .dataframe thead th {\n",
       "        text-align: right;\n",
       "    }\n",
       "</style>\n",
       "<table border=\"1\" class=\"dataframe\">\n",
       "  <thead>\n",
       "    <tr style=\"text-align: right;\">\n",
       "      <th></th>\n",
       "      <th>Style</th>\n",
       "      <th>Unnamed: 1</th>\n",
       "      <th>Colour</th>\n",
       "      <th>Unnamed: 3</th>\n",
       "      <th>Unnamed: 4</th>\n",
       "      <th>Unnamed: 5</th>\n",
       "      <th>Size</th>\n",
       "      <th>Unnamed: 7</th>\n",
       "      <th>Description</th>\n",
       "      <th>Unnamed: 9</th>\n",
       "      <th>...</th>\n",
       "      <th>Category</th>\n",
       "      <th>Unnamed: 12</th>\n",
       "      <th>PLU</th>\n",
       "      <th>Unit Cost</th>\n",
       "      <th>Unit Retail</th>\n",
       "      <th>Units</th>\n",
       "      <th>Total Cost</th>\n",
       "      <th>Total Retail</th>\n",
       "      <th>Brand</th>\n",
       "      <th>Root PLU</th>\n",
       "    </tr>\n",
       "  </thead>\n",
       "  <tbody>\n",
       "    <tr>\n",
       "      <th>0</th>\n",
       "      <td>AL FRANCO</td>\n",
       "      <td>NaN</td>\n",
       "      <td>BLACK</td>\n",
       "      <td>NaN</td>\n",
       "      <td>NaN</td>\n",
       "      <td>NaN</td>\n",
       "      <td>M</td>\n",
       "      <td>NaN</td>\n",
       "      <td>criss cross safari</td>\n",
       "      <td>NaN</td>\n",
       "      <td>...</td>\n",
       "      <td>MENS JACKETS</td>\n",
       "      <td>NaN</td>\n",
       "      <td>0001727504</td>\n",
       "      <td>70.00</td>\n",
       "      <td>349.00</td>\n",
       "      <td>0</td>\n",
       "      <td>0.00</td>\n",
       "      <td>0.00</td>\n",
       "      <td>AL FRANCO</td>\n",
       "      <td>00017275</td>\n",
       "    </tr>\n",
       "    <tr>\n",
       "      <th>1</th>\n",
       "      <td>AL FRANCO</td>\n",
       "      <td>NaN</td>\n",
       "      <td>BLACK</td>\n",
       "      <td>NaN</td>\n",
       "      <td>NaN</td>\n",
       "      <td>NaN</td>\n",
       "      <td>L</td>\n",
       "      <td>NaN</td>\n",
       "      <td>criss cross safari</td>\n",
       "      <td>NaN</td>\n",
       "      <td>...</td>\n",
       "      <td>MENS JACKETS</td>\n",
       "      <td>NaN</td>\n",
       "      <td>0001727505</td>\n",
       "      <td>70.00</td>\n",
       "      <td>349.00</td>\n",
       "      <td>0</td>\n",
       "      <td>0.00</td>\n",
       "      <td>0.00</td>\n",
       "      <td>AL FRANCO</td>\n",
       "      <td>00017275</td>\n",
       "    </tr>\n",
       "    <tr>\n",
       "      <th>2</th>\n",
       "      <td>AL FRANCO</td>\n",
       "      <td>NaN</td>\n",
       "      <td>BLACK</td>\n",
       "      <td>NaN</td>\n",
       "      <td>NaN</td>\n",
       "      <td>NaN</td>\n",
       "      <td>XL</td>\n",
       "      <td>NaN</td>\n",
       "      <td>criss cross safari</td>\n",
       "      <td>NaN</td>\n",
       "      <td>...</td>\n",
       "      <td>MENS JACKETS</td>\n",
       "      <td>NaN</td>\n",
       "      <td>0001727506</td>\n",
       "      <td>70.00</td>\n",
       "      <td>349.00</td>\n",
       "      <td>0</td>\n",
       "      <td>0.00</td>\n",
       "      <td>0.00</td>\n",
       "      <td>AL FRANCO</td>\n",
       "      <td>00017275</td>\n",
       "    </tr>\n",
       "    <tr>\n",
       "      <th>3</th>\n",
       "      <td>AL FRANCO</td>\n",
       "      <td>NaN</td>\n",
       "      <td>BLACK</td>\n",
       "      <td>NaN</td>\n",
       "      <td>NaN</td>\n",
       "      <td>NaN</td>\n",
       "      <td>2XL</td>\n",
       "      <td>NaN</td>\n",
       "      <td>criss cross safari</td>\n",
       "      <td>NaN</td>\n",
       "      <td>...</td>\n",
       "      <td>MENS JACKETS</td>\n",
       "      <td>NaN</td>\n",
       "      <td>0001727507</td>\n",
       "      <td>70.00</td>\n",
       "      <td>349.00</td>\n",
       "      <td>0</td>\n",
       "      <td>0.00</td>\n",
       "      <td>0.00</td>\n",
       "      <td>AL FRANCO</td>\n",
       "      <td>00017275</td>\n",
       "    </tr>\n",
       "    <tr>\n",
       "      <th>4</th>\n",
       "      <td>AL FRANCO</td>\n",
       "      <td>NaN</td>\n",
       "      <td>BLACK</td>\n",
       "      <td>NaN</td>\n",
       "      <td>NaN</td>\n",
       "      <td>NaN</td>\n",
       "      <td>3XL</td>\n",
       "      <td>NaN</td>\n",
       "      <td>criss cross safari</td>\n",
       "      <td>NaN</td>\n",
       "      <td>...</td>\n",
       "      <td>MENS JACKETS</td>\n",
       "      <td>NaN</td>\n",
       "      <td>0001727508</td>\n",
       "      <td>70.00</td>\n",
       "      <td>369.00</td>\n",
       "      <td>0</td>\n",
       "      <td>0.00</td>\n",
       "      <td>0.00</td>\n",
       "      <td>AL FRANCO</td>\n",
       "      <td>00017275</td>\n",
       "    </tr>\n",
       "  </tbody>\n",
       "</table>\n",
       "<p>5 rows × 21 columns</p>\n",
       "</div>"
      ],
      "text/plain": [
       "       Style Unnamed: 1 Colour Unnamed: 3 Unnamed: 4 Unnamed: 5 Size  \\\n",
       "0  AL FRANCO        NaN  BLACK        NaN        NaN        NaN    M   \n",
       "1  AL FRANCO        NaN  BLACK        NaN        NaN        NaN    L   \n",
       "2  AL FRANCO        NaN  BLACK        NaN        NaN        NaN   XL   \n",
       "3  AL FRANCO        NaN  BLACK        NaN        NaN        NaN  2XL   \n",
       "4  AL FRANCO        NaN  BLACK        NaN        NaN        NaN  3XL   \n",
       "\n",
       "  Unnamed: 7         Description Unnamed: 9  ...      Category Unnamed: 12  \\\n",
       "0        NaN  criss cross safari        NaN  ...  MENS JACKETS         NaN   \n",
       "1        NaN  criss cross safari        NaN  ...  MENS JACKETS         NaN   \n",
       "2        NaN  criss cross safari        NaN  ...  MENS JACKETS         NaN   \n",
       "3        NaN  criss cross safari        NaN  ...  MENS JACKETS         NaN   \n",
       "4        NaN  criss cross safari        NaN  ...  MENS JACKETS         NaN   \n",
       "\n",
       "          PLU Unit Cost Unit Retail Units  Total Cost Total Retail      Brand  \\\n",
       "0  0001727504     70.00      349.00     0        0.00         0.00  AL FRANCO   \n",
       "1  0001727505     70.00      349.00     0        0.00         0.00  AL FRANCO   \n",
       "2  0001727506     70.00      349.00     0        0.00         0.00  AL FRANCO   \n",
       "3  0001727507     70.00      349.00     0        0.00         0.00  AL FRANCO   \n",
       "4  0001727508     70.00      369.00     0        0.00         0.00  AL FRANCO   \n",
       "\n",
       "   Root PLU  \n",
       "0  00017275  \n",
       "1  00017275  \n",
       "2  00017275  \n",
       "3  00017275  \n",
       "4  00017275  \n",
       "\n",
       "[5 rows x 21 columns]"
      ]
     },
     "execution_count": 70,
     "metadata": {},
     "output_type": "execute_result"
    }
   ],
   "source": [
    "delete_df = df[df['Root PLU'].isin(list_delete_root_plu)]\n",
    "delete_df.head()"
   ]
  },
  {
   "cell_type": "code",
   "execution_count": 71,
   "metadata": {},
   "outputs": [
    {
     "data": {
      "text/plain": [
       "((18060, 21), (4879, 21))"
      ]
     },
     "execution_count": 71,
     "metadata": {},
     "output_type": "execute_result"
    }
   ],
   "source": [
    "df.shape, delete_df.shape"
   ]
  },
  {
   "cell_type": "code",
   "execution_count": 72,
   "metadata": {},
   "outputs": [],
   "source": [
    "delete_df[['Style', 'Colour', 'Size', 'Description', 'Category', 'PLU', 'Unit Cost', 'Unit Retail', 'Units', 'Brand']].to_csv('Delete SKUs from Fashione - VS Product Archive.csv', index=False)"
   ]
  },
  {
   "cell_type": "code",
   "execution_count": 74,
   "metadata": {},
   "outputs": [
    {
     "name": "stdout",
     "output_type": "stream",
     "text": [
      "<class 'pandas.core.frame.DataFrame'>\n",
      "Index: 4879 entries, 0 to 18051\n",
      "Data columns (total 21 columns):\n",
      " #   Column        Non-Null Count  Dtype \n",
      "---  ------        --------------  ----- \n",
      " 0   Style         4879 non-null   object\n",
      " 1   Unnamed: 1    0 non-null      object\n",
      " 2   Colour        4875 non-null   object\n",
      " 3   Unnamed: 3    0 non-null      object\n",
      " 4   Unnamed: 4    0 non-null      object\n",
      " 5   Unnamed: 5    0 non-null      object\n",
      " 6   Size          4097 non-null   object\n",
      " 7   Unnamed: 7    0 non-null      object\n",
      " 8   Description   4879 non-null   object\n",
      " 9   Unnamed: 9    0 non-null      object\n",
      " 10  Unnamed: 10   0 non-null      object\n",
      " 11  Category      4879 non-null   object\n",
      " 12  Unnamed: 12   0 non-null      object\n",
      " 13  PLU           4879 non-null   object\n",
      " 14  Unit Cost     4879 non-null   object\n",
      " 15  Unit Retail   4879 non-null   object\n",
      " 16  Units         4879 non-null   int64 \n",
      " 17  Total Cost    4879 non-null   object\n",
      " 18  Total Retail  4879 non-null   object\n",
      " 19  Brand         4879 non-null   object\n",
      " 20  Root PLU      4879 non-null   object\n",
      "dtypes: int64(1), object(20)\n",
      "memory usage: 838.6+ KB\n"
     ]
    }
   ],
   "source": [
    "delete_df.info()"
   ]
  },
  {
   "cell_type": "code",
   "execution_count": null,
   "metadata": {},
   "outputs": [],
   "source": []
  }
 ],
 "metadata": {
  "kernelspec": {
   "display_name": "Python 3",
   "language": "python",
   "name": "python3"
  },
  "language_info": {
   "codemirror_mode": {
    "name": "ipython",
    "version": 3
   },
   "file_extension": ".py",
   "mimetype": "text/x-python",
   "name": "python",
   "nbconvert_exporter": "python",
   "pygments_lexer": "ipython3",
   "version": "3.12.1"
  }
 },
 "nbformat": 4,
 "nbformat_minor": 2
}
