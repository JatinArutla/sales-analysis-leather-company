{
 "cells": [
  {
   "cell_type": "code",
   "execution_count": 68,
   "metadata": {},
   "outputs": [],
   "source": [
    "import pandas as pd\n",
    "import numpy as np"
   ]
  },
  {
   "cell_type": "code",
   "execution_count": 69,
   "metadata": {},
   "outputs": [
    {
     "name": "stdout",
     "output_type": "stream",
     "text": [
      "<class 'pandas.core.frame.DataFrame'>\n",
      "RangeIndex: 48098 entries, 0 to 48097\n",
      "Data columns (total 11 columns):\n",
      " #   Column       Non-Null Count  Dtype \n",
      "---  ------       --------------  ----- \n",
      " 0   Brand        47809 non-null  object\n",
      " 1   Style        48098 non-null  object\n",
      " 2   Colour       46341 non-null  object\n",
      " 3   Size         43664 non-null  object\n",
      " 4   Description  48098 non-null  object\n",
      " 5   PLU          48098 non-null  object\n",
      " 6   Cost         48098 non-null  object\n",
      " 7   Retail       48098 non-null  object\n",
      " 8   Second       48098 non-null  object\n",
      " 9   Wholesale    48098 non-null  object\n",
      " 10  Unnamed: 10  0 non-null      object\n",
      "dtypes: object(11)\n",
      "memory usage: 4.0+ MB\n"
     ]
    }
   ],
   "source": [
    "df = pd.read_csv(\"SIZE PRICES.csv\", dtype=str)\n",
    "df.info()"
   ]
  },
  {
   "cell_type": "code",
   "execution_count": 70,
   "metadata": {},
   "outputs": [
    {
     "data": {
      "text/html": [
       "<div>\n",
       "<style scoped>\n",
       "    .dataframe tbody tr th:only-of-type {\n",
       "        vertical-align: middle;\n",
       "    }\n",
       "\n",
       "    .dataframe tbody tr th {\n",
       "        vertical-align: top;\n",
       "    }\n",
       "\n",
       "    .dataframe thead th {\n",
       "        text-align: right;\n",
       "    }\n",
       "</style>\n",
       "<table border=\"1\" class=\"dataframe\">\n",
       "  <thead>\n",
       "    <tr style=\"text-align: right;\">\n",
       "      <th></th>\n",
       "      <th>Brand</th>\n",
       "      <th>Style</th>\n",
       "      <th>Colour</th>\n",
       "      <th>Size</th>\n",
       "      <th>Description</th>\n",
       "      <th>PLU</th>\n",
       "      <th>Cost</th>\n",
       "      <th>Retail</th>\n",
       "      <th>Second</th>\n",
       "      <th>Wholesale</th>\n",
       "      <th>Unnamed: 10</th>\n",
       "    </tr>\n",
       "  </thead>\n",
       "  <tbody>\n",
       "    <tr>\n",
       "      <th>10701</th>\n",
       "      <td>ASHWOOD</td>\n",
       "      <td>AWM-441</td>\n",
       "      <td>BLACK/NAP</td>\n",
       "      <td>8XL</td>\n",
       "      <td>BIKER STYLE</td>\n",
       "      <td>0001467513</td>\n",
       "      <td>63.00</td>\n",
       "      <td>279.00</td>\n",
       "      <td>0.00</td>\n",
       "      <td>63.00</td>\n",
       "      <td>NaN</td>\n",
       "    </tr>\n",
       "  </tbody>\n",
       "</table>\n",
       "</div>"
      ],
      "text/plain": [
       "         Brand    Style     Colour Size  Description         PLU   Cost  \\\n",
       "10701  ASHWOOD  AWM-441  BLACK/NAP  8XL  BIKER STYLE  0001467513  63.00   \n",
       "\n",
       "       Retail Second Wholesale Unnamed: 10  \n",
       "10701  279.00   0.00     63.00         NaN  "
      ]
     },
     "execution_count": 70,
     "metadata": {},
     "output_type": "execute_result"
    }
   ],
   "source": [
    "df[df['PLU'] == '0001467513']"
   ]
  },
  {
   "cell_type": "code",
   "execution_count": 71,
   "metadata": {},
   "outputs": [
    {
     "data": {
      "text/html": [
       "<div>\n",
       "<style scoped>\n",
       "    .dataframe tbody tr th:only-of-type {\n",
       "        vertical-align: middle;\n",
       "    }\n",
       "\n",
       "    .dataframe tbody tr th {\n",
       "        vertical-align: top;\n",
       "    }\n",
       "\n",
       "    .dataframe thead th {\n",
       "        text-align: right;\n",
       "    }\n",
       "</style>\n",
       "<table border=\"1\" class=\"dataframe\">\n",
       "  <thead>\n",
       "    <tr style=\"text-align: right;\">\n",
       "      <th></th>\n",
       "      <th>Brand</th>\n",
       "      <th>Style</th>\n",
       "      <th>Colour</th>\n",
       "      <th>Size</th>\n",
       "      <th>Description</th>\n",
       "      <th>PLU</th>\n",
       "      <th>Cost</th>\n",
       "      <th>Retail</th>\n",
       "      <th>Second</th>\n",
       "      <th>Wholesale</th>\n",
       "      <th>Unnamed: 10</th>\n",
       "      <th>Parent Reference</th>\n",
       "    </tr>\n",
       "  </thead>\n",
       "  <tbody>\n",
       "    <tr>\n",
       "      <th>0</th>\n",
       "      <td>ASHWOOD</td>\n",
       "      <td>SAMMY</td>\n",
       "      <td>MID BROWN/APP</td>\n",
       "      <td>8XL</td>\n",
       "      <td>2 BUTTON BLAZER LAMB</td>\n",
       "      <td>0000000113</td>\n",
       "      <td>68.0</td>\n",
       "      <td>289.0</td>\n",
       "      <td>0.0</td>\n",
       "      <td>68.0</td>\n",
       "      <td>NaN</td>\n",
       "      <td>00000001</td>\n",
       "    </tr>\n",
       "    <tr>\n",
       "      <th>1</th>\n",
       "      <td>ASHWOOD</td>\n",
       "      <td>SAMMY</td>\n",
       "      <td>MID BROWN/APP</td>\n",
       "      <td>9XL</td>\n",
       "      <td>2 BUTTON BLAZER LAMB</td>\n",
       "      <td>0000000114</td>\n",
       "      <td>0.0</td>\n",
       "      <td>309.0</td>\n",
       "      <td>0.0</td>\n",
       "      <td>0.0</td>\n",
       "      <td>NaN</td>\n",
       "      <td>00000001</td>\n",
       "    </tr>\n",
       "    <tr>\n",
       "      <th>2</th>\n",
       "      <td>ASHWOOD</td>\n",
       "      <td>SAMMY</td>\n",
       "      <td>COGNAC/APP</td>\n",
       "      <td>8XL</td>\n",
       "      <td>2 BUTTON BLAZER LAMB</td>\n",
       "      <td>0000001513</td>\n",
       "      <td>68.0</td>\n",
       "      <td>289.0</td>\n",
       "      <td>0.0</td>\n",
       "      <td>68.0</td>\n",
       "      <td>NaN</td>\n",
       "      <td>00000015</td>\n",
       "    </tr>\n",
       "    <tr>\n",
       "      <th>3</th>\n",
       "      <td>ASHWOOD</td>\n",
       "      <td>SAMMY</td>\n",
       "      <td>COGNAC/APP</td>\n",
       "      <td>9XL</td>\n",
       "      <td>2 BUTTON BLAZER LAMB</td>\n",
       "      <td>0000001514</td>\n",
       "      <td>0.0</td>\n",
       "      <td>309.0</td>\n",
       "      <td>0.0</td>\n",
       "      <td>0.0</td>\n",
       "      <td>NaN</td>\n",
       "      <td>00000015</td>\n",
       "    </tr>\n",
       "    <tr>\n",
       "      <th>4</th>\n",
       "      <td>ASHWOOD</td>\n",
       "      <td>SAMMY</td>\n",
       "      <td>BLACK/NAP</td>\n",
       "      <td>8XL</td>\n",
       "      <td>2 BUTTON BLAZER LAMB</td>\n",
       "      <td>0000002913</td>\n",
       "      <td>68.0</td>\n",
       "      <td>289.0</td>\n",
       "      <td>0.0</td>\n",
       "      <td>68.0</td>\n",
       "      <td>NaN</td>\n",
       "      <td>00000029</td>\n",
       "    </tr>\n",
       "  </tbody>\n",
       "</table>\n",
       "</div>"
      ],
      "text/plain": [
       "     Brand  Style         Colour Size           Description         PLU  Cost  \\\n",
       "0  ASHWOOD  SAMMY  MID BROWN/APP  8XL  2 BUTTON BLAZER LAMB  0000000113  68.0   \n",
       "1  ASHWOOD  SAMMY  MID BROWN/APP  9XL  2 BUTTON BLAZER LAMB  0000000114   0.0   \n",
       "2  ASHWOOD  SAMMY     COGNAC/APP  8XL  2 BUTTON BLAZER LAMB  0000001513  68.0   \n",
       "3  ASHWOOD  SAMMY     COGNAC/APP  9XL  2 BUTTON BLAZER LAMB  0000001514   0.0   \n",
       "4  ASHWOOD  SAMMY      BLACK/NAP  8XL  2 BUTTON BLAZER LAMB  0000002913  68.0   \n",
       "\n",
       "   Retail  Second  Wholesale  Unnamed: 10 Parent Reference  \n",
       "0   289.0     0.0       68.0          NaN         00000001  \n",
       "1   309.0     0.0        0.0          NaN         00000001  \n",
       "2   289.0     0.0       68.0          NaN         00000015  \n",
       "3   309.0     0.0        0.0          NaN         00000015  \n",
       "4   289.0     0.0       68.0          NaN         00000029  "
      ]
     },
     "execution_count": 71,
     "metadata": {},
     "output_type": "execute_result"
    }
   ],
   "source": [
    "df = pd.read_csv(\"SIZE PRICES.csv\", dtype=str)\n",
    "df[\"Parent Reference\"] = df['PLU'].str[:-2]\n",
    "df['Cost'] = df['Cost'].astype(np.float64)\n",
    "df['Retail'] = df['Retail'].astype(np.float64)\n",
    "df['Second'] = df['Second'].astype(np.float64)\n",
    "df['Wholesale'] = df['Wholesale'].astype(np.float64)\n",
    "df['Unnamed: 10'] = df['Unnamed: 10'].astype(np.float64)\n",
    "temp1 = df[((df['Size'] == '8XL') | (df['Size'] == '9XL'))]\n",
    "temp2 = df[~((df['Size'] == '8XL') | (df['Size'] == '9XL'))]\n",
    "temp1 = temp1.sort_values(by='PLU', ascending=True)\n",
    "temp1['Retail'] = temp1['Retail'].replace(0.0, np.NaN)\n",
    "# temp1['Retail'] = temp1['Retail'].fillna(method='ffill')\n",
    "temp1['Retail'] = temp1['Retail'].ffill()\n",
    "df = pd.concat([temp1, temp2], ignore_index=True)\n",
    "df.head()"
   ]
  },
  {
   "cell_type": "code",
   "execution_count": 72,
   "metadata": {},
   "outputs": [],
   "source": [
    "vs_prices = pd.read_csv(\"AdjustedPricesForLargerSizes with_customs.csv\", dtype=str)"
   ]
  },
  {
   "cell_type": "code",
   "execution_count": 73,
   "metadata": {},
   "outputs": [],
   "source": [
    "temp = vs_prices[['customs_description', 'Parent Reference', 'Categories']]\n",
    "temp = temp[~temp.isnull().any(axis=1)]\n",
    "dict_customs_ref = pd.Series(temp.customs_description.values,index=temp['Parent Reference']).to_dict()\n",
    "df['Categories'] = df['Parent Reference']\n",
    "df['Categories'] = df['Categories'].map(dict_customs_ref)"
   ]
  },
  {
   "cell_type": "code",
   "execution_count": 74,
   "metadata": {},
   "outputs": [
    {
     "data": {
      "text/plain": [
       "['Ladies > Leather Jackets',\n",
       " 'Mens > Leather Jackets',\n",
       " 'Mens > Accessories',\n",
       " 'Ladies > Handbags',\n",
       " 'Ladies > Accessories',\n",
       " 'Mens > Sheepskin Jackets',\n",
       " '(No assigned category)',\n",
       " 'Ladies > Skirts & Jeans',\n",
       " 'Sheepskin Hats',\n",
       " 'Ladies > Sheepskin Jackets',\n",
       " 'Mens > Man Bags & Briefcases',\n",
       " 'Gift & Accessories',\n",
       " 'Luggage',\n",
       " 'Home & Living',\n",
       " 'Ladies > Purses',\n",
       " 'Ladies > Footwear',\n",
       " 'Sheepskin & Fur > Footwear',\n",
       " 'Ladies',\n",
       " 'Mens > Footwear',\n",
       " 'Mens > Wallets',\n",
       " 'Sheepskin Rugs',\n",
       " 'Sheepskin Earmuffs',\n",
       " 'Sheepskin & Fur > Kids']"
      ]
     },
     "execution_count": 74,
     "metadata": {},
     "output_type": "execute_result"
    }
   ],
   "source": [
    "list(df['Categories'].value_counts().reset_index()['Categories'])"
   ]
  },
  {
   "cell_type": "code",
   "execution_count": 75,
   "metadata": {},
   "outputs": [
    {
     "name": "stdout",
     "output_type": "stream",
     "text": [
      "(48098, 13) (42506, 13) (5592, 13)\n",
      "(48098, 13)\n"
     ]
    },
    {
     "name": "stderr",
     "output_type": "stream",
     "text": [
      "C:\\Users\\retai\\AppData\\Local\\Temp\\ipykernel_1544\\2403537521.py:38: SettingWithCopyWarning: \n",
      "A value is trying to be set on a copy of a slice from a DataFrame.\n",
      "Try using .loc[row_indexer,col_indexer] = value instead\n",
      "\n",
      "See the caveats in the documentation: https://pandas.pydata.org/pandas-docs/stable/user_guide/indexing.html#returning-a-view-versus-a-copy\n",
      "  mens_temp1['Categories'] = 'Mens > Leather Jackets'\n",
      "C:\\Users\\retai\\AppData\\Local\\Temp\\ipykernel_1544\\2403537521.py:48: SettingWithCopyWarning: \n",
      "A value is trying to be set on a copy of a slice from a DataFrame.\n",
      "Try using .loc[row_indexer,col_indexer] = value instead\n",
      "\n",
      "See the caveats in the documentation: https://pandas.pydata.org/pandas-docs/stable/user_guide/indexing.html#returning-a-view-versus-a-copy\n",
      "  ladies_temp1['Categories'] = 'Ladies > Leather Jackets'\n"
     ]
    }
   ],
   "source": [
    "ladies_sizes = ['8', '10', '12', '14', '16', '18', '20', '22', '24', '26', '28', '30']\n",
    "mens_sizes = ['XS', 'S', 'M', 'L', 'XL', '2XL', '3XL', '4XL', '5XL', '6XL', '7XL', '8XL', '9XL']\n",
    "\n",
    "other_categories = ['Mens > Accessories', 'Ladies > Handbags', 'Ladies > Accessories', 'Ladies > Skirts & Jeans',\n",
    " '(No assigned category)', 'Sheepskin Hats', 'Mens > Man Bags & Briefcases', 'Gift & Accessories', 'Luggage',\n",
    " 'Home & Living', 'Ladies > Purses', 'Ladies > Footwear', 'Sheepskin & Fur > Footwear', 'Ladies', 'Mens > Footwear',\n",
    " 'Mens > Wallets', 'Sheepskin Rugs', 'Sheepskin Earmuffs', 'Sheepskin & Fur > Kids']\n",
    "\n",
    "# temp = df[~df['Categories'].isna()]\n",
    "# temp = temp.drop_duplicates(subset=['Parent Reference'], keep='first')\n",
    "# # temp['Categories'] = 'Mens > Leather Jackets'\n",
    "# temp_dict_categories_ref = pd.Series(temp['Categories'].values,index=temp['Parent Reference']).to_dict()\n",
    "# temp_categories_notnull = df[~df['Categories'].isna()]\n",
    "# temp_categories_null = df[df['Categories'].isna()]\n",
    "# temp_categories_null['Categories'] = temp_categories_null['Parent Reference']\n",
    "# temp_categories_null['Categories'] = temp_categories_null['Categories'].map(temp_dict_categories_ref)\n",
    "# df = pd.concat([temp_categories_null, temp_categories_notnull], ignore_index=True)\n",
    "\n",
    "df_vssame = df[~df['Categories'].isin(other_categories)].copy()\n",
    "df_vsother = df[df['Categories'].isin(other_categories)].copy()\n",
    "\n",
    "print(df.shape, df_vssame.shape, df_vsother.shape)\n",
    "\n",
    "df_gr150 = df_vssame[df_vssame['Retail'] >= 100]\n",
    "df_ls150 = df_vssame[df_vssame['Retail'] < 100]\n",
    "\n",
    "mens_df_jacketgr150 = df_gr150[df_gr150['Size'].isin(mens_sizes)].copy()\n",
    "ladies_df_jacketgr150 = df_gr150[df_gr150['Size'].isin(ladies_sizes)].copy()\n",
    "other_df_jacketgr150 = df_gr150[(~df_gr150['Size'].isin(ladies_sizes)) & (~df_gr150['Size'].isin(mens_sizes))].copy()\n",
    "\n",
    "mens_temp1 = mens_df_jacketgr150[mens_df_jacketgr150['Categories'].isna()]\n",
    "mens_temp2 = mens_df_jacketgr150[~mens_df_jacketgr150['Categories'].isna()]\n",
    "# temp = mens_temp2.drop_duplicates(subset=['Parent Reference'], keep='first')\n",
    "# # temp['Categories'] = 'Mens > Leather Jackets'\n",
    "# temp_dict_categories_ref = pd.Series(temp['Categories'].values,index=temp['Parent Reference']).to_dict()\n",
    "# mens_temp1['Categories'] = mens_temp1['Parent Reference']\n",
    "# mens_temp1['Categories'] = mens_temp1['Categories'].map(temp_dict_categories_ref)\n",
    "mens_temp1['Categories'] = 'Mens > Leather Jackets'\n",
    "mens_df_jacketgr150 = pd.concat([mens_temp1, mens_temp2], ignore_index=True)\n",
    "\n",
    "ladies_temp1 = ladies_df_jacketgr150[ladies_df_jacketgr150['Categories'].isna()]\n",
    "ladies_temp2 = ladies_df_jacketgr150[~ladies_df_jacketgr150['Categories'].isna()]\n",
    "# temp = ladies_temp2.drop_duplicates(subset=['Parent Reference'], keep='first')\n",
    "# # temp['Categories'] = 'Ladies > Leather Jackets'\n",
    "# temp_dict_categories_ref = pd.Series(temp['Categories'].values,index=temp['Parent Reference']).to_dict()\n",
    "# ladies_temp1['Categories'] = ladies_temp1['Parent Reference']\n",
    "# ladies_temp1['Categories'] = ladies_temp1['Categories'].map(temp_dict_categories_ref)\n",
    "ladies_temp1['Categories'] = 'Ladies > Leather Jackets'\n",
    "ladies_df_jacketgr150 = pd.concat([ladies_temp1, ladies_temp2], ignore_index=True)\n",
    "\n",
    "df_gr150 = pd.concat([mens_df_jacketgr150, ladies_df_jacketgr150, other_df_jacketgr150], ignore_index=True)\n",
    "\n",
    "df_vssame = pd.concat([df_gr150, df_ls150], ignore_index=True)\n",
    "\n",
    "df = pd.concat([df_vssame, df_vsother], ignore_index=True)\n",
    "print(df.shape)"
   ]
  },
  {
   "cell_type": "code",
   "execution_count": 76,
   "metadata": {},
   "outputs": [
    {
     "data": {
      "text/html": [
       "<div>\n",
       "<style scoped>\n",
       "    .dataframe tbody tr th:only-of-type {\n",
       "        vertical-align: middle;\n",
       "    }\n",
       "\n",
       "    .dataframe tbody tr th {\n",
       "        vertical-align: top;\n",
       "    }\n",
       "\n",
       "    .dataframe thead th {\n",
       "        text-align: right;\n",
       "    }\n",
       "</style>\n",
       "<table border=\"1\" class=\"dataframe\">\n",
       "  <thead>\n",
       "    <tr style=\"text-align: right;\">\n",
       "      <th></th>\n",
       "      <th>Brand</th>\n",
       "      <th>Style</th>\n",
       "      <th>Colour</th>\n",
       "      <th>Size</th>\n",
       "      <th>Description</th>\n",
       "      <th>PLU</th>\n",
       "      <th>Cost</th>\n",
       "      <th>Retail</th>\n",
       "      <th>Second</th>\n",
       "      <th>Wholesale</th>\n",
       "      <th>Unnamed: 10</th>\n",
       "      <th>Parent Reference</th>\n",
       "      <th>Categories</th>\n",
       "    </tr>\n",
       "  </thead>\n",
       "  <tbody>\n",
       "    <tr>\n",
       "      <th>719</th>\n",
       "      <td>ASHWOOD</td>\n",
       "      <td>AWM-441</td>\n",
       "      <td>BLACK/NAP</td>\n",
       "      <td>9XL</td>\n",
       "      <td>BIKER STYLE</td>\n",
       "      <td>0001467514</td>\n",
       "      <td>0.0</td>\n",
       "      <td>299.0</td>\n",
       "      <td>0.0</td>\n",
       "      <td>0.0</td>\n",
       "      <td>NaN</td>\n",
       "      <td>00014675</td>\n",
       "      <td>Mens &gt; Leather Jackets</td>\n",
       "    </tr>\n",
       "  </tbody>\n",
       "</table>\n",
       "</div>"
      ],
      "text/plain": [
       "       Brand    Style     Colour Size  Description         PLU  Cost  Retail  \\\n",
       "719  ASHWOOD  AWM-441  BLACK/NAP  9XL  BIKER STYLE  0001467514   0.0   299.0   \n",
       "\n",
       "     Second  Wholesale  Unnamed: 10 Parent Reference              Categories  \n",
       "719     0.0        0.0          NaN         00014675  Mens > Leather Jackets  "
      ]
     },
     "execution_count": 76,
     "metadata": {},
     "output_type": "execute_result"
    }
   ],
   "source": [
    "df[df['PLU'] == '0001467514']"
   ]
  },
  {
   "cell_type": "code",
   "execution_count": 77,
   "metadata": {},
   "outputs": [
    {
     "data": {
      "text/plain": [
       "Categories\n",
       "Mens > Leather Jackets          15831\n",
       "Ladies > Leather Jackets        15264\n",
       "Mens > Accessories               1337\n",
       "Ladies > Handbags                1094\n",
       "Ladies > Accessories              942\n",
       "Mens > Sheepskin Jackets          615\n",
       "(No assigned category)            300\n",
       "Ladies > Skirts & Jeans           300\n",
       "Sheepskin Hats                    288\n",
       "Ladies > Sheepskin Jackets        277\n",
       "Mens > Man Bags & Briefcases      211\n",
       "Gift & Accessories                197\n",
       "Luggage                           189\n",
       "Home & Living                     181\n",
       "Ladies > Purses                   175\n",
       "Ladies > Footwear                 142\n",
       "Sheepskin & Fur > Footwear        139\n",
       "Ladies                             23\n",
       "Mens > Footwear                    20\n",
       "Mens > Wallets                     18\n",
       "Sheepskin Rugs                     17\n",
       "Sheepskin Earmuffs                 13\n",
       "Sheepskin & Fur > Kids              6\n",
       "Name: count, dtype: int64"
      ]
     },
     "execution_count": 77,
     "metadata": {},
     "output_type": "execute_result"
    }
   ],
   "source": [
    "df['Categories'].value_counts()"
   ]
  },
  {
   "cell_type": "code",
   "execution_count": 78,
   "metadata": {},
   "outputs": [],
   "source": [
    "mens_df = df[(df['Categories'] == 'Mens > Leather Jackets') | (df['Categories'] == 'Mens > Sheepskin Jackets')]\n",
    "ladies_df = df[(df['Categories'] == 'Ladies > Leather Jackets') | (df['Categories'] == 'Ladies > Sheepskin Jackets')]\n",
    "other_df = df[(df['Categories'] != 'Mens > Leather Jackets') & (df['Categories'] != 'Mens > Sheepskin Jackets') & \n",
    "              (df['Categories'] != 'Ladies > Leather Jackets') & (df['Categories'] != 'Ladies > Sheepskin Jackets')]"
   ]
  },
  {
   "cell_type": "code",
   "execution_count": 79,
   "metadata": {},
   "outputs": [
    {
     "name": "stdout",
     "output_type": "stream",
     "text": [
      "(16446, 13)\n"
     ]
    }
   ],
   "source": [
    "mens_size = ['2XL', '3XL', '4XL', '5XL', '6XL', '7XL', '8XL', '9XL']\n",
    "print(mens_df.shape)\n",
    "mens_df_2XL = mens_df[mens_df['Size'] == '2XL']\n",
    "mens_dict_saleprice_title_2XL = pd.Series(mens_df_2XL['Retail'].values,index=mens_df_2XL['Parent Reference']).to_dict()\n",
    "mens_df_XL = mens_df[mens_df['Size'] == 'XL']\n",
    "mens_dict_saleprice_title_XL = pd.Series(mens_df_XL['Retail'].values,index=mens_df_XL['Parent Reference']).to_dict()\n",
    "mens_df_L = mens_df[mens_df['Size'] == 'L']\n",
    "mens_dict_saleprice_title_L = pd.Series(mens_df_L['Retail'].values,index=mens_df_L['Parent Reference']).to_dict()\n",
    "mens_dict_saleprice_title = mens_dict_saleprice_title_2XL | mens_dict_saleprice_title_XL | mens_dict_saleprice_title_L\n",
    "mens_df_greater18 = mens_df[mens_df['Size'].isin(mens_size)].copy()\n",
    "mens_df_lesseq18 = mens_df[~mens_df['Size'].isin(mens_size)].copy()\n",
    "mens_df_greater18['Retail'] = mens_df_greater18['Parent Reference']\n",
    "mens_df_greater18['Retail'] = mens_df_greater18['Retail'].map(mens_dict_saleprice_title)\n",
    "mens_df = pd.concat([mens_df_lesseq18, mens_df_greater18], ignore_index=True)"
   ]
  },
  {
   "cell_type": "code",
   "execution_count": 80,
   "metadata": {},
   "outputs": [
    {
     "name": "stdout",
     "output_type": "stream",
     "text": [
      "(15541, 13)\n"
     ]
    }
   ],
   "source": [
    "ladies_size = ['18', '20', '22', '24', '26', '28', '30']\n",
    "print(ladies_df.shape)\n",
    "ladies_df_18 = ladies_df[ladies_df['Size'] == '18']\n",
    "dict_saleprice_title_18 = pd.Series(ladies_df_18['Retail'].values,index=ladies_df_18['Parent Reference']).to_dict()\n",
    "ladies_df_10 = ladies_df[ladies_df['Size'] == '10']\n",
    "dict_saleprice_title_10 = pd.Series(ladies_df_10['Retail'].values,index=ladies_df_10['Parent Reference']).to_dict()\n",
    "ladies_df_8 = ladies_df[ladies_df['Size'] == '8']\n",
    "dict_saleprice_title_8 = pd.Series(ladies_df_8['Retail'].values,index=ladies_df_8['Parent Reference']).to_dict()\n",
    "dict_saleprice_title = dict_saleprice_title_18 | dict_saleprice_title_10 | dict_saleprice_title_8\n",
    "ladies_df_greater18 = ladies_df[ladies_df['Size'].isin(ladies_size)].copy()\n",
    "ladies_df_lesseq18 = ladies_df[~ladies_df['Size'].isin(ladies_size)].copy()\n",
    "ladies_df_greater18['Retail'] = ladies_df_greater18['Parent Reference']\n",
    "ladies_df_greater18['Retail'] = ladies_df_greater18['Retail'].map(dict_saleprice_title)\n",
    "ladies_df = pd.concat([ladies_df_lesseq18, ladies_df_greater18], ignore_index=True)"
   ]
  },
  {
   "cell_type": "code",
   "execution_count": 81,
   "metadata": {},
   "outputs": [],
   "source": [
    "mens_size = ['3XL', '4XL', '5XL', '6XL', '7XL', '8XL', '9XL']\n",
    "mens_price_inc = [20, 40, 60, 80, 100, 120, 140]\n",
    "mens_columns = ['Retail']\n",
    "for i in mens_columns:\n",
    "    for j in range(len(mens_size)):\n",
    "        mens_df.loc[mens_df['Size']==mens_size[j], i] = mens_df[i] + mens_price_inc[j]\n",
    "\n",
    "# mens_df_change['Sale Price (Inc VAT)'] = np.where(mens_df_change['Attribute 1 (Size)']=='3XL',mens_df_change['Sale Price (Inc VAT)'].add(20),mens_df_change['Sale Price (Inc VAT)'])"
   ]
  },
  {
   "cell_type": "code",
   "execution_count": 82,
   "metadata": {},
   "outputs": [],
   "source": [
    "ladies_size = ['20', '22', '24', '26', '28', '30']\n",
    "ladies_price_inc = [20, 40, 60, 80, 100, 120]\n",
    "ladies_columns = ['Retail']\n",
    "for i in ladies_columns:\n",
    "    for j in range(len(ladies_size)):\n",
    "        ladies_df.loc[ladies_df['Size']==ladies_size[j], i] = ladies_df[i] + ladies_price_inc[j]"
   ]
  },
  {
   "cell_type": "code",
   "execution_count": 83,
   "metadata": {},
   "outputs": [
    {
     "data": {
      "text/plain": [
       "((48098, 13), (48098, 11))"
      ]
     },
     "execution_count": 83,
     "metadata": {},
     "output_type": "execute_result"
    }
   ],
   "source": [
    "final_df = pd.concat([mens_df, ladies_df, other_df], ignore_index=True)\n",
    "final_df['PLU int'] = final_df['PLU'].astype(np.int64)\n",
    "final_df = final_df.sort_values(by=['Brand', 'Style', 'Colour'], ascending=[True, True, True]).reset_index(drop=True)\n",
    "final_df = final_df.drop(['Parent Reference', 'Categories', 'PLU int'], axis=1)\n",
    "df.shape, final_df.shape"
   ]
  },
  {
   "cell_type": "code",
   "execution_count": 84,
   "metadata": {},
   "outputs": [],
   "source": [
    "final_df.to_csv('Fashione AdjustedPricesForLargerSizes.csv', index=False)"
   ]
  },
  {
   "cell_type": "code",
   "execution_count": 85,
   "metadata": {},
   "outputs": [
    {
     "data": {
      "text/html": [
       "<div>\n",
       "<style scoped>\n",
       "    .dataframe tbody tr th:only-of-type {\n",
       "        vertical-align: middle;\n",
       "    }\n",
       "\n",
       "    .dataframe tbody tr th {\n",
       "        vertical-align: top;\n",
       "    }\n",
       "\n",
       "    .dataframe thead th {\n",
       "        text-align: right;\n",
       "    }\n",
       "</style>\n",
       "<table border=\"1\" class=\"dataframe\">\n",
       "  <thead>\n",
       "    <tr style=\"text-align: right;\">\n",
       "      <th></th>\n",
       "      <th>Brand</th>\n",
       "      <th>Style</th>\n",
       "      <th>Colour</th>\n",
       "      <th>Size</th>\n",
       "      <th>Description</th>\n",
       "      <th>PLU</th>\n",
       "      <th>Cost</th>\n",
       "      <th>Retail</th>\n",
       "      <th>Second</th>\n",
       "      <th>Wholesale</th>\n",
       "      <th>Unnamed: 10</th>\n",
       "    </tr>\n",
       "  </thead>\n",
       "  <tbody>\n",
       "    <tr>\n",
       "      <th>9597</th>\n",
       "      <td>ASHWOOD</td>\n",
       "      <td>AWM-441</td>\n",
       "      <td>BLACK/NAP</td>\n",
       "      <td>9XL</td>\n",
       "      <td>BIKER STYLE</td>\n",
       "      <td>0001467514</td>\n",
       "      <td>0.0</td>\n",
       "      <td>299.0</td>\n",
       "      <td>0.0</td>\n",
       "      <td>0.0</td>\n",
       "      <td>NaN</td>\n",
       "    </tr>\n",
       "  </tbody>\n",
       "</table>\n",
       "</div>"
      ],
      "text/plain": [
       "        Brand    Style     Colour Size  Description         PLU  Cost  Retail  \\\n",
       "9597  ASHWOOD  AWM-441  BLACK/NAP  9XL  BIKER STYLE  0001467514   0.0   299.0   \n",
       "\n",
       "      Second  Wholesale  Unnamed: 10  \n",
       "9597     0.0        0.0          NaN  "
      ]
     },
     "execution_count": 85,
     "metadata": {},
     "output_type": "execute_result"
    }
   ],
   "source": [
    "final_df[final_df['PLU'] == '0001467514']"
   ]
  },
  {
   "cell_type": "code",
   "execution_count": 86,
   "metadata": {},
   "outputs": [
    {
     "data": {
      "text/plain": [
       "229.0"
      ]
     },
     "execution_count": 86,
     "metadata": {},
     "output_type": "execute_result"
    }
   ],
   "source": [
    "dict_saleprice_title_18['00037046']"
   ]
  },
  {
   "cell_type": "code",
   "execution_count": 87,
   "metadata": {},
   "outputs": [
    {
     "data": {
      "text/html": [
       "<div>\n",
       "<style scoped>\n",
       "    .dataframe tbody tr th:only-of-type {\n",
       "        vertical-align: middle;\n",
       "    }\n",
       "\n",
       "    .dataframe tbody tr th {\n",
       "        vertical-align: top;\n",
       "    }\n",
       "\n",
       "    .dataframe thead th {\n",
       "        text-align: right;\n",
       "    }\n",
       "</style>\n",
       "<table border=\"1\" class=\"dataframe\">\n",
       "  <thead>\n",
       "    <tr style=\"text-align: right;\">\n",
       "      <th></th>\n",
       "      <th>Brand</th>\n",
       "      <th>Style</th>\n",
       "      <th>Colour</th>\n",
       "      <th>Size</th>\n",
       "      <th>Description</th>\n",
       "      <th>PLU</th>\n",
       "      <th>Cost</th>\n",
       "      <th>Retail</th>\n",
       "      <th>Second</th>\n",
       "      <th>Wholesale</th>\n",
       "      <th>Unnamed: 10</th>\n",
       "      <th>Parent Reference</th>\n",
       "      <th>Categories</th>\n",
       "    </tr>\n",
       "  </thead>\n",
       "  <tbody>\n",
       "    <tr>\n",
       "      <th>28436</th>\n",
       "      <td>ASHWOOD</td>\n",
       "      <td>N-12</td>\n",
       "      <td>RASPBERRY</td>\n",
       "      <td>18</td>\n",
       "      <td>mandrin biker</td>\n",
       "      <td>0003704606</td>\n",
       "      <td>0.0</td>\n",
       "      <td>229.0</td>\n",
       "      <td>0.0</td>\n",
       "      <td>0.0</td>\n",
       "      <td>NaN</td>\n",
       "      <td>00037046</td>\n",
       "      <td>Ladies &gt; Leather Jackets</td>\n",
       "    </tr>\n",
       "  </tbody>\n",
       "</table>\n",
       "</div>"
      ],
      "text/plain": [
       "         Brand Style     Colour Size    Description         PLU  Cost  Retail  \\\n",
       "28436  ASHWOOD  N-12  RASPBERRY   18  mandrin biker  0003704606   0.0   229.0   \n",
       "\n",
       "       Second  Wholesale  Unnamed: 10 Parent Reference  \\\n",
       "28436     0.0        0.0          NaN         00037046   \n",
       "\n",
       "                     Categories  \n",
       "28436  Ladies > Leather Jackets  "
      ]
     },
     "execution_count": 87,
     "metadata": {},
     "output_type": "execute_result"
    }
   ],
   "source": [
    "ladies_df_greater18[ladies_df_greater18['PLU'] == '0003704606']"
   ]
  },
  {
   "cell_type": "code",
   "execution_count": null,
   "metadata": {},
   "outputs": [],
   "source": []
  }
 ],
 "metadata": {
  "kernelspec": {
   "display_name": "Python 3",
   "language": "python",
   "name": "python3"
  },
  "language_info": {
   "codemirror_mode": {
    "name": "ipython",
    "version": 3
   },
   "file_extension": ".py",
   "mimetype": "text/x-python",
   "name": "python",
   "nbconvert_exporter": "python",
   "pygments_lexer": "ipython3",
   "version": "3.12.1"
  }
 },
 "nbformat": 4,
 "nbformat_minor": 2
}
